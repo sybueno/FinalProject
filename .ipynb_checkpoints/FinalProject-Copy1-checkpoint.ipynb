{
 "cells": [
  {
   "cell_type": "markdown",
   "id": "6dcca0d3",
   "metadata": {},
   "source": [
    "# Data Science Final Project - Shelter Animal Adoptions"
   ]
  },
  {
   "cell_type": "markdown",
   "id": "0ac2d406",
   "metadata": {},
   "source": [
    "## Questions:\n",
    "## 1.  Are animal type, sex, and age significant predictors of shelter dog and cat adoption?\n",
    "## 2.  What time of year are shelter dog and cat adoptions most popular?"
   ]
  },
  {
   "cell_type": "markdown",
   "id": "5e9fac3d",
   "metadata": {},
   "source": [
    "## Import Packages"
   ]
  },
  {
   "cell_type": "code",
   "execution_count": 2,
   "id": "b5368e20",
   "metadata": {},
   "outputs": [],
   "source": [
    "import pandas as pd   # for reading data, data wrangling, visualization, and analysis\n",
    "import numpy as np   # for mathematical operations on arrays (in modeling)\n",
    "from scipy import stats   # for independent chi-square (statistical tests)\n",
    "import statsmodels as sm   # for mcnemar chi-square (statistical tests and models)\n",
    "from statsmodels.stats.contingency_tables import mcnemar   # for mcnemar chi-square\n",
    "import os   # to create \"data\" folder and convert df to csv"
   ]
  },
  {
   "cell_type": "markdown",
   "id": "cab2f9f9",
   "metadata": {},
   "source": [
    "## Import Data"
   ]
  },
  {
   "cell_type": "code",
   "execution_count": 3,
   "id": "97145de3",
   "metadata": {},
   "outputs": [],
   "source": [
    "adoptions = pd.read_csv(\"Austin_Animal_Center_Outcomes.csv\")"
   ]
  },
  {
   "cell_type": "code",
   "execution_count": 4,
   "id": "ad2bfcd6",
   "metadata": {},
   "outputs": [
    {
     "data": {
      "text/html": [
       "<div>\n",
       "<style scoped>\n",
       "    .dataframe tbody tr th:only-of-type {\n",
       "        vertical-align: middle;\n",
       "    }\n",
       "\n",
       "    .dataframe tbody tr th {\n",
       "        vertical-align: top;\n",
       "    }\n",
       "\n",
       "    .dataframe thead th {\n",
       "        text-align: right;\n",
       "    }\n",
       "</style>\n",
       "<table border=\"1\" class=\"dataframe\">\n",
       "  <thead>\n",
       "    <tr style=\"text-align: right;\">\n",
       "      <th></th>\n",
       "      <th>Animal ID</th>\n",
       "      <th>Name</th>\n",
       "      <th>DateTime</th>\n",
       "      <th>MonthYear</th>\n",
       "      <th>Date of Birth</th>\n",
       "      <th>Outcome Type</th>\n",
       "      <th>Outcome Subtype</th>\n",
       "      <th>Animal Type</th>\n",
       "      <th>Sex upon Outcome</th>\n",
       "      <th>Age upon Outcome</th>\n",
       "      <th>Breed</th>\n",
       "      <th>Color</th>\n",
       "    </tr>\n",
       "  </thead>\n",
       "  <tbody>\n",
       "    <tr>\n",
       "      <th>0</th>\n",
       "      <td>A794011</td>\n",
       "      <td>Chunk</td>\n",
       "      <td>5/8/2019 18:20</td>\n",
       "      <td>19-May</td>\n",
       "      <td>5/2/2017</td>\n",
       "      <td>Rto-Adopt</td>\n",
       "      <td>NaN</td>\n",
       "      <td>Cat</td>\n",
       "      <td>Neutered Male</td>\n",
       "      <td>2 years</td>\n",
       "      <td>Domestic Shorthair Mix</td>\n",
       "      <td>Brown Tabby/White</td>\n",
       "    </tr>\n",
       "    <tr>\n",
       "      <th>1</th>\n",
       "      <td>A776359</td>\n",
       "      <td>Gizmo</td>\n",
       "      <td>7/18/2018 16:02</td>\n",
       "      <td>18-Jul</td>\n",
       "      <td>7/12/2017</td>\n",
       "      <td>Adoption</td>\n",
       "      <td>NaN</td>\n",
       "      <td>Dog</td>\n",
       "      <td>Neutered Male</td>\n",
       "      <td>1 year</td>\n",
       "      <td>Chihuahua Shorthair Mix</td>\n",
       "      <td>White/Brown</td>\n",
       "    </tr>\n",
       "    <tr>\n",
       "      <th>2</th>\n",
       "      <td>A821648</td>\n",
       "      <td>NaN</td>\n",
       "      <td>8/16/2020 11:38</td>\n",
       "      <td>20-Aug</td>\n",
       "      <td>8/16/2019</td>\n",
       "      <td>Euthanasia</td>\n",
       "      <td>NaN</td>\n",
       "      <td>Other</td>\n",
       "      <td>Unknown</td>\n",
       "      <td>1 year</td>\n",
       "      <td>Raccoon</td>\n",
       "      <td>Gray</td>\n",
       "    </tr>\n",
       "    <tr>\n",
       "      <th>3</th>\n",
       "      <td>A720371</td>\n",
       "      <td>Moose</td>\n",
       "      <td>2/13/2016 17:59</td>\n",
       "      <td>16-Feb</td>\n",
       "      <td>10/8/2015</td>\n",
       "      <td>Adoption</td>\n",
       "      <td>NaN</td>\n",
       "      <td>Dog</td>\n",
       "      <td>Neutered Male</td>\n",
       "      <td>4 months</td>\n",
       "      <td>Anatol Shepherd/Labrador Retriever</td>\n",
       "      <td>Buff</td>\n",
       "    </tr>\n",
       "    <tr>\n",
       "      <th>4</th>\n",
       "      <td>A674754</td>\n",
       "      <td>NaN</td>\n",
       "      <td>3/18/2014 11:47</td>\n",
       "      <td>14-Mar</td>\n",
       "      <td>3/12/2014</td>\n",
       "      <td>Transfer</td>\n",
       "      <td>Partner</td>\n",
       "      <td>Cat</td>\n",
       "      <td>Intact Male</td>\n",
       "      <td>6 days</td>\n",
       "      <td>Domestic Shorthair Mix</td>\n",
       "      <td>Orange Tabby</td>\n",
       "    </tr>\n",
       "  </tbody>\n",
       "</table>\n",
       "</div>"
      ],
      "text/plain": [
       "  Animal ID   Name         DateTime MonthYear Date of Birth Outcome Type  \\\n",
       "0   A794011  Chunk   5/8/2019 18:20    19-May      5/2/2017    Rto-Adopt   \n",
       "1   A776359  Gizmo  7/18/2018 16:02    18-Jul     7/12/2017     Adoption   \n",
       "2   A821648    NaN  8/16/2020 11:38    20-Aug     8/16/2019   Euthanasia   \n",
       "3   A720371  Moose  2/13/2016 17:59    16-Feb     10/8/2015     Adoption   \n",
       "4   A674754    NaN  3/18/2014 11:47    14-Mar     3/12/2014     Transfer   \n",
       "\n",
       "  Outcome Subtype Animal Type Sex upon Outcome Age upon Outcome  \\\n",
       "0             NaN         Cat    Neutered Male          2 years   \n",
       "1             NaN         Dog    Neutered Male           1 year   \n",
       "2             NaN       Other          Unknown           1 year   \n",
       "3             NaN         Dog    Neutered Male         4 months   \n",
       "4         Partner         Cat      Intact Male           6 days   \n",
       "\n",
       "                                Breed              Color  \n",
       "0              Domestic Shorthair Mix  Brown Tabby/White  \n",
       "1             Chihuahua Shorthair Mix        White/Brown  \n",
       "2                             Raccoon               Gray  \n",
       "3  Anatol Shepherd/Labrador Retriever               Buff  \n",
       "4              Domestic Shorthair Mix       Orange Tabby  "
      ]
     },
     "execution_count": 4,
     "metadata": {},
     "output_type": "execute_result"
    }
   ],
   "source": [
    "adoptions.head()"
   ]
  },
  {
   "cell_type": "markdown",
   "id": "d724c03a",
   "metadata": {},
   "source": [
    "## Data Wrangling"
   ]
  },
  {
   "cell_type": "markdown",
   "id": "1e2b341f",
   "metadata": {},
   "source": [
    "### Keep only relevant columns"
   ]
  },
  {
   "cell_type": "code",
   "execution_count": 5,
   "id": "250a52d4",
   "metadata": {},
   "outputs": [],
   "source": [
    "adoptions1 = adoptions[[\"MonthYear\", \"Outcome Type\", \"Animal Type\", \"Sex upon Outcome\", \"Age upon Outcome\", \"Breed\", \"Color\"]]"
   ]
  },
  {
   "cell_type": "code",
   "execution_count": 6,
   "id": "31e807ae",
   "metadata": {},
   "outputs": [
    {
     "data": {
      "text/html": [
       "<div>\n",
       "<style scoped>\n",
       "    .dataframe tbody tr th:only-of-type {\n",
       "        vertical-align: middle;\n",
       "    }\n",
       "\n",
       "    .dataframe tbody tr th {\n",
       "        vertical-align: top;\n",
       "    }\n",
       "\n",
       "    .dataframe thead th {\n",
       "        text-align: right;\n",
       "    }\n",
       "</style>\n",
       "<table border=\"1\" class=\"dataframe\">\n",
       "  <thead>\n",
       "    <tr style=\"text-align: right;\">\n",
       "      <th></th>\n",
       "      <th>MonthYear</th>\n",
       "      <th>Outcome Type</th>\n",
       "      <th>Animal Type</th>\n",
       "      <th>Sex upon Outcome</th>\n",
       "      <th>Age upon Outcome</th>\n",
       "      <th>Breed</th>\n",
       "      <th>Color</th>\n",
       "    </tr>\n",
       "  </thead>\n",
       "  <tbody>\n",
       "    <tr>\n",
       "      <th>0</th>\n",
       "      <td>19-May</td>\n",
       "      <td>Rto-Adopt</td>\n",
       "      <td>Cat</td>\n",
       "      <td>Neutered Male</td>\n",
       "      <td>2 years</td>\n",
       "      <td>Domestic Shorthair Mix</td>\n",
       "      <td>Brown Tabby/White</td>\n",
       "    </tr>\n",
       "    <tr>\n",
       "      <th>1</th>\n",
       "      <td>18-Jul</td>\n",
       "      <td>Adoption</td>\n",
       "      <td>Dog</td>\n",
       "      <td>Neutered Male</td>\n",
       "      <td>1 year</td>\n",
       "      <td>Chihuahua Shorthair Mix</td>\n",
       "      <td>White/Brown</td>\n",
       "    </tr>\n",
       "    <tr>\n",
       "      <th>2</th>\n",
       "      <td>20-Aug</td>\n",
       "      <td>Euthanasia</td>\n",
       "      <td>Other</td>\n",
       "      <td>Unknown</td>\n",
       "      <td>1 year</td>\n",
       "      <td>Raccoon</td>\n",
       "      <td>Gray</td>\n",
       "    </tr>\n",
       "    <tr>\n",
       "      <th>3</th>\n",
       "      <td>16-Feb</td>\n",
       "      <td>Adoption</td>\n",
       "      <td>Dog</td>\n",
       "      <td>Neutered Male</td>\n",
       "      <td>4 months</td>\n",
       "      <td>Anatol Shepherd/Labrador Retriever</td>\n",
       "      <td>Buff</td>\n",
       "    </tr>\n",
       "    <tr>\n",
       "      <th>4</th>\n",
       "      <td>14-Mar</td>\n",
       "      <td>Transfer</td>\n",
       "      <td>Cat</td>\n",
       "      <td>Intact Male</td>\n",
       "      <td>6 days</td>\n",
       "      <td>Domestic Shorthair Mix</td>\n",
       "      <td>Orange Tabby</td>\n",
       "    </tr>\n",
       "  </tbody>\n",
       "</table>\n",
       "</div>"
      ],
      "text/plain": [
       "  MonthYear Outcome Type Animal Type Sex upon Outcome Age upon Outcome  \\\n",
       "0    19-May    Rto-Adopt         Cat    Neutered Male          2 years   \n",
       "1    18-Jul     Adoption         Dog    Neutered Male           1 year   \n",
       "2    20-Aug   Euthanasia       Other          Unknown           1 year   \n",
       "3    16-Feb     Adoption         Dog    Neutered Male         4 months   \n",
       "4    14-Mar     Transfer         Cat      Intact Male           6 days   \n",
       "\n",
       "                                Breed              Color  \n",
       "0              Domestic Shorthair Mix  Brown Tabby/White  \n",
       "1             Chihuahua Shorthair Mix        White/Brown  \n",
       "2                             Raccoon               Gray  \n",
       "3  Anatol Shepherd/Labrador Retriever               Buff  \n",
       "4              Domestic Shorthair Mix       Orange Tabby  "
      ]
     },
     "execution_count": 6,
     "metadata": {},
     "output_type": "execute_result"
    }
   ],
   "source": [
    "adoptions1.head()"
   ]
  },
  {
   "cell_type": "markdown",
   "id": "2bbdf3e6",
   "metadata": {},
   "source": [
    "### Split MonthYear into 2 columns"
   ]
  },
  {
   "cell_type": "code",
   "execution_count": 7,
   "id": "aa61b9e9",
   "metadata": {},
   "outputs": [],
   "source": [
    "adoptions2 = adoptions1[\"MonthYear\"].str.split(\"-\", expand=True)"
   ]
  },
  {
   "cell_type": "code",
   "execution_count": 8,
   "id": "f60fa44d",
   "metadata": {},
   "outputs": [
    {
     "data": {
      "text/plain": [
       "<bound method NDFrame.head of          0    1\n",
       "0       19  May\n",
       "1       18  Jul\n",
       "2       20  Aug\n",
       "3       16  Feb\n",
       "4       14  Mar\n",
       "...     ..  ...\n",
       "136751  22  Feb\n",
       "136752  22  Feb\n",
       "136753  22  Feb\n",
       "136754  22  Feb\n",
       "136755  22  Feb\n",
       "\n",
       "[136756 rows x 2 columns]>"
      ]
     },
     "execution_count": 8,
     "metadata": {},
     "output_type": "execute_result"
    }
   ],
   "source": [
    "adoptions2.head"
   ]
  },
  {
   "cell_type": "markdown",
   "id": "747a9058",
   "metadata": {},
   "source": [
    "### Add new month and year columns back to dataframe"
   ]
  },
  {
   "cell_type": "code",
   "execution_count": 9,
   "id": "7bf96e06",
   "metadata": {
    "scrolled": true
   },
   "outputs": [],
   "source": [
    "adoptions3 = pd.concat([adoptions1, adoptions2], axis=1)"
   ]
  },
  {
   "cell_type": "code",
   "execution_count": 10,
   "id": "7bf9e5be",
   "metadata": {},
   "outputs": [
    {
     "data": {
      "text/html": [
       "<div>\n",
       "<style scoped>\n",
       "    .dataframe tbody tr th:only-of-type {\n",
       "        vertical-align: middle;\n",
       "    }\n",
       "\n",
       "    .dataframe tbody tr th {\n",
       "        vertical-align: top;\n",
       "    }\n",
       "\n",
       "    .dataframe thead th {\n",
       "        text-align: right;\n",
       "    }\n",
       "</style>\n",
       "<table border=\"1\" class=\"dataframe\">\n",
       "  <thead>\n",
       "    <tr style=\"text-align: right;\">\n",
       "      <th></th>\n",
       "      <th>MonthYear</th>\n",
       "      <th>Outcome Type</th>\n",
       "      <th>Animal Type</th>\n",
       "      <th>Sex upon Outcome</th>\n",
       "      <th>Age upon Outcome</th>\n",
       "      <th>Breed</th>\n",
       "      <th>Color</th>\n",
       "      <th>0</th>\n",
       "      <th>1</th>\n",
       "    </tr>\n",
       "  </thead>\n",
       "  <tbody>\n",
       "    <tr>\n",
       "      <th>0</th>\n",
       "      <td>19-May</td>\n",
       "      <td>Rto-Adopt</td>\n",
       "      <td>Cat</td>\n",
       "      <td>Neutered Male</td>\n",
       "      <td>2 years</td>\n",
       "      <td>Domestic Shorthair Mix</td>\n",
       "      <td>Brown Tabby/White</td>\n",
       "      <td>19</td>\n",
       "      <td>May</td>\n",
       "    </tr>\n",
       "    <tr>\n",
       "      <th>1</th>\n",
       "      <td>18-Jul</td>\n",
       "      <td>Adoption</td>\n",
       "      <td>Dog</td>\n",
       "      <td>Neutered Male</td>\n",
       "      <td>1 year</td>\n",
       "      <td>Chihuahua Shorthair Mix</td>\n",
       "      <td>White/Brown</td>\n",
       "      <td>18</td>\n",
       "      <td>Jul</td>\n",
       "    </tr>\n",
       "    <tr>\n",
       "      <th>2</th>\n",
       "      <td>20-Aug</td>\n",
       "      <td>Euthanasia</td>\n",
       "      <td>Other</td>\n",
       "      <td>Unknown</td>\n",
       "      <td>1 year</td>\n",
       "      <td>Raccoon</td>\n",
       "      <td>Gray</td>\n",
       "      <td>20</td>\n",
       "      <td>Aug</td>\n",
       "    </tr>\n",
       "    <tr>\n",
       "      <th>3</th>\n",
       "      <td>16-Feb</td>\n",
       "      <td>Adoption</td>\n",
       "      <td>Dog</td>\n",
       "      <td>Neutered Male</td>\n",
       "      <td>4 months</td>\n",
       "      <td>Anatol Shepherd/Labrador Retriever</td>\n",
       "      <td>Buff</td>\n",
       "      <td>16</td>\n",
       "      <td>Feb</td>\n",
       "    </tr>\n",
       "    <tr>\n",
       "      <th>4</th>\n",
       "      <td>14-Mar</td>\n",
       "      <td>Transfer</td>\n",
       "      <td>Cat</td>\n",
       "      <td>Intact Male</td>\n",
       "      <td>6 days</td>\n",
       "      <td>Domestic Shorthair Mix</td>\n",
       "      <td>Orange Tabby</td>\n",
       "      <td>14</td>\n",
       "      <td>Mar</td>\n",
       "    </tr>\n",
       "  </tbody>\n",
       "</table>\n",
       "</div>"
      ],
      "text/plain": [
       "  MonthYear Outcome Type Animal Type Sex upon Outcome Age upon Outcome  \\\n",
       "0    19-May    Rto-Adopt         Cat    Neutered Male          2 years   \n",
       "1    18-Jul     Adoption         Dog    Neutered Male           1 year   \n",
       "2    20-Aug   Euthanasia       Other          Unknown           1 year   \n",
       "3    16-Feb     Adoption         Dog    Neutered Male         4 months   \n",
       "4    14-Mar     Transfer         Cat      Intact Male           6 days   \n",
       "\n",
       "                                Breed              Color   0    1  \n",
       "0              Domestic Shorthair Mix  Brown Tabby/White  19  May  \n",
       "1             Chihuahua Shorthair Mix        White/Brown  18  Jul  \n",
       "2                             Raccoon               Gray  20  Aug  \n",
       "3  Anatol Shepherd/Labrador Retriever               Buff  16  Feb  \n",
       "4              Domestic Shorthair Mix       Orange Tabby  14  Mar  "
      ]
     },
     "execution_count": 10,
     "metadata": {},
     "output_type": "execute_result"
    }
   ],
   "source": [
    "adoptions3.head()"
   ]
  },
  {
   "cell_type": "markdown",
   "id": "2645972e",
   "metadata": {},
   "source": [
    "### Rename new columns and drop original date column"
   ]
  },
  {
   "cell_type": "code",
   "execution_count": 11,
   "id": "5684c08d",
   "metadata": {},
   "outputs": [],
   "source": [
    "adoptions3.rename(columns={0: \"Year\", 1: \"Month\"}, inplace=True)\n",
    "adoptions3.drop([\"MonthYear\"], axis=1, inplace=True)"
   ]
  },
  {
   "cell_type": "code",
   "execution_count": 12,
   "id": "6b6e6756",
   "metadata": {},
   "outputs": [
    {
     "data": {
      "text/html": [
       "<div>\n",
       "<style scoped>\n",
       "    .dataframe tbody tr th:only-of-type {\n",
       "        vertical-align: middle;\n",
       "    }\n",
       "\n",
       "    .dataframe tbody tr th {\n",
       "        vertical-align: top;\n",
       "    }\n",
       "\n",
       "    .dataframe thead th {\n",
       "        text-align: right;\n",
       "    }\n",
       "</style>\n",
       "<table border=\"1\" class=\"dataframe\">\n",
       "  <thead>\n",
       "    <tr style=\"text-align: right;\">\n",
       "      <th></th>\n",
       "      <th>Outcome Type</th>\n",
       "      <th>Animal Type</th>\n",
       "      <th>Sex upon Outcome</th>\n",
       "      <th>Age upon Outcome</th>\n",
       "      <th>Breed</th>\n",
       "      <th>Color</th>\n",
       "      <th>Year</th>\n",
       "      <th>Month</th>\n",
       "    </tr>\n",
       "  </thead>\n",
       "  <tbody>\n",
       "    <tr>\n",
       "      <th>0</th>\n",
       "      <td>Rto-Adopt</td>\n",
       "      <td>Cat</td>\n",
       "      <td>Neutered Male</td>\n",
       "      <td>2 years</td>\n",
       "      <td>Domestic Shorthair Mix</td>\n",
       "      <td>Brown Tabby/White</td>\n",
       "      <td>19</td>\n",
       "      <td>May</td>\n",
       "    </tr>\n",
       "    <tr>\n",
       "      <th>1</th>\n",
       "      <td>Adoption</td>\n",
       "      <td>Dog</td>\n",
       "      <td>Neutered Male</td>\n",
       "      <td>1 year</td>\n",
       "      <td>Chihuahua Shorthair Mix</td>\n",
       "      <td>White/Brown</td>\n",
       "      <td>18</td>\n",
       "      <td>Jul</td>\n",
       "    </tr>\n",
       "    <tr>\n",
       "      <th>2</th>\n",
       "      <td>Euthanasia</td>\n",
       "      <td>Other</td>\n",
       "      <td>Unknown</td>\n",
       "      <td>1 year</td>\n",
       "      <td>Raccoon</td>\n",
       "      <td>Gray</td>\n",
       "      <td>20</td>\n",
       "      <td>Aug</td>\n",
       "    </tr>\n",
       "    <tr>\n",
       "      <th>3</th>\n",
       "      <td>Adoption</td>\n",
       "      <td>Dog</td>\n",
       "      <td>Neutered Male</td>\n",
       "      <td>4 months</td>\n",
       "      <td>Anatol Shepherd/Labrador Retriever</td>\n",
       "      <td>Buff</td>\n",
       "      <td>16</td>\n",
       "      <td>Feb</td>\n",
       "    </tr>\n",
       "    <tr>\n",
       "      <th>4</th>\n",
       "      <td>Transfer</td>\n",
       "      <td>Cat</td>\n",
       "      <td>Intact Male</td>\n",
       "      <td>6 days</td>\n",
       "      <td>Domestic Shorthair Mix</td>\n",
       "      <td>Orange Tabby</td>\n",
       "      <td>14</td>\n",
       "      <td>Mar</td>\n",
       "    </tr>\n",
       "  </tbody>\n",
       "</table>\n",
       "</div>"
      ],
      "text/plain": [
       "  Outcome Type Animal Type Sex upon Outcome Age upon Outcome  \\\n",
       "0    Rto-Adopt         Cat    Neutered Male          2 years   \n",
       "1     Adoption         Dog    Neutered Male           1 year   \n",
       "2   Euthanasia       Other          Unknown           1 year   \n",
       "3     Adoption         Dog    Neutered Male         4 months   \n",
       "4     Transfer         Cat      Intact Male           6 days   \n",
       "\n",
       "                                Breed              Color Year Month  \n",
       "0              Domestic Shorthair Mix  Brown Tabby/White   19   May  \n",
       "1             Chihuahua Shorthair Mix        White/Brown   18   Jul  \n",
       "2                             Raccoon               Gray   20   Aug  \n",
       "3  Anatol Shepherd/Labrador Retriever               Buff   16   Feb  \n",
       "4              Domestic Shorthair Mix       Orange Tabby   14   Mar  "
      ]
     },
     "execution_count": 12,
     "metadata": {},
     "output_type": "execute_result"
    }
   ],
   "source": [
    "adoptions3.head()"
   ]
  },
  {
   "cell_type": "markdown",
   "id": "c45793c3",
   "metadata": {},
   "source": [
    "### Group and Recode Sex upon Outcome column"
   ]
  },
  {
   "cell_type": "code",
   "execution_count": 13,
   "id": "fb44606f",
   "metadata": {},
   "outputs": [
    {
     "data": {
      "text/plain": [
       "Neutered Male    48172\n",
       "Spayed Female    43461\n",
       "Intact Male      17371\n",
       "Intact Female    16872\n",
       "Unknown          10879\n",
       "Name: Sex upon Outcome, dtype: int64"
      ]
     },
     "execution_count": 13,
     "metadata": {},
     "output_type": "execute_result"
    }
   ],
   "source": [
    "adoptions3[\"Sex upon Outcome\"].value_counts()"
   ]
  },
  {
   "cell_type": "code",
   "execution_count": 14,
   "id": "b60d2599",
   "metadata": {},
   "outputs": [],
   "source": [
    "def sex (series): \n",
    "    if series == \"Neutered Male\" : \n",
    "        return \"Male\"\n",
    "    if series == \"Spayed Female\": \n",
    "        return \"Female\"\n",
    "    if series == \"Intact Male\" : \n",
    "        return \"Male\"\n",
    "    if series == \"Intact Female\" : \n",
    "        return \"Female\"\n",
    "    if series ==\"Unknown\":\n",
    "        return \"Unknown\"\n",
    "    \n",
    "adoptions3[\"Sex\"] = adoptions3[\"Sex upon Outcome\"].apply(sex)"
   ]
  },
  {
   "cell_type": "code",
   "execution_count": 15,
   "id": "6b757876",
   "metadata": {},
   "outputs": [
    {
     "data": {
      "text/html": [
       "<div>\n",
       "<style scoped>\n",
       "    .dataframe tbody tr th:only-of-type {\n",
       "        vertical-align: middle;\n",
       "    }\n",
       "\n",
       "    .dataframe tbody tr th {\n",
       "        vertical-align: top;\n",
       "    }\n",
       "\n",
       "    .dataframe thead th {\n",
       "        text-align: right;\n",
       "    }\n",
       "</style>\n",
       "<table border=\"1\" class=\"dataframe\">\n",
       "  <thead>\n",
       "    <tr style=\"text-align: right;\">\n",
       "      <th></th>\n",
       "      <th>Outcome Type</th>\n",
       "      <th>Animal Type</th>\n",
       "      <th>Sex upon Outcome</th>\n",
       "      <th>Age upon Outcome</th>\n",
       "      <th>Breed</th>\n",
       "      <th>Color</th>\n",
       "      <th>Year</th>\n",
       "      <th>Month</th>\n",
       "      <th>Sex</th>\n",
       "    </tr>\n",
       "  </thead>\n",
       "  <tbody>\n",
       "    <tr>\n",
       "      <th>0</th>\n",
       "      <td>Rto-Adopt</td>\n",
       "      <td>Cat</td>\n",
       "      <td>Neutered Male</td>\n",
       "      <td>2 years</td>\n",
       "      <td>Domestic Shorthair Mix</td>\n",
       "      <td>Brown Tabby/White</td>\n",
       "      <td>19</td>\n",
       "      <td>May</td>\n",
       "      <td>Male</td>\n",
       "    </tr>\n",
       "    <tr>\n",
       "      <th>1</th>\n",
       "      <td>Adoption</td>\n",
       "      <td>Dog</td>\n",
       "      <td>Neutered Male</td>\n",
       "      <td>1 year</td>\n",
       "      <td>Chihuahua Shorthair Mix</td>\n",
       "      <td>White/Brown</td>\n",
       "      <td>18</td>\n",
       "      <td>Jul</td>\n",
       "      <td>Male</td>\n",
       "    </tr>\n",
       "    <tr>\n",
       "      <th>2</th>\n",
       "      <td>Euthanasia</td>\n",
       "      <td>Other</td>\n",
       "      <td>Unknown</td>\n",
       "      <td>1 year</td>\n",
       "      <td>Raccoon</td>\n",
       "      <td>Gray</td>\n",
       "      <td>20</td>\n",
       "      <td>Aug</td>\n",
       "      <td>Unknown</td>\n",
       "    </tr>\n",
       "    <tr>\n",
       "      <th>3</th>\n",
       "      <td>Adoption</td>\n",
       "      <td>Dog</td>\n",
       "      <td>Neutered Male</td>\n",
       "      <td>4 months</td>\n",
       "      <td>Anatol Shepherd/Labrador Retriever</td>\n",
       "      <td>Buff</td>\n",
       "      <td>16</td>\n",
       "      <td>Feb</td>\n",
       "      <td>Male</td>\n",
       "    </tr>\n",
       "    <tr>\n",
       "      <th>4</th>\n",
       "      <td>Transfer</td>\n",
       "      <td>Cat</td>\n",
       "      <td>Intact Male</td>\n",
       "      <td>6 days</td>\n",
       "      <td>Domestic Shorthair Mix</td>\n",
       "      <td>Orange Tabby</td>\n",
       "      <td>14</td>\n",
       "      <td>Mar</td>\n",
       "      <td>Male</td>\n",
       "    </tr>\n",
       "    <tr>\n",
       "      <th>5</th>\n",
       "      <td>Adoption</td>\n",
       "      <td>Dog</td>\n",
       "      <td>Spayed Female</td>\n",
       "      <td>7 years</td>\n",
       "      <td>Chihuahua Shorthair Mix</td>\n",
       "      <td>Brown</td>\n",
       "      <td>20</td>\n",
       "      <td>Oct</td>\n",
       "      <td>Female</td>\n",
       "    </tr>\n",
       "    <tr>\n",
       "      <th>6</th>\n",
       "      <td>Adoption</td>\n",
       "      <td>Dog</td>\n",
       "      <td>Neutered Male</td>\n",
       "      <td>2 years</td>\n",
       "      <td>American Foxhound/Labrador Retriever</td>\n",
       "      <td>White/Brown</td>\n",
       "      <td>20</td>\n",
       "      <td>May</td>\n",
       "      <td>Male</td>\n",
       "    </tr>\n",
       "    <tr>\n",
       "      <th>7</th>\n",
       "      <td>Adoption</td>\n",
       "      <td>Cat</td>\n",
       "      <td>Neutered Male</td>\n",
       "      <td>2 months</td>\n",
       "      <td>Domestic Shorthair Mix</td>\n",
       "      <td>Black</td>\n",
       "      <td>14</td>\n",
       "      <td>Oct</td>\n",
       "      <td>Male</td>\n",
       "    </tr>\n",
       "    <tr>\n",
       "      <th>8</th>\n",
       "      <td>Adoption</td>\n",
       "      <td>Cat</td>\n",
       "      <td>Neutered Male</td>\n",
       "      <td>2 months</td>\n",
       "      <td>Domestic Shorthair Mix</td>\n",
       "      <td>White/Orange Tabby</td>\n",
       "      <td>14</td>\n",
       "      <td>Aug</td>\n",
       "      <td>Male</td>\n",
       "    </tr>\n",
       "    <tr>\n",
       "      <th>9</th>\n",
       "      <td>Adoption</td>\n",
       "      <td>Dog</td>\n",
       "      <td>Spayed Female</td>\n",
       "      <td>2 years</td>\n",
       "      <td>Border Collie/Cardigan Welsh Corgi</td>\n",
       "      <td>Black/White</td>\n",
       "      <td>21</td>\n",
       "      <td>Aug</td>\n",
       "      <td>Female</td>\n",
       "    </tr>\n",
       "  </tbody>\n",
       "</table>\n",
       "</div>"
      ],
      "text/plain": [
       "  Outcome Type Animal Type Sex upon Outcome Age upon Outcome  \\\n",
       "0    Rto-Adopt         Cat    Neutered Male          2 years   \n",
       "1     Adoption         Dog    Neutered Male           1 year   \n",
       "2   Euthanasia       Other          Unknown           1 year   \n",
       "3     Adoption         Dog    Neutered Male         4 months   \n",
       "4     Transfer         Cat      Intact Male           6 days   \n",
       "5     Adoption         Dog    Spayed Female          7 years   \n",
       "6     Adoption         Dog    Neutered Male          2 years   \n",
       "7     Adoption         Cat    Neutered Male         2 months   \n",
       "8     Adoption         Cat    Neutered Male         2 months   \n",
       "9     Adoption         Dog    Spayed Female          2 years   \n",
       "\n",
       "                                  Breed               Color Year Month  \\\n",
       "0                Domestic Shorthair Mix   Brown Tabby/White   19   May   \n",
       "1               Chihuahua Shorthair Mix         White/Brown   18   Jul   \n",
       "2                               Raccoon                Gray   20   Aug   \n",
       "3    Anatol Shepherd/Labrador Retriever                Buff   16   Feb   \n",
       "4                Domestic Shorthair Mix        Orange Tabby   14   Mar   \n",
       "5               Chihuahua Shorthair Mix               Brown   20   Oct   \n",
       "6  American Foxhound/Labrador Retriever         White/Brown   20   May   \n",
       "7                Domestic Shorthair Mix               Black   14   Oct   \n",
       "8                Domestic Shorthair Mix  White/Orange Tabby   14   Aug   \n",
       "9    Border Collie/Cardigan Welsh Corgi         Black/White   21   Aug   \n",
       "\n",
       "       Sex  \n",
       "0     Male  \n",
       "1     Male  \n",
       "2  Unknown  \n",
       "3     Male  \n",
       "4     Male  \n",
       "5   Female  \n",
       "6     Male  \n",
       "7     Male  \n",
       "8     Male  \n",
       "9   Female  "
      ]
     },
     "execution_count": 15,
     "metadata": {},
     "output_type": "execute_result"
    }
   ],
   "source": [
    "adoptions3.head(10)"
   ]
  },
  {
   "cell_type": "markdown",
   "id": "bf40f0ee",
   "metadata": {},
   "source": [
    "### Drop Sex upon Outcome column"
   ]
  },
  {
   "cell_type": "code",
   "execution_count": 16,
   "id": "7a7bc63b",
   "metadata": {},
   "outputs": [],
   "source": [
    "adoptions3.drop([\"Sex upon Outcome\"], axis=1, inplace=True)"
   ]
  },
  {
   "cell_type": "code",
   "execution_count": 17,
   "id": "f8522745",
   "metadata": {},
   "outputs": [
    {
     "data": {
      "text/html": [
       "<div>\n",
       "<style scoped>\n",
       "    .dataframe tbody tr th:only-of-type {\n",
       "        vertical-align: middle;\n",
       "    }\n",
       "\n",
       "    .dataframe tbody tr th {\n",
       "        vertical-align: top;\n",
       "    }\n",
       "\n",
       "    .dataframe thead th {\n",
       "        text-align: right;\n",
       "    }\n",
       "</style>\n",
       "<table border=\"1\" class=\"dataframe\">\n",
       "  <thead>\n",
       "    <tr style=\"text-align: right;\">\n",
       "      <th></th>\n",
       "      <th>Outcome Type</th>\n",
       "      <th>Animal Type</th>\n",
       "      <th>Age upon Outcome</th>\n",
       "      <th>Breed</th>\n",
       "      <th>Color</th>\n",
       "      <th>Year</th>\n",
       "      <th>Month</th>\n",
       "      <th>Sex</th>\n",
       "    </tr>\n",
       "  </thead>\n",
       "  <tbody>\n",
       "    <tr>\n",
       "      <th>0</th>\n",
       "      <td>Rto-Adopt</td>\n",
       "      <td>Cat</td>\n",
       "      <td>2 years</td>\n",
       "      <td>Domestic Shorthair Mix</td>\n",
       "      <td>Brown Tabby/White</td>\n",
       "      <td>19</td>\n",
       "      <td>May</td>\n",
       "      <td>Male</td>\n",
       "    </tr>\n",
       "    <tr>\n",
       "      <th>1</th>\n",
       "      <td>Adoption</td>\n",
       "      <td>Dog</td>\n",
       "      <td>1 year</td>\n",
       "      <td>Chihuahua Shorthair Mix</td>\n",
       "      <td>White/Brown</td>\n",
       "      <td>18</td>\n",
       "      <td>Jul</td>\n",
       "      <td>Male</td>\n",
       "    </tr>\n",
       "    <tr>\n",
       "      <th>2</th>\n",
       "      <td>Euthanasia</td>\n",
       "      <td>Other</td>\n",
       "      <td>1 year</td>\n",
       "      <td>Raccoon</td>\n",
       "      <td>Gray</td>\n",
       "      <td>20</td>\n",
       "      <td>Aug</td>\n",
       "      <td>Unknown</td>\n",
       "    </tr>\n",
       "    <tr>\n",
       "      <th>3</th>\n",
       "      <td>Adoption</td>\n",
       "      <td>Dog</td>\n",
       "      <td>4 months</td>\n",
       "      <td>Anatol Shepherd/Labrador Retriever</td>\n",
       "      <td>Buff</td>\n",
       "      <td>16</td>\n",
       "      <td>Feb</td>\n",
       "      <td>Male</td>\n",
       "    </tr>\n",
       "    <tr>\n",
       "      <th>4</th>\n",
       "      <td>Transfer</td>\n",
       "      <td>Cat</td>\n",
       "      <td>6 days</td>\n",
       "      <td>Domestic Shorthair Mix</td>\n",
       "      <td>Orange Tabby</td>\n",
       "      <td>14</td>\n",
       "      <td>Mar</td>\n",
       "      <td>Male</td>\n",
       "    </tr>\n",
       "  </tbody>\n",
       "</table>\n",
       "</div>"
      ],
      "text/plain": [
       "  Outcome Type Animal Type Age upon Outcome  \\\n",
       "0    Rto-Adopt         Cat          2 years   \n",
       "1     Adoption         Dog           1 year   \n",
       "2   Euthanasia       Other           1 year   \n",
       "3     Adoption         Dog         4 months   \n",
       "4     Transfer         Cat           6 days   \n",
       "\n",
       "                                Breed              Color Year Month      Sex  \n",
       "0              Domestic Shorthair Mix  Brown Tabby/White   19   May     Male  \n",
       "1             Chihuahua Shorthair Mix        White/Brown   18   Jul     Male  \n",
       "2                             Raccoon               Gray   20   Aug  Unknown  \n",
       "3  Anatol Shepherd/Labrador Retriever               Buff   16   Feb     Male  \n",
       "4              Domestic Shorthair Mix       Orange Tabby   14   Mar     Male  "
      ]
     },
     "execution_count": 17,
     "metadata": {},
     "output_type": "execute_result"
    }
   ],
   "source": [
    "adoptions3.head()"
   ]
  },
  {
   "cell_type": "markdown",
   "id": "0172c1fe",
   "metadata": {},
   "source": [
    "### Filter Animal Type to only include Dog and Cat"
   ]
  },
  {
   "cell_type": "code",
   "execution_count": 18,
   "id": "d48d1596",
   "metadata": {},
   "outputs": [],
   "source": [
    "adoptions4 = adoptions3[(adoptions3[\"Animal Type\"].isin([\"Dog\", \"Cat\"]))]"
   ]
  },
  {
   "cell_type": "code",
   "execution_count": 19,
   "id": "6debb357",
   "metadata": {},
   "outputs": [
    {
     "data": {
      "text/html": [
       "<div>\n",
       "<style scoped>\n",
       "    .dataframe tbody tr th:only-of-type {\n",
       "        vertical-align: middle;\n",
       "    }\n",
       "\n",
       "    .dataframe tbody tr th {\n",
       "        vertical-align: top;\n",
       "    }\n",
       "\n",
       "    .dataframe thead th {\n",
       "        text-align: right;\n",
       "    }\n",
       "</style>\n",
       "<table border=\"1\" class=\"dataframe\">\n",
       "  <thead>\n",
       "    <tr style=\"text-align: right;\">\n",
       "      <th></th>\n",
       "      <th>Outcome Type</th>\n",
       "      <th>Animal Type</th>\n",
       "      <th>Age upon Outcome</th>\n",
       "      <th>Breed</th>\n",
       "      <th>Color</th>\n",
       "      <th>Year</th>\n",
       "      <th>Month</th>\n",
       "      <th>Sex</th>\n",
       "    </tr>\n",
       "  </thead>\n",
       "  <tbody>\n",
       "    <tr>\n",
       "      <th>0</th>\n",
       "      <td>Rto-Adopt</td>\n",
       "      <td>Cat</td>\n",
       "      <td>2 years</td>\n",
       "      <td>Domestic Shorthair Mix</td>\n",
       "      <td>Brown Tabby/White</td>\n",
       "      <td>19</td>\n",
       "      <td>May</td>\n",
       "      <td>Male</td>\n",
       "    </tr>\n",
       "    <tr>\n",
       "      <th>1</th>\n",
       "      <td>Adoption</td>\n",
       "      <td>Dog</td>\n",
       "      <td>1 year</td>\n",
       "      <td>Chihuahua Shorthair Mix</td>\n",
       "      <td>White/Brown</td>\n",
       "      <td>18</td>\n",
       "      <td>Jul</td>\n",
       "      <td>Male</td>\n",
       "    </tr>\n",
       "    <tr>\n",
       "      <th>3</th>\n",
       "      <td>Adoption</td>\n",
       "      <td>Dog</td>\n",
       "      <td>4 months</td>\n",
       "      <td>Anatol Shepherd/Labrador Retriever</td>\n",
       "      <td>Buff</td>\n",
       "      <td>16</td>\n",
       "      <td>Feb</td>\n",
       "      <td>Male</td>\n",
       "    </tr>\n",
       "    <tr>\n",
       "      <th>4</th>\n",
       "      <td>Transfer</td>\n",
       "      <td>Cat</td>\n",
       "      <td>6 days</td>\n",
       "      <td>Domestic Shorthair Mix</td>\n",
       "      <td>Orange Tabby</td>\n",
       "      <td>14</td>\n",
       "      <td>Mar</td>\n",
       "      <td>Male</td>\n",
       "    </tr>\n",
       "    <tr>\n",
       "      <th>5</th>\n",
       "      <td>Adoption</td>\n",
       "      <td>Dog</td>\n",
       "      <td>7 years</td>\n",
       "      <td>Chihuahua Shorthair Mix</td>\n",
       "      <td>Brown</td>\n",
       "      <td>20</td>\n",
       "      <td>Oct</td>\n",
       "      <td>Female</td>\n",
       "    </tr>\n",
       "    <tr>\n",
       "      <th>6</th>\n",
       "      <td>Adoption</td>\n",
       "      <td>Dog</td>\n",
       "      <td>2 years</td>\n",
       "      <td>American Foxhound/Labrador Retriever</td>\n",
       "      <td>White/Brown</td>\n",
       "      <td>20</td>\n",
       "      <td>May</td>\n",
       "      <td>Male</td>\n",
       "    </tr>\n",
       "    <tr>\n",
       "      <th>7</th>\n",
       "      <td>Adoption</td>\n",
       "      <td>Cat</td>\n",
       "      <td>2 months</td>\n",
       "      <td>Domestic Shorthair Mix</td>\n",
       "      <td>Black</td>\n",
       "      <td>14</td>\n",
       "      <td>Oct</td>\n",
       "      <td>Male</td>\n",
       "    </tr>\n",
       "    <tr>\n",
       "      <th>8</th>\n",
       "      <td>Adoption</td>\n",
       "      <td>Cat</td>\n",
       "      <td>2 months</td>\n",
       "      <td>Domestic Shorthair Mix</td>\n",
       "      <td>White/Orange Tabby</td>\n",
       "      <td>14</td>\n",
       "      <td>Aug</td>\n",
       "      <td>Male</td>\n",
       "    </tr>\n",
       "    <tr>\n",
       "      <th>9</th>\n",
       "      <td>Adoption</td>\n",
       "      <td>Dog</td>\n",
       "      <td>2 years</td>\n",
       "      <td>Border Collie/Cardigan Welsh Corgi</td>\n",
       "      <td>Black/White</td>\n",
       "      <td>21</td>\n",
       "      <td>Aug</td>\n",
       "      <td>Female</td>\n",
       "    </tr>\n",
       "    <tr>\n",
       "      <th>10</th>\n",
       "      <td>Transfer</td>\n",
       "      <td>Cat</td>\n",
       "      <td>2 years</td>\n",
       "      <td>Domestic Shorthair Mix</td>\n",
       "      <td>Black</td>\n",
       "      <td>14</td>\n",
       "      <td>Jul</td>\n",
       "      <td>Female</td>\n",
       "    </tr>\n",
       "  </tbody>\n",
       "</table>\n",
       "</div>"
      ],
      "text/plain": [
       "   Outcome Type Animal Type Age upon Outcome  \\\n",
       "0     Rto-Adopt         Cat          2 years   \n",
       "1      Adoption         Dog           1 year   \n",
       "3      Adoption         Dog         4 months   \n",
       "4      Transfer         Cat           6 days   \n",
       "5      Adoption         Dog          7 years   \n",
       "6      Adoption         Dog          2 years   \n",
       "7      Adoption         Cat         2 months   \n",
       "8      Adoption         Cat         2 months   \n",
       "9      Adoption         Dog          2 years   \n",
       "10     Transfer         Cat          2 years   \n",
       "\n",
       "                                   Breed               Color Year Month  \\\n",
       "0                 Domestic Shorthair Mix   Brown Tabby/White   19   May   \n",
       "1                Chihuahua Shorthair Mix         White/Brown   18   Jul   \n",
       "3     Anatol Shepherd/Labrador Retriever                Buff   16   Feb   \n",
       "4                 Domestic Shorthair Mix        Orange Tabby   14   Mar   \n",
       "5                Chihuahua Shorthair Mix               Brown   20   Oct   \n",
       "6   American Foxhound/Labrador Retriever         White/Brown   20   May   \n",
       "7                 Domestic Shorthair Mix               Black   14   Oct   \n",
       "8                 Domestic Shorthair Mix  White/Orange Tabby   14   Aug   \n",
       "9     Border Collie/Cardigan Welsh Corgi         Black/White   21   Aug   \n",
       "10                Domestic Shorthair Mix               Black   14   Jul   \n",
       "\n",
       "       Sex  \n",
       "0     Male  \n",
       "1     Male  \n",
       "3     Male  \n",
       "4     Male  \n",
       "5   Female  \n",
       "6     Male  \n",
       "7     Male  \n",
       "8     Male  \n",
       "9   Female  \n",
       "10  Female  "
      ]
     },
     "execution_count": 19,
     "metadata": {},
     "output_type": "execute_result"
    }
   ],
   "source": [
    "adoptions4.head(10)"
   ]
  },
  {
   "cell_type": "markdown",
   "id": "a0f346e0",
   "metadata": {},
   "source": [
    "### Filter out partial years from Year column"
   ]
  },
  {
   "cell_type": "code",
   "execution_count": 20,
   "id": "f05cd980",
   "metadata": {},
   "outputs": [
    {
     "data": {
      "text/plain": [
       "13     4265\n",
       "14    17556\n",
       "15    17606\n",
       "16    16572\n",
       "17    16518\n",
       "18    15791\n",
       "19    18861\n",
       "20     9046\n",
       "21    11267\n",
       "22     1377\n",
       "Name: Year, dtype: int64"
      ]
     },
     "execution_count": 20,
     "metadata": {},
     "output_type": "execute_result"
    }
   ],
   "source": [
    "adoptions4[\"Year\"].value_counts().sort_index(ascending=True)"
   ]
  },
  {
   "cell_type": "code",
   "execution_count": 21,
   "id": "afc698fe",
   "metadata": {},
   "outputs": [],
   "source": [
    "adoptions5 = adoptions4[(adoptions4[\"Year\"].isin([\"14\", \"15\", \"16\", \"17\", \"18\", \"19\", \"20\", \"21\"]))]"
   ]
  },
  {
   "cell_type": "code",
   "execution_count": 22,
   "id": "5d515ec5",
   "metadata": {},
   "outputs": [
    {
     "data": {
      "text/plain": [
       "array(['19', '18', '16', '14', '20', '21', '17', '15'], dtype=object)"
      ]
     },
     "execution_count": 22,
     "metadata": {},
     "output_type": "execute_result"
    }
   ],
   "source": [
    "adoptions5[\"Year\"].unique()"
   ]
  },
  {
   "cell_type": "code",
   "execution_count": 23,
   "id": "90015882",
   "metadata": {},
   "outputs": [
    {
     "data": {
      "text/plain": [
       "14    17556\n",
       "15    17606\n",
       "16    16572\n",
       "17    16518\n",
       "18    15791\n",
       "19    18861\n",
       "20     9046\n",
       "21    11267\n",
       "Name: Year, dtype: int64"
      ]
     },
     "execution_count": 23,
     "metadata": {},
     "output_type": "execute_result"
    }
   ],
   "source": [
    "adoptions5[\"Year\"].value_counts().sort_index(ascending=True)"
   ]
  },
  {
   "cell_type": "code",
   "execution_count": 24,
   "id": "c99d5f55",
   "metadata": {},
   "outputs": [
    {
     "data": {
      "text/html": [
       "<div>\n",
       "<style scoped>\n",
       "    .dataframe tbody tr th:only-of-type {\n",
       "        vertical-align: middle;\n",
       "    }\n",
       "\n",
       "    .dataframe tbody tr th {\n",
       "        vertical-align: top;\n",
       "    }\n",
       "\n",
       "    .dataframe thead th {\n",
       "        text-align: right;\n",
       "    }\n",
       "</style>\n",
       "<table border=\"1\" class=\"dataframe\">\n",
       "  <thead>\n",
       "    <tr style=\"text-align: right;\">\n",
       "      <th></th>\n",
       "      <th>Outcome Type</th>\n",
       "      <th>Animal Type</th>\n",
       "      <th>Age upon Outcome</th>\n",
       "      <th>Breed</th>\n",
       "      <th>Color</th>\n",
       "      <th>Year</th>\n",
       "      <th>Month</th>\n",
       "      <th>Sex</th>\n",
       "    </tr>\n",
       "  </thead>\n",
       "  <tbody>\n",
       "    <tr>\n",
       "      <th>0</th>\n",
       "      <td>Rto-Adopt</td>\n",
       "      <td>Cat</td>\n",
       "      <td>2 years</td>\n",
       "      <td>Domestic Shorthair Mix</td>\n",
       "      <td>Brown Tabby/White</td>\n",
       "      <td>19</td>\n",
       "      <td>May</td>\n",
       "      <td>Male</td>\n",
       "    </tr>\n",
       "    <tr>\n",
       "      <th>1</th>\n",
       "      <td>Adoption</td>\n",
       "      <td>Dog</td>\n",
       "      <td>1 year</td>\n",
       "      <td>Chihuahua Shorthair Mix</td>\n",
       "      <td>White/Brown</td>\n",
       "      <td>18</td>\n",
       "      <td>Jul</td>\n",
       "      <td>Male</td>\n",
       "    </tr>\n",
       "    <tr>\n",
       "      <th>3</th>\n",
       "      <td>Adoption</td>\n",
       "      <td>Dog</td>\n",
       "      <td>4 months</td>\n",
       "      <td>Anatol Shepherd/Labrador Retriever</td>\n",
       "      <td>Buff</td>\n",
       "      <td>16</td>\n",
       "      <td>Feb</td>\n",
       "      <td>Male</td>\n",
       "    </tr>\n",
       "    <tr>\n",
       "      <th>4</th>\n",
       "      <td>Transfer</td>\n",
       "      <td>Cat</td>\n",
       "      <td>6 days</td>\n",
       "      <td>Domestic Shorthair Mix</td>\n",
       "      <td>Orange Tabby</td>\n",
       "      <td>14</td>\n",
       "      <td>Mar</td>\n",
       "      <td>Male</td>\n",
       "    </tr>\n",
       "    <tr>\n",
       "      <th>5</th>\n",
       "      <td>Adoption</td>\n",
       "      <td>Dog</td>\n",
       "      <td>7 years</td>\n",
       "      <td>Chihuahua Shorthair Mix</td>\n",
       "      <td>Brown</td>\n",
       "      <td>20</td>\n",
       "      <td>Oct</td>\n",
       "      <td>Female</td>\n",
       "    </tr>\n",
       "  </tbody>\n",
       "</table>\n",
       "</div>"
      ],
      "text/plain": [
       "  Outcome Type Animal Type Age upon Outcome  \\\n",
       "0    Rto-Adopt         Cat          2 years   \n",
       "1     Adoption         Dog           1 year   \n",
       "3     Adoption         Dog         4 months   \n",
       "4     Transfer         Cat           6 days   \n",
       "5     Adoption         Dog          7 years   \n",
       "\n",
       "                                Breed              Color Year Month     Sex  \n",
       "0              Domestic Shorthair Mix  Brown Tabby/White   19   May    Male  \n",
       "1             Chihuahua Shorthair Mix        White/Brown   18   Jul    Male  \n",
       "3  Anatol Shepherd/Labrador Retriever               Buff   16   Feb    Male  \n",
       "4              Domestic Shorthair Mix       Orange Tabby   14   Mar    Male  \n",
       "5             Chihuahua Shorthair Mix              Brown   20   Oct  Female  "
      ]
     },
     "execution_count": 24,
     "metadata": {},
     "output_type": "execute_result"
    }
   ],
   "source": [
    "adoptions5.head()"
   ]
  },
  {
   "cell_type": "markdown",
   "id": "2ec073e4",
   "metadata": {},
   "source": [
    "### Drop outlier rows from Age upon Outcome column"
   ]
  },
  {
   "cell_type": "code",
   "execution_count": 25,
   "id": "d6e758e3",
   "metadata": {},
   "outputs": [
    {
     "data": {
      "text/plain": [
       "1 year       19328\n",
       "2 years      18392\n",
       "2 months     16181\n",
       "3 years       7430\n",
       "3 months      6251\n",
       "1 month       5639\n",
       "4 years       4436\n",
       "4 months      4170\n",
       "5 years       4166\n",
       "5 months      2994\n",
       "6 years       2770\n",
       "6 months      2674\n",
       "8 years       2430\n",
       "7 years       2396\n",
       "3 weeks       2269\n",
       "2 weeks       2185\n",
       "8 months      1992\n",
       "10 years      1980\n",
       "10 months     1843\n",
       "7 months      1634\n",
       "4 weeks       1535\n",
       "9 years       1352\n",
       "9 months      1303\n",
       "12 years       947\n",
       "1 weeks        935\n",
       "11 months      809\n",
       "11 years       774\n",
       "1 week         701\n",
       "13 years       624\n",
       "14 years       419\n",
       "3 days         384\n",
       "2 days         354\n",
       "15 years       345\n",
       "1 day          285\n",
       "6 days         249\n",
       "4 days         228\n",
       "0 years        167\n",
       "16 years       156\n",
       "5 weeks        147\n",
       "5 days         143\n",
       "17 years        88\n",
       "18 years        51\n",
       "19 years        26\n",
       "20 years        19\n",
       "22 years         6\n",
       "-1 years         6\n",
       "-3 years         1\n",
       "24 years         1\n",
       "23 years         1\n",
       "-2 years         1\n",
       "Name: Age upon Outcome, dtype: int64"
      ]
     },
     "execution_count": 25,
     "metadata": {},
     "output_type": "execute_result"
    }
   ],
   "source": [
    "adoptions5[\"Age upon Outcome\"].value_counts()"
   ]
  },
  {
   "cell_type": "markdown",
   "id": "ac21a988",
   "metadata": {},
   "source": [
    "#### Begin by dropping the \"22 years\" row."
   ]
  },
  {
   "cell_type": "code",
   "execution_count": 26,
   "id": "5f9718c0",
   "metadata": {},
   "outputs": [],
   "source": [
    "indexNames = adoptions5[adoptions5[\"Age upon Outcome\"] == \"22 years\"].index"
   ]
  },
  {
   "cell_type": "code",
   "execution_count": 27,
   "id": "a4b64c95",
   "metadata": {},
   "outputs": [
    {
     "name": "stderr",
     "output_type": "stream",
     "text": [
      "C:\\Users\\bueno\\anaconda3\\lib\\site-packages\\pandas\\core\\frame.py:4308: SettingWithCopyWarning: \n",
      "A value is trying to be set on a copy of a slice from a DataFrame\n",
      "\n",
      "See the caveats in the documentation: https://pandas.pydata.org/pandas-docs/stable/user_guide/indexing.html#returning-a-view-versus-a-copy\n",
      "  return super().drop(\n"
     ]
    }
   ],
   "source": [
    "adoptions5.drop(indexNames, inplace=True)"
   ]
  },
  {
   "cell_type": "code",
   "execution_count": 28,
   "id": "c732f26c",
   "metadata": {},
   "outputs": [
    {
     "data": {
      "text/plain": [
       "1 year       19328\n",
       "2 years      18392\n",
       "2 months     16181\n",
       "3 years       7430\n",
       "3 months      6251\n",
       "1 month       5639\n",
       "4 years       4436\n",
       "4 months      4170\n",
       "5 years       4166\n",
       "5 months      2994\n",
       "6 years       2770\n",
       "6 months      2674\n",
       "8 years       2430\n",
       "7 years       2396\n",
       "3 weeks       2269\n",
       "2 weeks       2185\n",
       "8 months      1992\n",
       "10 years      1980\n",
       "10 months     1843\n",
       "7 months      1634\n",
       "4 weeks       1535\n",
       "9 years       1352\n",
       "9 months      1303\n",
       "12 years       947\n",
       "1 weeks        935\n",
       "11 months      809\n",
       "11 years       774\n",
       "1 week         701\n",
       "13 years       624\n",
       "14 years       419\n",
       "3 days         384\n",
       "2 days         354\n",
       "15 years       345\n",
       "1 day          285\n",
       "6 days         249\n",
       "4 days         228\n",
       "0 years        167\n",
       "16 years       156\n",
       "5 weeks        147\n",
       "5 days         143\n",
       "17 years        88\n",
       "18 years        51\n",
       "19 years        26\n",
       "20 years        19\n",
       "-1 years         6\n",
       "-3 years         1\n",
       "24 years         1\n",
       "23 years         1\n",
       "-2 years         1\n",
       "Name: Age upon Outcome, dtype: int64"
      ]
     },
     "execution_count": 28,
     "metadata": {},
     "output_type": "execute_result"
    }
   ],
   "source": [
    "adoptions5[\"Age upon Outcome\"].value_counts()"
   ]
  },
  {
   "cell_type": "markdown",
   "id": "7e26edce",
   "metadata": {},
   "source": [
    "#### It worked!  Now drop the remaining 5 outlier rows."
   ]
  },
  {
   "cell_type": "code",
   "execution_count": 29,
   "id": "bbd0a740",
   "metadata": {},
   "outputs": [],
   "source": [
    "indexNames1 = adoptions5[adoptions5[\"Age upon Outcome\"] == \"-1 years\"].index\n",
    "indexNames2 = adoptions5[adoptions5[\"Age upon Outcome\"] == \"23 years\"].index\n",
    "indexNames3 = adoptions5[adoptions5[\"Age upon Outcome\"] == \"-3 years\"].index\n",
    "indexNames4 = adoptions5[adoptions5[\"Age upon Outcome\"] == \"24 years\"].index\n",
    "indexNames5 = adoptions5[adoptions5[\"Age upon Outcome\"] == \"-2 years\"].index"
   ]
  },
  {
   "cell_type": "code",
   "execution_count": 30,
   "id": "c8d84c73",
   "metadata": {},
   "outputs": [],
   "source": [
    "adoptions5.drop(indexNames1, inplace=True)\n",
    "adoptions5.drop(indexNames2, inplace=True)\n",
    "adoptions5.drop(indexNames3, inplace=True)\n",
    "adoptions5.drop(indexNames4, inplace=True)\n",
    "adoptions5.drop(indexNames5, inplace=True)"
   ]
  },
  {
   "cell_type": "code",
   "execution_count": 31,
   "id": "305aa578",
   "metadata": {},
   "outputs": [
    {
     "data": {
      "text/plain": [
       "1 year       19328\n",
       "2 years      18392\n",
       "2 months     16181\n",
       "3 years       7430\n",
       "3 months      6251\n",
       "1 month       5639\n",
       "4 years       4436\n",
       "4 months      4170\n",
       "5 years       4166\n",
       "5 months      2994\n",
       "6 years       2770\n",
       "6 months      2674\n",
       "8 years       2430\n",
       "7 years       2396\n",
       "3 weeks       2269\n",
       "2 weeks       2185\n",
       "8 months      1992\n",
       "10 years      1980\n",
       "10 months     1843\n",
       "7 months      1634\n",
       "4 weeks       1535\n",
       "9 years       1352\n",
       "9 months      1303\n",
       "12 years       947\n",
       "1 weeks        935\n",
       "11 months      809\n",
       "11 years       774\n",
       "1 week         701\n",
       "13 years       624\n",
       "14 years       419\n",
       "3 days         384\n",
       "2 days         354\n",
       "15 years       345\n",
       "1 day          285\n",
       "6 days         249\n",
       "4 days         228\n",
       "0 years        167\n",
       "16 years       156\n",
       "5 weeks        147\n",
       "5 days         143\n",
       "17 years        88\n",
       "18 years        51\n",
       "19 years        26\n",
       "20 years        19\n",
       "Name: Age upon Outcome, dtype: int64"
      ]
     },
     "execution_count": 31,
     "metadata": {},
     "output_type": "execute_result"
    }
   ],
   "source": [
    "adoptions5[\"Age upon Outcome\"].value_counts()"
   ]
  },
  {
   "cell_type": "markdown",
   "id": "75ae5c1c",
   "metadata": {},
   "source": [
    "### Group and Recode Age upon Outcome column"
   ]
  },
  {
   "cell_type": "code",
   "execution_count": 32,
   "id": "104bc5a6",
   "metadata": {},
   "outputs": [
    {
     "name": "stderr",
     "output_type": "stream",
     "text": [
      "<ipython-input-32-f9909a0aeb6b>:87: SettingWithCopyWarning: \n",
      "A value is trying to be set on a copy of a slice from a DataFrame.\n",
      "Try using .loc[row_indexer,col_indexer] = value instead\n",
      "\n",
      "See the caveats in the documentation: https://pandas.pydata.org/pandas-docs/stable/user_guide/indexing.html#returning-a-view-versus-a-copy\n",
      "  adoptions5[\"Age\"] = adoptions5[\"Age upon Outcome\"].apply(age)\n"
     ]
    }
   ],
   "source": [
    "def age (series): \n",
    "    if series == \"1 year\" : \n",
    "        return \"0-1 years\"\n",
    "    if series == \"2 years\": \n",
    "        return \"2-5 years\"\n",
    "    if series == \"2 months\" : \n",
    "        return \"0-1 years\"\n",
    "    if series == \"3 years\" : \n",
    "        return \"2-5 years\"\n",
    "    if series ==\"3 months\":\n",
    "        return \"0-1 years\"\n",
    "    if series ==\"1 month\":\n",
    "        return \"0-1 years\"\n",
    "    if series ==\"4 years\":\n",
    "        return \"2-5 years\"\n",
    "    if series ==\"4 months\":\n",
    "        return \"0-1 years\"\n",
    "    if series ==\"5 years\":\n",
    "        return \"2-5 years\"\n",
    "    if series ==\"5 months\":\n",
    "        return \"0-1 years\"\n",
    "    if series ==\"6 years\":\n",
    "        return \"6-9 years\"\n",
    "    if series ==\"6 months\":\n",
    "        return \"0-1 years\"\n",
    "    if series ==\"8 years\":\n",
    "        return \"6-9 years\"\n",
    "    if series ==\"7 years\":\n",
    "        return \"6-9 years\"\n",
    "    if series ==\"3 weeks\":\n",
    "        return \"0-1 years\"\n",
    "    if series ==\"2 weeks\":\n",
    "        return \"0-1 years\"\n",
    "    if series ==\"8 months\":\n",
    "        return \"0-1 years\"\n",
    "    if series ==\"10 years\":\n",
    "        return \"10-15 years\"\n",
    "    if series ==\"10 months\":\n",
    "        return \"0-1 years\"\n",
    "    if series ==\"7 months\":\n",
    "        return \"0-1 years\"\n",
    "    if series ==\"4 weeks\":\n",
    "        return \"0-1 years\"\n",
    "    if series ==\"9 years\":\n",
    "        return \"6-9 years\"\n",
    "    if series ==\"9 months\":\n",
    "        return \"0-1 years\"\n",
    "    if series ==\"12 years\":\n",
    "        return \"10-15 years\"\n",
    "    if series ==\"1 weeks\":\n",
    "        return \"0-1 years\"\n",
    "    if series ==\"11 months\":\n",
    "        return \"0-1 years\"\n",
    "    if series ==\"11 years\":\n",
    "        return \"10-15 years\"\n",
    "    if series ==\"13 years\":\n",
    "        return \"10-15 years\"\n",
    "    if series ==\"14 years\":\n",
    "        return \"10-15 years\"\n",
    "    if series ==\"3 days\":\n",
    "        return \"0-1 years\"\n",
    "    if series ==\"2 days\":\n",
    "        return \"0-1 years\"\n",
    "    if series ==\"15 years\":\n",
    "        return \"10-15 years\"\n",
    "    if series ==\"1 day\":\n",
    "        return \"0-1 years\"\n",
    "    if series ==\"6 days\":\n",
    "        return \"0-1 years\"\n",
    "    if series ==\"4 days\":\n",
    "        return \"0-1 years\"\n",
    "    if series ==\"16 years\":\n",
    "        return \"16+ years\"\n",
    "    if series ==\"5 weeks\":\n",
    "        return \"0-1 years\"\n",
    "    if series ==\"5 days\":\n",
    "        return \"0-1 years\"\n",
    "    if series ==\"17 years\":\n",
    "        return \"16+ years\"\n",
    "    if series ==\"18 years\":\n",
    "        return \"16+ years\"\n",
    "    if series ==\"19 years\":\n",
    "        return \"16+ years\"\n",
    "    if series ==\"20 years\":\n",
    "        return \"16+ years\"\n",
    "     \n",
    "adoptions5[\"Age\"] = adoptions5[\"Age upon Outcome\"].apply(age)"
   ]
  },
  {
   "cell_type": "code",
   "execution_count": 33,
   "id": "43463e3f",
   "metadata": {},
   "outputs": [
    {
     "data": {
      "text/plain": [
       "0-1 years      73532\n",
       "2-5 years      34424\n",
       "6-9 years       8948\n",
       "10-15 years     5089\n",
       "16+ years        340\n",
       "Name: Age, dtype: int64"
      ]
     },
     "execution_count": 33,
     "metadata": {},
     "output_type": "execute_result"
    }
   ],
   "source": [
    "adoptions5[\"Age\"].value_counts()"
   ]
  },
  {
   "cell_type": "markdown",
   "id": "b355c243",
   "metadata": {},
   "source": [
    "### Drop Age upon Outcome column"
   ]
  },
  {
   "cell_type": "code",
   "execution_count": 34,
   "id": "bbd375ae",
   "metadata": {},
   "outputs": [],
   "source": [
    "adoptions5.drop([\"Age upon Outcome\"], axis=1, inplace=True)"
   ]
  },
  {
   "cell_type": "code",
   "execution_count": 35,
   "id": "5c21ced7",
   "metadata": {},
   "outputs": [
    {
     "data": {
      "text/html": [
       "<div>\n",
       "<style scoped>\n",
       "    .dataframe tbody tr th:only-of-type {\n",
       "        vertical-align: middle;\n",
       "    }\n",
       "\n",
       "    .dataframe tbody tr th {\n",
       "        vertical-align: top;\n",
       "    }\n",
       "\n",
       "    .dataframe thead th {\n",
       "        text-align: right;\n",
       "    }\n",
       "</style>\n",
       "<table border=\"1\" class=\"dataframe\">\n",
       "  <thead>\n",
       "    <tr style=\"text-align: right;\">\n",
       "      <th></th>\n",
       "      <th>Outcome Type</th>\n",
       "      <th>Animal Type</th>\n",
       "      <th>Breed</th>\n",
       "      <th>Color</th>\n",
       "      <th>Year</th>\n",
       "      <th>Month</th>\n",
       "      <th>Sex</th>\n",
       "      <th>Age</th>\n",
       "    </tr>\n",
       "  </thead>\n",
       "  <tbody>\n",
       "    <tr>\n",
       "      <th>0</th>\n",
       "      <td>Rto-Adopt</td>\n",
       "      <td>Cat</td>\n",
       "      <td>Domestic Shorthair Mix</td>\n",
       "      <td>Brown Tabby/White</td>\n",
       "      <td>19</td>\n",
       "      <td>May</td>\n",
       "      <td>Male</td>\n",
       "      <td>2-5 years</td>\n",
       "    </tr>\n",
       "    <tr>\n",
       "      <th>1</th>\n",
       "      <td>Adoption</td>\n",
       "      <td>Dog</td>\n",
       "      <td>Chihuahua Shorthair Mix</td>\n",
       "      <td>White/Brown</td>\n",
       "      <td>18</td>\n",
       "      <td>Jul</td>\n",
       "      <td>Male</td>\n",
       "      <td>0-1 years</td>\n",
       "    </tr>\n",
       "    <tr>\n",
       "      <th>3</th>\n",
       "      <td>Adoption</td>\n",
       "      <td>Dog</td>\n",
       "      <td>Anatol Shepherd/Labrador Retriever</td>\n",
       "      <td>Buff</td>\n",
       "      <td>16</td>\n",
       "      <td>Feb</td>\n",
       "      <td>Male</td>\n",
       "      <td>0-1 years</td>\n",
       "    </tr>\n",
       "    <tr>\n",
       "      <th>4</th>\n",
       "      <td>Transfer</td>\n",
       "      <td>Cat</td>\n",
       "      <td>Domestic Shorthair Mix</td>\n",
       "      <td>Orange Tabby</td>\n",
       "      <td>14</td>\n",
       "      <td>Mar</td>\n",
       "      <td>Male</td>\n",
       "      <td>0-1 years</td>\n",
       "    </tr>\n",
       "    <tr>\n",
       "      <th>5</th>\n",
       "      <td>Adoption</td>\n",
       "      <td>Dog</td>\n",
       "      <td>Chihuahua Shorthair Mix</td>\n",
       "      <td>Brown</td>\n",
       "      <td>20</td>\n",
       "      <td>Oct</td>\n",
       "      <td>Female</td>\n",
       "      <td>6-9 years</td>\n",
       "    </tr>\n",
       "  </tbody>\n",
       "</table>\n",
       "</div>"
      ],
      "text/plain": [
       "  Outcome Type Animal Type                               Breed  \\\n",
       "0    Rto-Adopt         Cat              Domestic Shorthair Mix   \n",
       "1     Adoption         Dog             Chihuahua Shorthair Mix   \n",
       "3     Adoption         Dog  Anatol Shepherd/Labrador Retriever   \n",
       "4     Transfer         Cat              Domestic Shorthair Mix   \n",
       "5     Adoption         Dog             Chihuahua Shorthair Mix   \n",
       "\n",
       "               Color Year Month     Sex        Age  \n",
       "0  Brown Tabby/White   19   May    Male  2-5 years  \n",
       "1        White/Brown   18   Jul    Male  0-1 years  \n",
       "3               Buff   16   Feb    Male  0-1 years  \n",
       "4       Orange Tabby   14   Mar    Male  0-1 years  \n",
       "5              Brown   20   Oct  Female  6-9 years  "
      ]
     },
     "execution_count": 35,
     "metadata": {},
     "output_type": "execute_result"
    }
   ],
   "source": [
    "adoptions5.head()"
   ]
  },
  {
   "cell_type": "markdown",
   "id": "6c7a6745",
   "metadata": {},
   "source": [
    "### Recode \"Outcome Type\" column to Adoption or Not Adoption"
   ]
  },
  {
   "cell_type": "code",
   "execution_count": 36,
   "id": "8a388043",
   "metadata": {},
   "outputs": [
    {
     "data": {
      "text/plain": [
       "Adoption           58910\n",
       "Transfer           36797\n",
       "Return to Owner    21731\n",
       "Euthanasia          3687\n",
       "Died                1033\n",
       "Rto-Adopt            819\n",
       "Disposal             137\n",
       "Missing               65\n",
       "Relocate               4\n",
       "Name: Outcome Type, dtype: int64"
      ]
     },
     "execution_count": 36,
     "metadata": {},
     "output_type": "execute_result"
    }
   ],
   "source": [
    "adoptions5[\"Outcome Type\"].value_counts()"
   ]
  },
  {
   "cell_type": "code",
   "execution_count": 37,
   "id": "7b9d3c6e",
   "metadata": {},
   "outputs": [
    {
     "name": "stderr",
     "output_type": "stream",
     "text": [
      "<ipython-input-37-37f47585a9c5>:7: SettingWithCopyWarning: \n",
      "A value is trying to be set on a copy of a slice from a DataFrame.\n",
      "Try using .loc[row_indexer,col_indexer] = value instead\n",
      "\n",
      "See the caveats in the documentation: https://pandas.pydata.org/pandas-docs/stable/user_guide/indexing.html#returning-a-view-versus-a-copy\n",
      "  adoptions5[\"AdoptionYN\"] = adoptions5[\"Outcome Type\"].apply(adopt)\n"
     ]
    }
   ],
   "source": [
    "def adopt (series): \n",
    "    if series == \"Adoption\" : \n",
    "        return 1\n",
    "    else:\n",
    "        return 0\n",
    "    \n",
    "adoptions5[\"AdoptionYN\"] = adoptions5[\"Outcome Type\"].apply(adopt)"
   ]
  },
  {
   "cell_type": "code",
   "execution_count": 38,
   "id": "ce7d2e25",
   "metadata": {},
   "outputs": [
    {
     "data": {
      "text/html": [
       "<div>\n",
       "<style scoped>\n",
       "    .dataframe tbody tr th:only-of-type {\n",
       "        vertical-align: middle;\n",
       "    }\n",
       "\n",
       "    .dataframe tbody tr th {\n",
       "        vertical-align: top;\n",
       "    }\n",
       "\n",
       "    .dataframe thead th {\n",
       "        text-align: right;\n",
       "    }\n",
       "</style>\n",
       "<table border=\"1\" class=\"dataframe\">\n",
       "  <thead>\n",
       "    <tr style=\"text-align: right;\">\n",
       "      <th></th>\n",
       "      <th>Outcome Type</th>\n",
       "      <th>Animal Type</th>\n",
       "      <th>Breed</th>\n",
       "      <th>Color</th>\n",
       "      <th>Year</th>\n",
       "      <th>Month</th>\n",
       "      <th>Sex</th>\n",
       "      <th>Age</th>\n",
       "      <th>AdoptionYN</th>\n",
       "    </tr>\n",
       "  </thead>\n",
       "  <tbody>\n",
       "    <tr>\n",
       "      <th>0</th>\n",
       "      <td>Rto-Adopt</td>\n",
       "      <td>Cat</td>\n",
       "      <td>Domestic Shorthair Mix</td>\n",
       "      <td>Brown Tabby/White</td>\n",
       "      <td>19</td>\n",
       "      <td>May</td>\n",
       "      <td>Male</td>\n",
       "      <td>2-5 years</td>\n",
       "      <td>0</td>\n",
       "    </tr>\n",
       "    <tr>\n",
       "      <th>1</th>\n",
       "      <td>Adoption</td>\n",
       "      <td>Dog</td>\n",
       "      <td>Chihuahua Shorthair Mix</td>\n",
       "      <td>White/Brown</td>\n",
       "      <td>18</td>\n",
       "      <td>Jul</td>\n",
       "      <td>Male</td>\n",
       "      <td>0-1 years</td>\n",
       "      <td>1</td>\n",
       "    </tr>\n",
       "    <tr>\n",
       "      <th>3</th>\n",
       "      <td>Adoption</td>\n",
       "      <td>Dog</td>\n",
       "      <td>Anatol Shepherd/Labrador Retriever</td>\n",
       "      <td>Buff</td>\n",
       "      <td>16</td>\n",
       "      <td>Feb</td>\n",
       "      <td>Male</td>\n",
       "      <td>0-1 years</td>\n",
       "      <td>1</td>\n",
       "    </tr>\n",
       "    <tr>\n",
       "      <th>4</th>\n",
       "      <td>Transfer</td>\n",
       "      <td>Cat</td>\n",
       "      <td>Domestic Shorthair Mix</td>\n",
       "      <td>Orange Tabby</td>\n",
       "      <td>14</td>\n",
       "      <td>Mar</td>\n",
       "      <td>Male</td>\n",
       "      <td>0-1 years</td>\n",
       "      <td>0</td>\n",
       "    </tr>\n",
       "    <tr>\n",
       "      <th>5</th>\n",
       "      <td>Adoption</td>\n",
       "      <td>Dog</td>\n",
       "      <td>Chihuahua Shorthair Mix</td>\n",
       "      <td>Brown</td>\n",
       "      <td>20</td>\n",
       "      <td>Oct</td>\n",
       "      <td>Female</td>\n",
       "      <td>6-9 years</td>\n",
       "      <td>1</td>\n",
       "    </tr>\n",
       "  </tbody>\n",
       "</table>\n",
       "</div>"
      ],
      "text/plain": [
       "  Outcome Type Animal Type                               Breed  \\\n",
       "0    Rto-Adopt         Cat              Domestic Shorthair Mix   \n",
       "1     Adoption         Dog             Chihuahua Shorthair Mix   \n",
       "3     Adoption         Dog  Anatol Shepherd/Labrador Retriever   \n",
       "4     Transfer         Cat              Domestic Shorthair Mix   \n",
       "5     Adoption         Dog             Chihuahua Shorthair Mix   \n",
       "\n",
       "               Color Year Month     Sex        Age  AdoptionYN  \n",
       "0  Brown Tabby/White   19   May    Male  2-5 years           0  \n",
       "1        White/Brown   18   Jul    Male  0-1 years           1  \n",
       "3               Buff   16   Feb    Male  0-1 years           1  \n",
       "4       Orange Tabby   14   Mar    Male  0-1 years           0  \n",
       "5              Brown   20   Oct  Female  6-9 years           1  "
      ]
     },
     "execution_count": 38,
     "metadata": {},
     "output_type": "execute_result"
    }
   ],
   "source": [
    "adoptions5.head()"
   ]
  },
  {
   "cell_type": "code",
   "execution_count": 39,
   "id": "37025d76",
   "metadata": {},
   "outputs": [
    {
     "data": {
      "text/plain": [
       "0    64291\n",
       "1    58910\n",
       "Name: AdoptionYN, dtype: int64"
      ]
     },
     "execution_count": 39,
     "metadata": {},
     "output_type": "execute_result"
    }
   ],
   "source": [
    "adoptions5[\"AdoptionYN\"].value_counts()"
   ]
  },
  {
   "cell_type": "markdown",
   "id": "7a6d4e28",
   "metadata": {},
   "source": [
    "### Drop Outcome Type column"
   ]
  },
  {
   "cell_type": "code",
   "execution_count": 40,
   "id": "edf89b28",
   "metadata": {},
   "outputs": [
    {
     "name": "stderr",
     "output_type": "stream",
     "text": [
      "C:\\Users\\bueno\\anaconda3\\lib\\site-packages\\pandas\\core\\frame.py:4308: SettingWithCopyWarning: \n",
      "A value is trying to be set on a copy of a slice from a DataFrame\n",
      "\n",
      "See the caveats in the documentation: https://pandas.pydata.org/pandas-docs/stable/user_guide/indexing.html#returning-a-view-versus-a-copy\n",
      "  return super().drop(\n"
     ]
    }
   ],
   "source": [
    "adoptions5.drop([\"Outcome Type\"], axis=1, inplace=True)"
   ]
  },
  {
   "cell_type": "code",
   "execution_count": 41,
   "id": "68fad005",
   "metadata": {},
   "outputs": [
    {
     "data": {
      "text/html": [
       "<div>\n",
       "<style scoped>\n",
       "    .dataframe tbody tr th:only-of-type {\n",
       "        vertical-align: middle;\n",
       "    }\n",
       "\n",
       "    .dataframe tbody tr th {\n",
       "        vertical-align: top;\n",
       "    }\n",
       "\n",
       "    .dataframe thead th {\n",
       "        text-align: right;\n",
       "    }\n",
       "</style>\n",
       "<table border=\"1\" class=\"dataframe\">\n",
       "  <thead>\n",
       "    <tr style=\"text-align: right;\">\n",
       "      <th></th>\n",
       "      <th>Animal Type</th>\n",
       "      <th>Breed</th>\n",
       "      <th>Color</th>\n",
       "      <th>Year</th>\n",
       "      <th>Month</th>\n",
       "      <th>Sex</th>\n",
       "      <th>Age</th>\n",
       "      <th>AdoptionYN</th>\n",
       "    </tr>\n",
       "  </thead>\n",
       "  <tbody>\n",
       "    <tr>\n",
       "      <th>0</th>\n",
       "      <td>Cat</td>\n",
       "      <td>Domestic Shorthair Mix</td>\n",
       "      <td>Brown Tabby/White</td>\n",
       "      <td>19</td>\n",
       "      <td>May</td>\n",
       "      <td>Male</td>\n",
       "      <td>2-5 years</td>\n",
       "      <td>0</td>\n",
       "    </tr>\n",
       "    <tr>\n",
       "      <th>1</th>\n",
       "      <td>Dog</td>\n",
       "      <td>Chihuahua Shorthair Mix</td>\n",
       "      <td>White/Brown</td>\n",
       "      <td>18</td>\n",
       "      <td>Jul</td>\n",
       "      <td>Male</td>\n",
       "      <td>0-1 years</td>\n",
       "      <td>1</td>\n",
       "    </tr>\n",
       "    <tr>\n",
       "      <th>3</th>\n",
       "      <td>Dog</td>\n",
       "      <td>Anatol Shepherd/Labrador Retriever</td>\n",
       "      <td>Buff</td>\n",
       "      <td>16</td>\n",
       "      <td>Feb</td>\n",
       "      <td>Male</td>\n",
       "      <td>0-1 years</td>\n",
       "      <td>1</td>\n",
       "    </tr>\n",
       "    <tr>\n",
       "      <th>4</th>\n",
       "      <td>Cat</td>\n",
       "      <td>Domestic Shorthair Mix</td>\n",
       "      <td>Orange Tabby</td>\n",
       "      <td>14</td>\n",
       "      <td>Mar</td>\n",
       "      <td>Male</td>\n",
       "      <td>0-1 years</td>\n",
       "      <td>0</td>\n",
       "    </tr>\n",
       "    <tr>\n",
       "      <th>5</th>\n",
       "      <td>Dog</td>\n",
       "      <td>Chihuahua Shorthair Mix</td>\n",
       "      <td>Brown</td>\n",
       "      <td>20</td>\n",
       "      <td>Oct</td>\n",
       "      <td>Female</td>\n",
       "      <td>6-9 years</td>\n",
       "      <td>1</td>\n",
       "    </tr>\n",
       "  </tbody>\n",
       "</table>\n",
       "</div>"
      ],
      "text/plain": [
       "  Animal Type                               Breed              Color Year  \\\n",
       "0         Cat              Domestic Shorthair Mix  Brown Tabby/White   19   \n",
       "1         Dog             Chihuahua Shorthair Mix        White/Brown   18   \n",
       "3         Dog  Anatol Shepherd/Labrador Retriever               Buff   16   \n",
       "4         Cat              Domestic Shorthair Mix       Orange Tabby   14   \n",
       "5         Dog             Chihuahua Shorthair Mix              Brown   20   \n",
       "\n",
       "  Month     Sex        Age  AdoptionYN  \n",
       "0   May    Male  2-5 years           0  \n",
       "1   Jul    Male  0-1 years           1  \n",
       "3   Feb    Male  0-1 years           1  \n",
       "4   Mar    Male  0-1 years           0  \n",
       "5   Oct  Female  6-9 years           1  "
      ]
     },
     "execution_count": 41,
     "metadata": {},
     "output_type": "execute_result"
    }
   ],
   "source": [
    "adoptions5.head()"
   ]
  },
  {
   "cell_type": "markdown",
   "id": "4a475851",
   "metadata": {},
   "source": [
    "### Recode Animal Type to a numeric variable"
   ]
  },
  {
   "cell_type": "code",
   "execution_count": 42,
   "id": "677865e8",
   "metadata": {},
   "outputs": [
    {
     "data": {
      "text/plain": [
       "Animal Type    object\n",
       "Breed          object\n",
       "Color          object\n",
       "Year           object\n",
       "Month          object\n",
       "Sex            object\n",
       "Age            object\n",
       "AdoptionYN      int64\n",
       "dtype: object"
      ]
     },
     "execution_count": 42,
     "metadata": {},
     "output_type": "execute_result"
    }
   ],
   "source": [
    "adoptions5.dtypes"
   ]
  },
  {
   "cell_type": "code",
   "execution_count": 43,
   "id": "237e9655",
   "metadata": {},
   "outputs": [
    {
     "name": "stderr",
     "output_type": "stream",
     "text": [
      "<ipython-input-43-e6b217218a0c>:7: SettingWithCopyWarning: \n",
      "A value is trying to be set on a copy of a slice from a DataFrame.\n",
      "Try using .loc[row_indexer,col_indexer] = value instead\n",
      "\n",
      "See the caveats in the documentation: https://pandas.pydata.org/pandas-docs/stable/user_guide/indexing.html#returning-a-view-versus-a-copy\n",
      "  adoptions5['typeR'] = adoptions5['Animal Type'].apply(type_recode)\n"
     ]
    }
   ],
   "source": [
    "def type_recode (series):\n",
    "    if series == \"Cat\":\n",
    "        return 0\n",
    "    if series == \"Dog\":\n",
    "        return 1\n",
    "    \n",
    "adoptions5['typeR'] = adoptions5['Animal Type'].apply(type_recode)"
   ]
  },
  {
   "cell_type": "code",
   "execution_count": 44,
   "id": "bb008fb1",
   "metadata": {},
   "outputs": [
    {
     "data": {
      "text/html": [
       "<div>\n",
       "<style scoped>\n",
       "    .dataframe tbody tr th:only-of-type {\n",
       "        vertical-align: middle;\n",
       "    }\n",
       "\n",
       "    .dataframe tbody tr th {\n",
       "        vertical-align: top;\n",
       "    }\n",
       "\n",
       "    .dataframe thead th {\n",
       "        text-align: right;\n",
       "    }\n",
       "</style>\n",
       "<table border=\"1\" class=\"dataframe\">\n",
       "  <thead>\n",
       "    <tr style=\"text-align: right;\">\n",
       "      <th></th>\n",
       "      <th>Animal Type</th>\n",
       "      <th>Breed</th>\n",
       "      <th>Color</th>\n",
       "      <th>Year</th>\n",
       "      <th>Month</th>\n",
       "      <th>Sex</th>\n",
       "      <th>Age</th>\n",
       "      <th>AdoptionYN</th>\n",
       "      <th>typeR</th>\n",
       "    </tr>\n",
       "  </thead>\n",
       "  <tbody>\n",
       "    <tr>\n",
       "      <th>0</th>\n",
       "      <td>Cat</td>\n",
       "      <td>Domestic Shorthair Mix</td>\n",
       "      <td>Brown Tabby/White</td>\n",
       "      <td>19</td>\n",
       "      <td>May</td>\n",
       "      <td>Male</td>\n",
       "      <td>2-5 years</td>\n",
       "      <td>0</td>\n",
       "      <td>0</td>\n",
       "    </tr>\n",
       "    <tr>\n",
       "      <th>1</th>\n",
       "      <td>Dog</td>\n",
       "      <td>Chihuahua Shorthair Mix</td>\n",
       "      <td>White/Brown</td>\n",
       "      <td>18</td>\n",
       "      <td>Jul</td>\n",
       "      <td>Male</td>\n",
       "      <td>0-1 years</td>\n",
       "      <td>1</td>\n",
       "      <td>1</td>\n",
       "    </tr>\n",
       "    <tr>\n",
       "      <th>3</th>\n",
       "      <td>Dog</td>\n",
       "      <td>Anatol Shepherd/Labrador Retriever</td>\n",
       "      <td>Buff</td>\n",
       "      <td>16</td>\n",
       "      <td>Feb</td>\n",
       "      <td>Male</td>\n",
       "      <td>0-1 years</td>\n",
       "      <td>1</td>\n",
       "      <td>1</td>\n",
       "    </tr>\n",
       "    <tr>\n",
       "      <th>4</th>\n",
       "      <td>Cat</td>\n",
       "      <td>Domestic Shorthair Mix</td>\n",
       "      <td>Orange Tabby</td>\n",
       "      <td>14</td>\n",
       "      <td>Mar</td>\n",
       "      <td>Male</td>\n",
       "      <td>0-1 years</td>\n",
       "      <td>0</td>\n",
       "      <td>0</td>\n",
       "    </tr>\n",
       "    <tr>\n",
       "      <th>5</th>\n",
       "      <td>Dog</td>\n",
       "      <td>Chihuahua Shorthair Mix</td>\n",
       "      <td>Brown</td>\n",
       "      <td>20</td>\n",
       "      <td>Oct</td>\n",
       "      <td>Female</td>\n",
       "      <td>6-9 years</td>\n",
       "      <td>1</td>\n",
       "      <td>1</td>\n",
       "    </tr>\n",
       "  </tbody>\n",
       "</table>\n",
       "</div>"
      ],
      "text/plain": [
       "  Animal Type                               Breed              Color Year  \\\n",
       "0         Cat              Domestic Shorthair Mix  Brown Tabby/White   19   \n",
       "1         Dog             Chihuahua Shorthair Mix        White/Brown   18   \n",
       "3         Dog  Anatol Shepherd/Labrador Retriever               Buff   16   \n",
       "4         Cat              Domestic Shorthair Mix       Orange Tabby   14   \n",
       "5         Dog             Chihuahua Shorthair Mix              Brown   20   \n",
       "\n",
       "  Month     Sex        Age  AdoptionYN  typeR  \n",
       "0   May    Male  2-5 years           0      0  \n",
       "1   Jul    Male  0-1 years           1      1  \n",
       "3   Feb    Male  0-1 years           1      1  \n",
       "4   Mar    Male  0-1 years           0      0  \n",
       "5   Oct  Female  6-9 years           1      1  "
      ]
     },
     "execution_count": 44,
     "metadata": {},
     "output_type": "execute_result"
    }
   ],
   "source": [
    "adoptions5.head()"
   ]
  },
  {
   "cell_type": "markdown",
   "id": "3e54cac2",
   "metadata": {},
   "source": [
    "### Convert data type of Year to integer"
   ]
  },
  {
   "cell_type": "code",
   "execution_count": 45,
   "id": "2b49d100",
   "metadata": {},
   "outputs": [
    {
     "name": "stderr",
     "output_type": "stream",
     "text": [
      "<ipython-input-45-f07139841f8e>:1: SettingWithCopyWarning: \n",
      "A value is trying to be set on a copy of a slice from a DataFrame.\n",
      "Try using .loc[row_indexer,col_indexer] = value instead\n",
      "\n",
      "See the caveats in the documentation: https://pandas.pydata.org/pandas-docs/stable/user_guide/indexing.html#returning-a-view-versus-a-copy\n",
      "  adoptions5['Year'] = adoptions5['Year'].astype(int)\n"
     ]
    }
   ],
   "source": [
    "adoptions5['Year'] = adoptions5['Year'].astype(int)"
   ]
  },
  {
   "cell_type": "code",
   "execution_count": 46,
   "id": "4fb5f688",
   "metadata": {},
   "outputs": [
    {
     "data": {
      "text/plain": [
       "dtype('int32')"
      ]
     },
     "execution_count": 46,
     "metadata": {},
     "output_type": "execute_result"
    }
   ],
   "source": [
    "adoptions5[\"Year\"].dtypes"
   ]
  },
  {
   "cell_type": "markdown",
   "id": "a107eb47",
   "metadata": {},
   "source": [
    "### Drop \"unknown\" rows from Sex column"
   ]
  },
  {
   "cell_type": "code",
   "execution_count": 47,
   "id": "de4e8c5b",
   "metadata": {},
   "outputs": [
    {
     "data": {
      "text/plain": [
       "Male       61827\n",
       "Female     56912\n",
       "Unknown     4462\n",
       "Name: Sex, dtype: int64"
      ]
     },
     "execution_count": 47,
     "metadata": {},
     "output_type": "execute_result"
    }
   ],
   "source": [
    "adoptions5[\"Sex\"].value_counts()"
   ]
  },
  {
   "cell_type": "code",
   "execution_count": 48,
   "id": "cc70918d",
   "metadata": {},
   "outputs": [],
   "source": [
    "indexNames = adoptions5[adoptions5[\"Sex\"] == \"Unknown\"].index"
   ]
  },
  {
   "cell_type": "code",
   "execution_count": 49,
   "id": "67783151",
   "metadata": {},
   "outputs": [
    {
     "name": "stderr",
     "output_type": "stream",
     "text": [
      "C:\\Users\\bueno\\anaconda3\\lib\\site-packages\\pandas\\core\\frame.py:4308: SettingWithCopyWarning: \n",
      "A value is trying to be set on a copy of a slice from a DataFrame\n",
      "\n",
      "See the caveats in the documentation: https://pandas.pydata.org/pandas-docs/stable/user_guide/indexing.html#returning-a-view-versus-a-copy\n",
      "  return super().drop(\n"
     ]
    }
   ],
   "source": [
    "adoptions5.drop(indexNames, inplace=True)"
   ]
  },
  {
   "cell_type": "code",
   "execution_count": 50,
   "id": "10b98dd9",
   "metadata": {},
   "outputs": [
    {
     "data": {
      "text/plain": [
       "Male      61827\n",
       "Female    56912\n",
       "Name: Sex, dtype: int64"
      ]
     },
     "execution_count": 50,
     "metadata": {},
     "output_type": "execute_result"
    }
   ],
   "source": [
    "adoptions5[\"Sex\"].value_counts()"
   ]
  },
  {
   "cell_type": "markdown",
   "id": "d6abe776",
   "metadata": {},
   "source": [
    "### Recode Sex to a numeric variable"
   ]
  },
  {
   "cell_type": "code",
   "execution_count": 51,
   "id": "f925c316",
   "metadata": {},
   "outputs": [
    {
     "name": "stderr",
     "output_type": "stream",
     "text": [
      "<ipython-input-51-a5062100dc53>:7: SettingWithCopyWarning: \n",
      "A value is trying to be set on a copy of a slice from a DataFrame.\n",
      "Try using .loc[row_indexer,col_indexer] = value instead\n",
      "\n",
      "See the caveats in the documentation: https://pandas.pydata.org/pandas-docs/stable/user_guide/indexing.html#returning-a-view-versus-a-copy\n",
      "  adoptions5['sexR'] = adoptions5['Sex'].apply(sex_recode)\n"
     ]
    }
   ],
   "source": [
    "def sex_recode (series):\n",
    "    if series == \"Male\":\n",
    "        return 0\n",
    "    if series == \"Female\":\n",
    "        return 1\n",
    "    \n",
    "adoptions5['sexR'] = adoptions5['Sex'].apply(sex_recode)"
   ]
  },
  {
   "cell_type": "code",
   "execution_count": 52,
   "id": "93169b78",
   "metadata": {},
   "outputs": [
    {
     "data": {
      "text/html": [
       "<div>\n",
       "<style scoped>\n",
       "    .dataframe tbody tr th:only-of-type {\n",
       "        vertical-align: middle;\n",
       "    }\n",
       "\n",
       "    .dataframe tbody tr th {\n",
       "        vertical-align: top;\n",
       "    }\n",
       "\n",
       "    .dataframe thead th {\n",
       "        text-align: right;\n",
       "    }\n",
       "</style>\n",
       "<table border=\"1\" class=\"dataframe\">\n",
       "  <thead>\n",
       "    <tr style=\"text-align: right;\">\n",
       "      <th></th>\n",
       "      <th>Animal Type</th>\n",
       "      <th>Breed</th>\n",
       "      <th>Color</th>\n",
       "      <th>Year</th>\n",
       "      <th>Month</th>\n",
       "      <th>Sex</th>\n",
       "      <th>Age</th>\n",
       "      <th>AdoptionYN</th>\n",
       "      <th>typeR</th>\n",
       "      <th>sexR</th>\n",
       "    </tr>\n",
       "  </thead>\n",
       "  <tbody>\n",
       "    <tr>\n",
       "      <th>0</th>\n",
       "      <td>Cat</td>\n",
       "      <td>Domestic Shorthair Mix</td>\n",
       "      <td>Brown Tabby/White</td>\n",
       "      <td>19</td>\n",
       "      <td>May</td>\n",
       "      <td>Male</td>\n",
       "      <td>2-5 years</td>\n",
       "      <td>0</td>\n",
       "      <td>0</td>\n",
       "      <td>0</td>\n",
       "    </tr>\n",
       "    <tr>\n",
       "      <th>1</th>\n",
       "      <td>Dog</td>\n",
       "      <td>Chihuahua Shorthair Mix</td>\n",
       "      <td>White/Brown</td>\n",
       "      <td>18</td>\n",
       "      <td>Jul</td>\n",
       "      <td>Male</td>\n",
       "      <td>0-1 years</td>\n",
       "      <td>1</td>\n",
       "      <td>1</td>\n",
       "      <td>0</td>\n",
       "    </tr>\n",
       "    <tr>\n",
       "      <th>3</th>\n",
       "      <td>Dog</td>\n",
       "      <td>Anatol Shepherd/Labrador Retriever</td>\n",
       "      <td>Buff</td>\n",
       "      <td>16</td>\n",
       "      <td>Feb</td>\n",
       "      <td>Male</td>\n",
       "      <td>0-1 years</td>\n",
       "      <td>1</td>\n",
       "      <td>1</td>\n",
       "      <td>0</td>\n",
       "    </tr>\n",
       "    <tr>\n",
       "      <th>4</th>\n",
       "      <td>Cat</td>\n",
       "      <td>Domestic Shorthair Mix</td>\n",
       "      <td>Orange Tabby</td>\n",
       "      <td>14</td>\n",
       "      <td>Mar</td>\n",
       "      <td>Male</td>\n",
       "      <td>0-1 years</td>\n",
       "      <td>0</td>\n",
       "      <td>0</td>\n",
       "      <td>0</td>\n",
       "    </tr>\n",
       "    <tr>\n",
       "      <th>5</th>\n",
       "      <td>Dog</td>\n",
       "      <td>Chihuahua Shorthair Mix</td>\n",
       "      <td>Brown</td>\n",
       "      <td>20</td>\n",
       "      <td>Oct</td>\n",
       "      <td>Female</td>\n",
       "      <td>6-9 years</td>\n",
       "      <td>1</td>\n",
       "      <td>1</td>\n",
       "      <td>1</td>\n",
       "    </tr>\n",
       "  </tbody>\n",
       "</table>\n",
       "</div>"
      ],
      "text/plain": [
       "  Animal Type                               Breed              Color  Year  \\\n",
       "0         Cat              Domestic Shorthair Mix  Brown Tabby/White    19   \n",
       "1         Dog             Chihuahua Shorthair Mix        White/Brown    18   \n",
       "3         Dog  Anatol Shepherd/Labrador Retriever               Buff    16   \n",
       "4         Cat              Domestic Shorthair Mix       Orange Tabby    14   \n",
       "5         Dog             Chihuahua Shorthair Mix              Brown    20   \n",
       "\n",
       "  Month     Sex        Age  AdoptionYN  typeR  sexR  \n",
       "0   May    Male  2-5 years           0      0     0  \n",
       "1   Jul    Male  0-1 years           1      1     0  \n",
       "3   Feb    Male  0-1 years           1      1     0  \n",
       "4   Mar    Male  0-1 years           0      0     0  \n",
       "5   Oct  Female  6-9 years           1      1     1  "
      ]
     },
     "execution_count": 52,
     "metadata": {},
     "output_type": "execute_result"
    }
   ],
   "source": [
    "adoptions5.head()"
   ]
  },
  {
   "cell_type": "markdown",
   "id": "2b866854",
   "metadata": {},
   "source": [
    "### Recode Age to a numeric variable"
   ]
  },
  {
   "cell_type": "code",
   "execution_count": 53,
   "id": "14f7760f",
   "metadata": {},
   "outputs": [
    {
     "data": {
      "text/plain": [
       "0-1 years      70101\n",
       "2-5 years      33931\n",
       "6-9 years       8910\n",
       "10-15 years     5054\n",
       "16+ years        337\n",
       "Name: Age, dtype: int64"
      ]
     },
     "execution_count": 53,
     "metadata": {},
     "output_type": "execute_result"
    }
   ],
   "source": [
    "adoptions5['Age'].value_counts()"
   ]
  },
  {
   "cell_type": "code",
   "execution_count": 54,
   "id": "406068b2",
   "metadata": {},
   "outputs": [
    {
     "data": {
      "text/plain": [
       "dtype('O')"
      ]
     },
     "execution_count": 54,
     "metadata": {},
     "output_type": "execute_result"
    }
   ],
   "source": [
    "adoptions5['Age'].dtypes"
   ]
  },
  {
   "cell_type": "code",
   "execution_count": 55,
   "id": "39d1f1be",
   "metadata": {},
   "outputs": [
    {
     "name": "stderr",
     "output_type": "stream",
     "text": [
      "<ipython-input-55-7bd947281773>:13: SettingWithCopyWarning: \n",
      "A value is trying to be set on a copy of a slice from a DataFrame.\n",
      "Try using .loc[row_indexer,col_indexer] = value instead\n",
      "\n",
      "See the caveats in the documentation: https://pandas.pydata.org/pandas-docs/stable/user_guide/indexing.html#returning-a-view-versus-a-copy\n",
      "  adoptions5['ageR'] = adoptions5['Age'].apply(age_recode)\n"
     ]
    }
   ],
   "source": [
    "def age_recode (series):\n",
    "    if series == \"0-1 years\":\n",
    "        return 0\n",
    "    if series == \"2-5 years\":\n",
    "        return 1\n",
    "    if series == \"6-9 years\":\n",
    "        return 2\n",
    "    if series == \"10-15 years\":\n",
    "        return 3\n",
    "    if series == \"16+ years\":\n",
    "        return 4\n",
    "    \n",
    "adoptions5['ageR'] = adoptions5['Age'].apply(age_recode)"
   ]
  },
  {
   "cell_type": "code",
   "execution_count": 56,
   "id": "59003fab",
   "metadata": {},
   "outputs": [
    {
     "data": {
      "text/html": [
       "<div>\n",
       "<style scoped>\n",
       "    .dataframe tbody tr th:only-of-type {\n",
       "        vertical-align: middle;\n",
       "    }\n",
       "\n",
       "    .dataframe tbody tr th {\n",
       "        vertical-align: top;\n",
       "    }\n",
       "\n",
       "    .dataframe thead th {\n",
       "        text-align: right;\n",
       "    }\n",
       "</style>\n",
       "<table border=\"1\" class=\"dataframe\">\n",
       "  <thead>\n",
       "    <tr style=\"text-align: right;\">\n",
       "      <th></th>\n",
       "      <th>Animal Type</th>\n",
       "      <th>Breed</th>\n",
       "      <th>Color</th>\n",
       "      <th>Year</th>\n",
       "      <th>Month</th>\n",
       "      <th>Sex</th>\n",
       "      <th>Age</th>\n",
       "      <th>AdoptionYN</th>\n",
       "      <th>typeR</th>\n",
       "      <th>sexR</th>\n",
       "      <th>ageR</th>\n",
       "    </tr>\n",
       "  </thead>\n",
       "  <tbody>\n",
       "    <tr>\n",
       "      <th>0</th>\n",
       "      <td>Cat</td>\n",
       "      <td>Domestic Shorthair Mix</td>\n",
       "      <td>Brown Tabby/White</td>\n",
       "      <td>19</td>\n",
       "      <td>May</td>\n",
       "      <td>Male</td>\n",
       "      <td>2-5 years</td>\n",
       "      <td>0</td>\n",
       "      <td>0</td>\n",
       "      <td>0</td>\n",
       "      <td>1.0</td>\n",
       "    </tr>\n",
       "    <tr>\n",
       "      <th>1</th>\n",
       "      <td>Dog</td>\n",
       "      <td>Chihuahua Shorthair Mix</td>\n",
       "      <td>White/Brown</td>\n",
       "      <td>18</td>\n",
       "      <td>Jul</td>\n",
       "      <td>Male</td>\n",
       "      <td>0-1 years</td>\n",
       "      <td>1</td>\n",
       "      <td>1</td>\n",
       "      <td>0</td>\n",
       "      <td>0.0</td>\n",
       "    </tr>\n",
       "    <tr>\n",
       "      <th>3</th>\n",
       "      <td>Dog</td>\n",
       "      <td>Anatol Shepherd/Labrador Retriever</td>\n",
       "      <td>Buff</td>\n",
       "      <td>16</td>\n",
       "      <td>Feb</td>\n",
       "      <td>Male</td>\n",
       "      <td>0-1 years</td>\n",
       "      <td>1</td>\n",
       "      <td>1</td>\n",
       "      <td>0</td>\n",
       "      <td>0.0</td>\n",
       "    </tr>\n",
       "    <tr>\n",
       "      <th>4</th>\n",
       "      <td>Cat</td>\n",
       "      <td>Domestic Shorthair Mix</td>\n",
       "      <td>Orange Tabby</td>\n",
       "      <td>14</td>\n",
       "      <td>Mar</td>\n",
       "      <td>Male</td>\n",
       "      <td>0-1 years</td>\n",
       "      <td>0</td>\n",
       "      <td>0</td>\n",
       "      <td>0</td>\n",
       "      <td>0.0</td>\n",
       "    </tr>\n",
       "    <tr>\n",
       "      <th>5</th>\n",
       "      <td>Dog</td>\n",
       "      <td>Chihuahua Shorthair Mix</td>\n",
       "      <td>Brown</td>\n",
       "      <td>20</td>\n",
       "      <td>Oct</td>\n",
       "      <td>Female</td>\n",
       "      <td>6-9 years</td>\n",
       "      <td>1</td>\n",
       "      <td>1</td>\n",
       "      <td>1</td>\n",
       "      <td>2.0</td>\n",
       "    </tr>\n",
       "  </tbody>\n",
       "</table>\n",
       "</div>"
      ],
      "text/plain": [
       "  Animal Type                               Breed              Color  Year  \\\n",
       "0         Cat              Domestic Shorthair Mix  Brown Tabby/White    19   \n",
       "1         Dog             Chihuahua Shorthair Mix        White/Brown    18   \n",
       "3         Dog  Anatol Shepherd/Labrador Retriever               Buff    16   \n",
       "4         Cat              Domestic Shorthair Mix       Orange Tabby    14   \n",
       "5         Dog             Chihuahua Shorthair Mix              Brown    20   \n",
       "\n",
       "  Month     Sex        Age  AdoptionYN  typeR  sexR  ageR  \n",
       "0   May    Male  2-5 years           0      0     0   1.0  \n",
       "1   Jul    Male  0-1 years           1      1     0   0.0  \n",
       "3   Feb    Male  0-1 years           1      1     0   0.0  \n",
       "4   Mar    Male  0-1 years           0      0     0   0.0  \n",
       "5   Oct  Female  6-9 years           1      1     1   2.0  "
      ]
     },
     "execution_count": 56,
     "metadata": {},
     "output_type": "execute_result"
    }
   ],
   "source": [
    "adoptions5.head()"
   ]
  },
  {
   "cell_type": "code",
   "execution_count": 57,
   "id": "9da24d2f",
   "metadata": {},
   "outputs": [
    {
     "data": {
      "text/plain": [
       "0.0    70101\n",
       "1.0    33931\n",
       "2.0     8910\n",
       "3.0     5054\n",
       "4.0      337\n",
       "Name: ageR, dtype: int64"
      ]
     },
     "execution_count": 57,
     "metadata": {},
     "output_type": "execute_result"
    }
   ],
   "source": [
    "adoptions5['ageR'].value_counts()"
   ]
  },
  {
   "cell_type": "code",
   "execution_count": 58,
   "id": "761fc952",
   "metadata": {},
   "outputs": [
    {
     "data": {
      "text/plain": [
       "Animal Type     object\n",
       "Breed           object\n",
       "Color           object\n",
       "Year             int32\n",
       "Month           object\n",
       "Sex             object\n",
       "Age             object\n",
       "AdoptionYN       int64\n",
       "typeR            int64\n",
       "sexR             int64\n",
       "ageR           float64\n",
       "dtype: object"
      ]
     },
     "execution_count": 58,
     "metadata": {},
     "output_type": "execute_result"
    }
   ],
   "source": [
    "adoptions5.dtypes"
   ]
  },
  {
   "cell_type": "markdown",
   "id": "3ae995e3",
   "metadata": {},
   "source": [
    "### Group and Recode Breed column"
   ]
  },
  {
   "cell_type": "code",
   "execution_count": 69,
   "id": "9bf468bf",
   "metadata": {},
   "outputs": [
    {
     "data": {
      "text/plain": [
       "Domestic Shorthair                         37529\n",
       "Pit Bull Mix                                8472\n",
       "Labrador Retriever Mix                      6953\n",
       "Chihuahua Shorthair Mix                     6126\n",
       "Domestic Medium Hair                        3876\n",
       "                                           ...  \n",
       "Australian Cattle Dog/American Foxhound        1\n",
       "Cavalier Span/Chihuahua Longhair               1\n",
       "Patterdale Terr/Chihuahua Shorthair            1\n",
       "Vizsla/Catahoula                               1\n",
       "Chihuahua Shorthair/Shetland Sheepdog          1\n",
       "Name: Breed, Length: 2380, dtype: int64"
      ]
     },
     "execution_count": 69,
     "metadata": {},
     "output_type": "execute_result"
    }
   ],
   "source": [
    "adoptions5[\"Breed\"].value_counts()"
   ]
  },
  {
   "cell_type": "markdown",
   "id": "0276c398",
   "metadata": {},
   "source": [
    "#### Start with Cat breeds"
   ]
  },
  {
   "cell_type": "code",
   "execution_count": 70,
   "id": "0c53922c",
   "metadata": {},
   "outputs": [],
   "source": [
    "adoptions5.replace(['Abyssinian', 'Abyssinian Mix'], 'Abyssinian', inplace =True)\n",
    "adoptions5.replace(['American Curl Shorthair', 'American Curl Shorthair Mix', 'American Curl Shorthair/Siamese', 'American Shorthair', 'American Shorthair Mix', 'American Wirehair Mix'], 'American Shorthair', inplace =True)\n",
    "adoptions5.replace(['Angora Mix', 'Angora/Persian'], 'Angora', inplace =True)\n",
    "adoptions5.replace(['Balinese', 'Balinese Mix'], 'Balinese', inplace =True)\n",
    "adoptions5.replace(['Bengal', 'Bengal Mix', 'Bengal/Domestic Shorthair'], 'Bengal', inplace =True)\n",
    "adoptions5.replace(['British Shorthair', 'British Shorthair Mix'], 'British Shorthair', inplace =True)\n",
    "adoptions5.replace(['Burmese', 'Burmese Mix'], 'Burmese', inplace =True)\n",
    "adoptions5.replace(['Devon Rex', 'Devon Rex Mix'], 'Devon Rex', inplace =True)\n",
    "adoptions5.replace(['Domestic Longhair', 'Domestic Longhair Mix', 'Domestic Longhair/Domestic Longhair', 'Domestic Longhair/Persian', 'Domestic Longhair/Rex', 'Domestic Longhair/Russian Blue', 'Domestic Longhair/Siamese'], 'Domestic Longhair', inplace =True)\n",
    "adoptions5.replace(['Domestic Medium Hair', 'Domestic Medium Hair Mix', 'Domestic Medium Hair/Maine Coon', 'Domestic Medium Hair/Manx', 'Domestic Medium Hair/Siamese'], 'Domestic Medium Hair', inplace =True)\n",
    "adoptions5.replace(['Domestic Shorthair', 'Domestic Shorthair Mix', 'Domestic Shorthair/Abyssinian', 'Domestic Shorthair/American Shorthair', 'Domestic Shorthair/Bengal', 'Domestic Shorthair/British Shorthair', 'Domestic Shorthair/Domestic Medium Hair', 'Domestic Shorthair/Domestic Shorthair', 'Domestic Shorthair/Maine Coon', 'Domestic Shorthair/Manx', 'Domestic Shorthair/Siamese'], 'Domestic Shorthair', inplace =True)\n",
    "adoptions5.replace(['Havana Brown', 'Havana Brown Mix'], 'Havana Brown', inplace =True)\n",
    "adoptions5.replace(['Exotic Shorthair', 'Exotic Shorthair Mix'], 'Exotic Shorthair', inplace =True)\n",
    "adoptions5.replace(['Himalayan', 'Himalayan Mix'], 'Himalayan', inplace =True)\n",
    "adoptions5.replace(['Japanese Bobtail Mix', 'Japanese Bobtail/American Curl Shorthair'], 'Japanese Bobtail', inplace =True)\n",
    "adoptions5.replace(['Maine Coon', 'Maine Coon Mix'], 'Maine Coon', inplace =True)\n",
    "adoptions5.replace(['Manx', 'Manx Mix', 'Manx/Domestic Longhair', 'Manx/Domestic Medium Hair', 'Manx/Domestic Shorthair', 'Manx/Siamese'], 'Manx', inplace =True)\n",
    "adoptions5.replace(['Munchkin Longhair Mix', 'Munchkin Shorthair Mix'], 'Munchkin', inplace =True)\n",
    "adoptions5.replace(['Oriental Sh', 'Oriental Sh Mix'], 'Oriental Shorthair', inplace =True)\n",
    "adoptions5.replace(['Persian', 'Persian Mix'], 'Persian', inplace =True)\n",
    "adoptions5.replace(['Pixiebob Shorthair', 'Pixiebob Shorthair Mix'], 'Pixiebob Shorthair', inplace =True)\n",
    "adoptions5.replace(['Ragdoll', 'Ragdoll Mix', 'Ragdoll/Munchkin Longhair', 'Ragdoll/Snowshoe'], 'Ragdoll', inplace =True)\n",
    "adoptions5.replace(['Russian Blue', 'Russian Blue Mix'], 'Russian Blue', inplace =True)\n",
    "adoptions5.replace(['Scottish Fold Mix', 'Scottish Fold/Domestic Shorthair'], 'Scottish Fold', inplace =True)\n",
    "adoptions5.replace(['Siamese', 'Siamese Mix', 'Siamese/Angora', 'Siamese/Domestic Shorthair', 'Siamese/Japanese Bobtail'], 'Siamese', inplace =True)\n",
    "adoptions5.replace(['Snowshoe', 'Snowshoe Mix', 'Snowshoe/Domestic Shorthair', 'Snowshoe/Ragdoll', 'Snowshoe/Siamese'], 'Snowshoe', inplace =True)\n",
    "adoptions5.replace(['Tonkinese', 'Tonkinese Mix'], 'Tonkinese', inplace =True)\n",
    "adoptions5.replace(['Turkish Angora', 'Turkish Angora Mix'], 'Turkish Angora', inplace =True)"
   ]
  },
  {
   "cell_type": "code",
   "execution_count": 71,
   "id": "74232c0c",
   "metadata": {},
   "outputs": [
    {
     "data": {
      "text/plain": [
       "2380"
      ]
     },
     "execution_count": 71,
     "metadata": {},
     "output_type": "execute_result"
    }
   ],
   "source": [
    "adoptions5.Breed.nunique()"
   ]
  },
  {
   "cell_type": "markdown",
   "id": "a039b924",
   "metadata": {},
   "source": [
    "#### Now Group Dog Breeds"
   ]
  },
  {
   "cell_type": "code",
   "execution_count": 73,
   "id": "731bf2ed",
   "metadata": {},
   "outputs": [],
   "source": [
    "adoptions5.replace(['Affenpinscher', 'Affenpinscher Mix'], 'Affenpinscher', inplace =True)\n",
    "adoptions5.replace(['Afghan Hound Mix', 'Afghan Hound/German Shepherd', 'Afghan Hound/Labrador Retriever'], 'Afghan Hound', inplace =True)\n",
    "adoptions5.replace(['Airedale Terrier', 'Airedale Terrier Mix', 'Airedale Terrier/Cairn Terrier', 'Airedale Terrier/Irish Terrier', 'Airedale Terrier/Labrador Retriever', 'Airedale Terrier/Miniature Schnauzer', 'Airedale Terrier/Otterhound', 'Airedale Terrier/Standard Poodle'], 'Airedale Terrier', inplace =True)\n",
    "adoptions5.replace(['Akbash', 'Akbash Mix', 'Akbash/Great Pyrenees'], 'Akbash', inplace =True)\n",
    "adoptions5.replace(['Akita', 'Akita Mix', 'Akita/Australian Cattle Dog', 'Akita/Belgian Malinois', 'Akita/Border Collie', 'Akita/Chow Chow', 'Akita/German Shepherd', 'Akita/Great Pyrenees', 'Akita/Labrador Retriever', 'Akita/Mastiff', 'Akita/Pit Bull', 'Akita/Siberian Husky'], 'Akita', inplace =True)\n",
    "adoptions5.replace(['Alaskan Husky', 'Alaskan Husky Mix', 'Alaskan Husky/Australian Shepherd', 'Alaskan Husky/Border Collie', 'Alaskan Husky/Catahoula', 'Alaskan Husky/Chow Chow', 'Alaskan Husky/Collie Smooth', 'Alaskan Husky/German Shepherd', 'Alaskan Husky/Labrador Retriever', 'Alaskan Husky/Miniature Pinscher'], 'Alaskan Husky', inplace =True)\n",
    "adoptions5.replace(['Alaskan Malamute', 'Alaskan Malamute Mix', 'Alaskan Malamute/Akita', 'Alaskan Malamute/Alaskan Husky', 'Alaskan Malamute/Australian Kelpie', 'Alaskan Malamute/Border Collie', 'Alaskan Malamute/German Shepherd', 'Alaskan Malamute/Labrador Retriever', 'Alaskan Malamute/Siberian Husky'], 'Alaskan Malamute', inplace =True)\n",
    "adoptions5.replace(['American Bulldog', 'American Bulldog Mix', 'American Bulldog/American Staffordshire Terrier', 'American Bulldog/Basset Hound', 'American Bulldog/Blue Lacy', 'American Bulldog/Boxer', 'American Bulldog/Chinese Sharpei', 'American Bulldog/Dalmatian', 'American Bulldog/English Bulldog', 'American Bulldog/Great Pyrenees', 'American Bulldog/Labrador Retriever', 'American Bulldog/Mastiff', 'American Bulldog/Pit Bull', 'American Bulldog/Pointer', 'American Bulldog/Queensland Heeler'], 'American Bulldog', inplace =True)\n",
    "adoptions5.replace(['American Eskimo', 'American Eskimo Mix', 'American Eskimo/Alaskan Husky', 'American Eskimo/Australian Shepherd', 'American Eskimo/Border Collie'], 'American Eskimo', inplace =True)\n",
    "adoptions5.replace(['American Foxhound', 'American Foxhound Mix', 'American Foxhound/Beagle', 'American Foxhound/Labrador Retriever', 'American Foxhound/Pointer'], 'American Foxhound', inplace =True)\n",
    "adoptions5.replace(['American Pit Bull Terrier', 'American Pit Bull Terrier Mix', 'American Pit Bull Terrier/American Bulldog', 'American Pit Bull Terrier/American Pit Bull Terrier', 'American Pit Bull Terrier/Basenji', 'American Pit Bull Terrier/Basset Hound', 'American Pit Bull Terrier/Black Mouth Cur', 'American Pit Bull Terrier/Boston Terrier', 'American Pit Bull Terrier/Boxer', 'American Pit Bull Terrier/Catahoula', 'American Pit Bull Terrier/Chinese Sharpei', 'American Pit Bull Terrier/Dachshund', 'American Pit Bull Terrier/Labrador Retriever', 'American Pit Bull Terrier/Pit Bull', 'American Pit Bull Terrier/Pointer', 'American Pit Bull Terrier/Weimaraner'], 'American Pit Bull Terrier', inplace =True)\n",
    "adoptions5.replace(['American Staffordshire Terrier', 'American Staffordshire Terrier Mix', 'American Staffordshire Terrier/American Bulldog', 'American Staffordshire Terrier/Australian Cattle Dog', 'American Staffordshire Terrier/Boxer', 'American Staffordshire Terrier/Catahoula', 'American Staffordshire Terrier/Chinese Sharpei', 'American Staffordshire Terrier/French Bulldog', 'American Staffordshire Terrier/Jack Russell Terrier', 'American Staffordshire Terrier/Labrador Retriever', 'American Staffordshire Terrier/Pit Bull', 'American Staffordshire Terrier/Plott Hound', 'American Staffordshire Terrier/Rhod Ridgeback', 'American Staffordshire Terrier/Rottweiler'], 'American Staffordshire Terrier', inplace =True)\n",
    "adoptions5.replace(['Anatol Shepherd', 'Anatol Shepherd Mix', 'Anatol Shepherd/Akita', 'Anatol Shepherd/Alaskan Husky', 'Anatol Shepherd/American Bulldog', 'Anatol Shepherd/Australian Cattle Dog', 'Anatol Shepherd/Australian Shepherd', 'Anatol Shepherd/Belgian Malinois', 'Anatol Shepherd/Black Mouth Cur', 'Anatol Shepherd/Border Collie', 'Anatol Shepherd/Boxer', 'Anatol Shepherd/Catahoula', 'Anatol Shepherd/Chow Chow', 'Anatol Shepherd/Collie Rough', 'Anatol Shepherd/German Shepherd', 'Anatol Shepherd/German Shorthair Pointer', 'Anatol Shepherd/Great Pyrenees', 'Anatol Shepherd/Harrier', 'Anatol Shepherd/Kangal', 'Anatol Shepherd/Labrador Retriever', 'Anatol Shepherd/Mastiff', 'Anatol Shepherd/Pit Bull', 'Anatol Shepherd/Redbone Hound', 'Anatol Shepherd/Rhod Ridgeback', 'Anatol Shepherd/Saluki', 'Anatol Shepherd/Siberian Husky', 'Anatol Shepherd/St. Bernard Smooth Coat'], 'Anatol Shepherd', inplace =True)\n",
    "adoptions5.replace(['Australian Cattle Dog', 'Australian Cattle Dog Mix', 'Australian Cattle Dog/Akita', 'Australian Cattle Dog/Alaskan Husky', 'Australian Cattle Dog/American Foxhound', 'Australian Cattle Dog/American Pit Bull Terrier', 'Australian Cattle Dog/American Staffordshire Terrier', 'Australian Cattle Dog/Anatol Shepherd', 'Australian Cattle Dog/Australian Cattle Dog', 'Australian Cattle Dog/Australian Kelpie', 'Australian Cattle Dog/Australian Shepherd', 'Australian Cattle Dog/Basenji', 'Australian Cattle Dog/Basset Hound', 'Australian Cattle Dog/Beagle', 'Australian Cattle Dog/Belgian Malinois', 'Australian Cattle Dog/Bernese Mountain Dog', 'Australian Cattle Dog/Black Mouth Cur', 'Australian Cattle Dog/Bloodhound', 'Australian Cattle Dog/Border Collie', 'Australian Cattle Dog/Boston Terrier', 'Australian Cattle Dog/Boxer', 'Australian Cattle Dog/Bull Terrier', 'Australian Cattle Dog/Cairn Terrier', 'Australian Cattle Dog/Cardigan Welsh Corgi', 'Australian Cattle Dog/Catahoula', 'Australian Cattle Dog/Chihuahua Shorthair', 'Australian Cattle Dog/Chinese Crested', 'Australian Cattle Dog/Chinese Sharpei', 'Australian Cattle Dog/Chow Chow', 'Australian Cattle Dog/Collie Rough', 'Australian Cattle Dog/Collie Smooth', 'Australian Cattle Dog/Dachshund', 'Australian Cattle Dog/Dalmatian', 'Australian Cattle Dog/Dutch Shepherd', 'Australian Cattle Dog/English Coonhound', 'Australian Cattle Dog/German Shepherd', 'Australian Cattle Dog/German Shorthair Pointer', 'Australian Cattle Dog/Golden Retriever', 'Australian Cattle Dog/Great Pyrenees', 'Australian Cattle Dog/Jack Russell Terrier', 'Australian Cattle Dog/Labrador Retriever', 'Australian Cattle Dog/Norfolk Terrier', 'Australian Cattle Dog/Parson Russell Terrier', 'Australian Cattle Dog/Patterdale Terr', 'Australian Cattle Dog/Pembroke Welsh Corgi', 'Australian Cattle Dog/Pit Bull', 'Australian Cattle Dog/Plott Hound', 'Australian Cattle Dog/Pointer', 'Australian Cattle Dog/Pug', 'Australian Cattle Dog/Queensland Heeler', 'Australian Cattle Dog/Rat Terrier', 'Australian Cattle Dog/Rhod Ridgeback', 'Australian Cattle Dog/Siberian Husky', 'Australian Cattle Dog/St. Bernard Smooth Coat', 'Australian Cattle Dog/Staffordshire', 'Australian Cattle Dog/Treeing Walker Coonhound', 'Australian Cattle Dog/Vizsla', 'Australian Cattle Dog/Whippet'], 'Australian Cattle Dog', inplace =True)\n",
    "adoptions5.replace(['Australian Kelpie', 'Australian Kelpie Mix', 'Australian Kelpie/Alaskan Husky', 'Australian Kelpie/American Pit Bull Terrier', 'Australian Kelpie/Australian Cattle Dog', 'Australian Kelpie/Australian Shepherd', 'Australian Kelpie/Beagle', 'Australian Kelpie/Bichon Frise', 'Australian Kelpie/Blue Lacy', 'Australian Kelpie/Border Collie', 'Australian Kelpie/Bull Terrier', 'Australian Kelpie/Cardigan Welsh Corgi', 'Australian Kelpie/Catahoula', 'Australian Kelpie/Chihuahua Longhair', 'Australian Kelpie/Chihuahua Shorthair', 'Australian Kelpie/Chinese Sharpei', 'Australian Kelpie/Dachshund', 'Australian Kelpie/Finnish Spitz', 'Australian Kelpie/German Shepherd', 'Australian Kelpie/Golden Retriever', 'Australian Kelpie/Labrador Retriever', 'Australian Kelpie/Miniature Pinscher', 'Australian Kelpie/Pit Bull', 'Australian Kelpie/Plott Hound', 'Australian Kelpie/Rat Terrier', 'Australian Kelpie/Shiba Inu', 'Australian Kelpie/Siberian Husky', 'Australian Kelpie/Staffordshire', 'Australian Kelpie/Whippet'], 'Australian Kelpie', inplace =True)\n",
    "adoptions5.replace(['Australian Shepherd', 'Australian Shepherd Mix', 'Australian Shepherd/Alaskan Malamute', 'Australian Shepherd/Anatol Shepherd', 'Australian Shepherd/Australian Cattle Dog', 'Australian Shepherd/Australian Kelpie', 'Australian Shepherd/Basset Hound', 'Australian Shepherd/Beagle', 'Australian Shepherd/Border Collie', 'Australian Shepherd/Boxer', 'Australian Shepherd/Brittany', 'Australian Shepherd/Cardigan Welsh Corgi', 'Australian Shepherd/Catahoula', 'Australian Shepherd/Cavalier Span', 'Australian Shepherd/Chihuahua Longhair', 'Australian Shepherd/Chihuahua Shorthair', 'Australian Shepherd/Chow Chow', 'Australian Shepherd/Cocker Spaniel', 'Australian Shepherd/Collie Rough', 'Australian Shepherd/Collie Smooth', 'Australian Shepherd/Dachshund', 'Australian Shepherd/Dalmatian', 'Australian Shepherd/English Setter', 'Australian Shepherd/English Springer Spaniel', 'Australian Shepherd/Feist', 'Australian Shepherd/Field Spaniel', 'ustralian Shepherd/German Shepherd', 'Australian Shepherd/Golden Retriever', 'Australian Shepherd/Great Pyrenees', 'Australian Shepherd/Greyhound', 'Australian Shepherd/Jack Russell Terrier', 'Australian Shepherd/Labrador Retriever', 'Australian Shepherd/Nova Scotia Duck Tolling Retriever', 'Australian Shepherd/Parson Russell Terrier', 'Australian Shepherd/Pembroke Welsh Corgi', 'Australian Shepherd/Pit Bull', 'Australian Shepherd/Plott Hound', 'Australian Shepherd/Queensland Heeler', 'Australian Shepherd/Rhod Ridgeback', 'Australian Shepherd/Rottweiler', 'Australian Shepherd/Siberian Husky', 'Australian Shepherd/Staffordshire', 'Australian Shepherd/Standard Poodle', 'Australian Shepherd/Unknown'], 'Australian Shepherd', inplace =True)\n",
    "adoptions5.replace(['Australian Terrier', 'Australian Terrier Mix', 'Australian Terrier/Standard Schnauzer'], 'Australian Terrier', inplace =True)\n",
    "adoptions5.replace(['Basenji', 'Basenji Mix', 'Basenji/Australian Cattle Dog', 'Basenji/Australian Kelpie', 'Basenji/Beagle', 'Basenji/Carolina Dog', 'Basenji/Chihuahua Longhair', 'Basenji/Chihuahua Shorthair', 'Basenji/Chow Chow', 'Basenji/Jack Russell Terrier', 'Basenji/Labrador Retriever', 'Basenji/Pit Bull', 'Basenji/Rhod Ridgeback'], 'Basenji', inplace =True)\n",
    "adoptions5.replace(['Basset Hound', 'Basset Hound Mix', 'Basset Hound/American Pit Bull Terrier', 'Basset Hound/Australian Cattle Dog', 'Basset Hound/Australian Shepherd','Basset Hound/Beagle', 'Basset Hound/Beauceron', 'Basset Hound/Black/Tan Hound', 'Basset Hound/Blue Lacy', 'Basset Hound/Border Collie', 'Basset Hound/Boxer', 'Basset Hound/Cairn Terrier', 'Basset Hound/Cardigan Welsh Corgi', 'Basset Hound/Chinese Sharpei', 'Basset Hound/Dachshund', 'Basset Hound/English Cocker Spaniel', 'Basset Hound/English Pointer', 'Basset Hound/French Bulldog', 'Basset Hound/German Shepherd', 'Basset Hound/Golden Retriever', 'Basset Hound/Great Pyrenees', 'Basset Hound/Labrador Retriever', 'Basset Hound/Pembroke Welsh Corgi', 'Basset Hound/Pit Bull', 'Basset Hound/Pointer', 'Basset Hound/Rat Terrier'], 'Basset Hound', inplace =True)\n",
    "adoptions5.replace(['Beagle', 'Beagle Mix', 'Beagle/American Foxhound', 'Beagle/American Staffordshire Terrier', 'Beagle/Australian Cattle Dog', 'Beagle/Australian Kelpie', 'Beagle/Australian Shepherd', 'Beagle/Basset Hound', 'Beagle/Black Mouth Cur', 'Beagle/Border Collie', 'Beagle/Border Terrier', 'Beagle/Borzoi', 'Beagle/Boston Terrier', 'Beagle/Boxer', 'Beagle/Cairn Terrier', 'Beagle/Cardigan Welsh Corgi', 'Beagle/Catahoula', 'Beagle/Cavalier Span', 'Beagle/Chihuahua Longhair', 'Beagle/Chihuahua Shorthair', 'Beagle/Chinese Sharpei', 'Beagle/Cocker Spaniel', 'Beagle/Dachshund', 'Beagle/Dachshund Longhair', 'Beagle/English Coonhound', 'Beagle/German Shepherd', 'Beagle/German Shorthair Pointer', 'Beagle/Harrier', 'Beagle/Jack Russell Terrier', 'Beagle/Labrador Retriever', 'Beagle/Manchester Terrier', 'Beagle/Mastiff', 'Beagle/Miniature Pinscher', 'Beagle/Parson Russell Terrier', 'Beagle/Pekingese', 'Beagle/Pembroke Welsh Corgi', 'Beagle/Pit Bull', 'Beagle/Plott Hound', 'Beagle/Pointer', 'Beagle/Pug', 'Beagle/Queensland Heeler', 'Beagle/Rat Terrier', 'Beagle/Staffordshire', 'Beagle/Standard Poodle', 'Beagle/Treeing Walker Coonhound', 'Beagle/Vizsla', 'Beagle/Whippet'], 'Beagle', inplace =True)\n",
    "adoptions5.replace(['Bearded Collie', 'Bearded Collie Mix', 'Bearded Collie/Border Collie'], 'Bearded Collie', inplace =True)\n",
    "adoptions5.replace(['Beauceron', 'Beauceron Mix', 'Beauceron/Labrador Retriever'], 'Beauceron', inplace =True)\n",
    "adoptions5.replace(['Belgian Malinois', 'Belgian Malinois Mix', 'Belgian Malinois/Australian Shepherd', 'Belgian Malinois/Cardigan Welsh Corgi', 'Belgian Malinois/German Shepherd', 'Belgian Malinois/Great Pyrenees', 'Belgian Malinois/Labrador Retriever', 'Belgian Malinois/Pit Bull', 'Belgian Malinois/Treeing Cur'], 'Belgian Malinois', inplace =True)\n",
    "adoptions5.replace(['Belgian Sheepdog', 'Belgian Sheepdog Mix'], 'Belgian Sheepdog', inplace =True)\n",
    "adoptions5.replace(['Belgian Tervuren Mix', 'Belgian Tervuren/German Shepherd'], 'Belgian Tervuren', inplace =True)\n",
    "adoptions5.replace(['Bernese Mountain Dog', 'Bernese Mountain Dog Mix', 'Bernese Mountain Dog/Great Pyrenees', 'Bernese Mountain Dog/Rottweiler'], 'Bernese Mountain Dog', inplace =True)\n",
    "adoptions5.replace(['Bichon Frise', 'Bichon Frise Mix', 'Bichon Frise/Lhasa Apso', 'Bichon Frise/Miniature Poodle', 'Bichon Frise/Pekingese', 'Bichon Frise/Toy Poodle'], 'Bichon Frise', inplace =True)\n",
    "adoptions5.replace(['Black Mouth Cur', 'Black Mouth Cur Mix', 'Black Mouth Cur/American Staffordshire Terrier', 'Black Mouth Cur/Anatol Shepherd', 'Black Mouth Cur/Australian Cattle Dog', 'Black Mouth Cur/Basset Hound', 'Black Mouth Cur/Beagle', 'Black Mouth Cur/Belgian Malinois', 'Black Mouth Cur/Blue Lacy', 'Black Mouth Cur/Boxer', 'Black Mouth Cur/Catahoula', 'Black Mouth Cur/Chinese Sharpei', 'Black Mouth Cur/Chow Chow', 'Black Mouth Cur/Dachshund', 'Black Mouth Cur/Doberman Pinsch', 'Black Mouth Cur/German Shepherd', 'Black Mouth Cur/Golden Retriever', 'Black Mouth Cur/Great Dane', 'Black Mouth Cur/Greyhound', 'Black Mouth Cur/Labrador Retriever', 'Black Mouth Cur/Mastiff', 'Black Mouth Cur/Pit Bull', 'Black Mouth Cur/Plott Hound', 'Black Mouth Cur/Pointer', 'Black Mouth Cur/Rhod Ridgeback', 'Black Mouth Cur/Siberian Husky', 'Black Mouth Cur/Staffordshire'], 'Black Mouth Cur', inplace =True)"
   ]
  },
  {
   "cell_type": "code",
   "execution_count": 74,
   "id": "e53f2d64",
   "metadata": {},
   "outputs": [
    {
     "data": {
      "text/plain": [
       "2018"
      ]
     },
     "execution_count": 74,
     "metadata": {},
     "output_type": "execute_result"
    }
   ],
   "source": [
    "adoptions5.Breed.nunique()"
   ]
  },
  {
   "cell_type": "markdown",
   "id": "e766c762",
   "metadata": {},
   "source": [
    "#### Continue Grouping Dog Breeds"
   ]
  },
  {
   "cell_type": "code",
   "execution_count": 75,
   "id": "8d327ac9",
   "metadata": {},
   "outputs": [
    {
     "data": {
      "text/plain": [
       "559"
      ]
     },
     "execution_count": 75,
     "metadata": {},
     "output_type": "execute_result"
    }
   ],
   "source": [
    "adoptions5.Color.nunique()"
   ]
  },
  {
   "cell_type": "markdown",
   "id": "6b663a3f",
   "metadata": {},
   "source": [
    "### Convert adoptions5 to csv for exploratory analysis in Tableau"
   ]
  },
  {
   "cell_type": "code",
   "execution_count": 58,
   "id": "cc07076e",
   "metadata": {},
   "outputs": [],
   "source": [
    "os.makedirs('data', exist_ok=True)  # create \"data\" folder in Final Projects folder\n",
    "adoptions5.to_csv('data/adoptions5.csv')   # convert adoptions5 from a pandas dataframe to a csv file and save in \"data\" folder"
   ]
  },
  {
   "cell_type": "markdown",
   "id": "95e10844",
   "metadata": {},
   "source": [
    "## Analyses"
   ]
  },
  {
   "cell_type": "markdown",
   "id": "344c77dd",
   "metadata": {},
   "source": [
    "[Analyses in R](http://localhost:8888/notebooks/OneDrive/Documents/GitHub/FinalProject/FinalProject-Analyses.ipynb)"
   ]
  },
  {
   "cell_type": "code",
   "execution_count": null,
   "id": "74598c15",
   "metadata": {},
   "outputs": [],
   "source": []
  }
 ],
 "metadata": {
  "kernelspec": {
   "display_name": "Python 3",
   "language": "python",
   "name": "python3"
  },
  "language_info": {
   "codemirror_mode": {
    "name": "ipython",
    "version": 3
   },
   "file_extension": ".py",
   "mimetype": "text/x-python",
   "name": "python",
   "nbconvert_exporter": "python",
   "pygments_lexer": "ipython3",
   "version": "3.8.8"
  }
 },
 "nbformat": 4,
 "nbformat_minor": 5
}
