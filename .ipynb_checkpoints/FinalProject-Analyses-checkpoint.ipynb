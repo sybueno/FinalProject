{
 "cells": [
  {
   "cell_type": "markdown",
   "id": "0f965d5b",
   "metadata": {},
   "source": [
    "# Data Science Final Project - Shelter Animal Adoptions"
   ]
  },
  {
   "cell_type": "markdown",
   "id": "d4a427f4",
   "metadata": {},
   "source": [
    "## Q1. Are animal type, sex, and age significant predictors of shelter dog and cat adoption?"
   ]
  },
  {
   "cell_type": "markdown",
   "id": "f3f89a7e",
   "metadata": {},
   "source": [
    "### Import packages"
   ]
  },
  {
   "cell_type": "code",
   "execution_count": 1,
   "id": "6902bc75",
   "metadata": {},
   "outputs": [
    {
     "name": "stderr",
     "output_type": "stream",
     "text": [
      "Installing package into 'C:/Users/bueno/OneDrive/Documents/R/win-library/4.1'\n",
      "(as 'lib' is unspecified)\n",
      "\n"
     ]
    },
    {
     "name": "stdout",
     "output_type": "stream",
     "text": [
      "package 'IDPmisc' successfully unpacked and MD5 sums checked\n",
      "\n",
      "The downloaded binary packages are in\n",
      "\tC:\\Users\\bueno\\AppData\\Local\\Temp\\Rtmpeu7lXv\\downloaded_packages\n"
     ]
    },
    {
     "name": "stderr",
     "output_type": "stream",
     "text": [
      "Warning message:\n",
      "\"package 'IDPmisc' was built under R version 4.1.3\"\n",
      "Installing package into 'C:/Users/bueno/OneDrive/Documents/R/win-library/4.1'\n",
      "(as 'lib' is unspecified)\n",
      "\n"
     ]
    },
    {
     "name": "stdout",
     "output_type": "stream",
     "text": [
      "package 'gmodels' successfully unpacked and MD5 sums checked\n",
      "\n",
      "The downloaded binary packages are in\n",
      "\tC:\\Users\\bueno\\AppData\\Local\\Temp\\Rtmpeu7lXv\\downloaded_packages\n"
     ]
    },
    {
     "name": "stderr",
     "output_type": "stream",
     "text": [
      "Warning message:\n",
      "\"package 'gmodels' was built under R version 4.1.3\"\n"
     ]
    }
   ],
   "source": [
    "install.packages(\"IDPmisc\")  # for data wrangling (NaRV.omit() function)\n",
    "library(\"IDPmisc\")\n",
    "install.packages(\"gmodels\")   # for Independent Chi-Square tests\n",
    "library(\"gmodels\")\n"
   ]
  },
  {
   "cell_type": "markdown",
   "id": "ec8e3d7e",
   "metadata": {},
   "source": [
    "### Load Data"
   ]
  },
  {
   "cell_type": "code",
   "execution_count": 2,
   "id": "0d694eb2",
   "metadata": {},
   "outputs": [],
   "source": [
    "adoptions5 <- read.csv(\"C:\\\\Users\\\\bueno\\\\OneDrive\\\\Documents\\\\GitHub\\\\FinalProject\\\\data\\\\adoptions5.csv\")"
   ]
  },
  {
   "cell_type": "code",
   "execution_count": 3,
   "id": "346b3b6e",
   "metadata": {},
   "outputs": [
    {
     "data": {
      "text/html": [
       "<table class=\"dataframe\">\n",
       "<caption>A data.frame: 6 × 10</caption>\n",
       "<thead>\n",
       "\t<tr><th></th><th scope=col>X</th><th scope=col>Animal.Type</th><th scope=col>Year</th><th scope=col>Month</th><th scope=col>Sex</th><th scope=col>Age</th><th scope=col>AdoptionYN</th><th scope=col>typeR</th><th scope=col>sexR</th><th scope=col>ageR</th></tr>\n",
       "\t<tr><th></th><th scope=col>&lt;int&gt;</th><th scope=col>&lt;chr&gt;</th><th scope=col>&lt;int&gt;</th><th scope=col>&lt;chr&gt;</th><th scope=col>&lt;chr&gt;</th><th scope=col>&lt;chr&gt;</th><th scope=col>&lt;int&gt;</th><th scope=col>&lt;int&gt;</th><th scope=col>&lt;int&gt;</th><th scope=col>&lt;dbl&gt;</th></tr>\n",
       "</thead>\n",
       "<tbody>\n",
       "\t<tr><th scope=row>1</th><td>0</td><td>Cat</td><td>19</td><td>May</td><td>Male  </td><td>2-5 years</td><td>0</td><td>0</td><td>0</td><td>1</td></tr>\n",
       "\t<tr><th scope=row>2</th><td>1</td><td>Dog</td><td>18</td><td>Jul</td><td>Male  </td><td>0-1 years</td><td>1</td><td>1</td><td>0</td><td>0</td></tr>\n",
       "\t<tr><th scope=row>3</th><td>3</td><td>Dog</td><td>16</td><td>Feb</td><td>Male  </td><td>0-1 years</td><td>1</td><td>1</td><td>0</td><td>0</td></tr>\n",
       "\t<tr><th scope=row>4</th><td>4</td><td>Cat</td><td>14</td><td>Mar</td><td>Male  </td><td>0-1 years</td><td>0</td><td>0</td><td>0</td><td>0</td></tr>\n",
       "\t<tr><th scope=row>5</th><td>5</td><td>Dog</td><td>20</td><td>Oct</td><td>Female</td><td>6-9 years</td><td>1</td><td>1</td><td>1</td><td>2</td></tr>\n",
       "\t<tr><th scope=row>6</th><td>6</td><td>Dog</td><td>20</td><td>May</td><td>Male  </td><td>2-5 years</td><td>1</td><td>1</td><td>0</td><td>1</td></tr>\n",
       "</tbody>\n",
       "</table>\n"
      ],
      "text/latex": [
       "A data.frame: 6 × 10\n",
       "\\begin{tabular}{r|llllllllll}\n",
       "  & X & Animal.Type & Year & Month & Sex & Age & AdoptionYN & typeR & sexR & ageR\\\\\n",
       "  & <int> & <chr> & <int> & <chr> & <chr> & <chr> & <int> & <int> & <int> & <dbl>\\\\\n",
       "\\hline\n",
       "\t1 & 0 & Cat & 19 & May & Male   & 2-5 years & 0 & 0 & 0 & 1\\\\\n",
       "\t2 & 1 & Dog & 18 & Jul & Male   & 0-1 years & 1 & 1 & 0 & 0\\\\\n",
       "\t3 & 3 & Dog & 16 & Feb & Male   & 0-1 years & 1 & 1 & 0 & 0\\\\\n",
       "\t4 & 4 & Cat & 14 & Mar & Male   & 0-1 years & 0 & 0 & 0 & 0\\\\\n",
       "\t5 & 5 & Dog & 20 & Oct & Female & 6-9 years & 1 & 1 & 1 & 2\\\\\n",
       "\t6 & 6 & Dog & 20 & May & Male   & 2-5 years & 1 & 1 & 0 & 1\\\\\n",
       "\\end{tabular}\n"
      ],
      "text/markdown": [
       "\n",
       "A data.frame: 6 × 10\n",
       "\n",
       "| <!--/--> | X &lt;int&gt; | Animal.Type &lt;chr&gt; | Year &lt;int&gt; | Month &lt;chr&gt; | Sex &lt;chr&gt; | Age &lt;chr&gt; | AdoptionYN &lt;int&gt; | typeR &lt;int&gt; | sexR &lt;int&gt; | ageR &lt;dbl&gt; |\n",
       "|---|---|---|---|---|---|---|---|---|---|---|\n",
       "| 1 | 0 | Cat | 19 | May | Male   | 2-5 years | 0 | 0 | 0 | 1 |\n",
       "| 2 | 1 | Dog | 18 | Jul | Male   | 0-1 years | 1 | 1 | 0 | 0 |\n",
       "| 3 | 3 | Dog | 16 | Feb | Male   | 0-1 years | 1 | 1 | 0 | 0 |\n",
       "| 4 | 4 | Cat | 14 | Mar | Male   | 0-1 years | 0 | 0 | 0 | 0 |\n",
       "| 5 | 5 | Dog | 20 | Oct | Female | 6-9 years | 1 | 1 | 1 | 2 |\n",
       "| 6 | 6 | Dog | 20 | May | Male   | 2-5 years | 1 | 1 | 0 | 1 |\n",
       "\n"
      ],
      "text/plain": [
       "  X Animal.Type Year Month Sex    Age       AdoptionYN typeR sexR ageR\n",
       "1 0 Cat         19   May   Male   2-5 years 0          0     0    1   \n",
       "2 1 Dog         18   Jul   Male   0-1 years 1          1     0    0   \n",
       "3 3 Dog         16   Feb   Male   0-1 years 1          1     0    0   \n",
       "4 4 Cat         14   Mar   Male   0-1 years 0          0     0    0   \n",
       "5 5 Dog         20   Oct   Female 6-9 years 1          1     1    2   \n",
       "6 6 Dog         20   May   Male   2-5 years 1          1     0    1   "
      ]
     },
     "metadata": {},
     "output_type": "display_data"
    }
   ],
   "source": [
    "head(adoptions5)"
   ]
  },
  {
   "cell_type": "markdown",
   "id": "b294ef52",
   "metadata": {},
   "source": [
    "## Data Wrangling"
   ]
  },
  {
   "cell_type": "markdown",
   "id": "1b7e254e",
   "metadata": {},
   "source": [
    "### Keep only predictor columns"
   ]
  },
  {
   "cell_type": "code",
   "execution_count": 4,
   "id": "da83f88b",
   "metadata": {},
   "outputs": [],
   "source": [
    "keep <- c(\"typeR\", \"sexR\", \"ageR\", \"AdoptionYN\")\n",
    "adoptions6 <- adoptions5[keep]"
   ]
  },
  {
   "cell_type": "code",
   "execution_count": 5,
   "id": "f430a649",
   "metadata": {},
   "outputs": [
    {
     "data": {
      "text/html": [
       "<table class=\"dataframe\">\n",
       "<caption>A data.frame: 6 × 4</caption>\n",
       "<thead>\n",
       "\t<tr><th></th><th scope=col>typeR</th><th scope=col>sexR</th><th scope=col>ageR</th><th scope=col>AdoptionYN</th></tr>\n",
       "\t<tr><th></th><th scope=col>&lt;int&gt;</th><th scope=col>&lt;int&gt;</th><th scope=col>&lt;dbl&gt;</th><th scope=col>&lt;int&gt;</th></tr>\n",
       "</thead>\n",
       "<tbody>\n",
       "\t<tr><th scope=row>1</th><td>0</td><td>0</td><td>1</td><td>0</td></tr>\n",
       "\t<tr><th scope=row>2</th><td>1</td><td>0</td><td>0</td><td>1</td></tr>\n",
       "\t<tr><th scope=row>3</th><td>1</td><td>0</td><td>0</td><td>1</td></tr>\n",
       "\t<tr><th scope=row>4</th><td>0</td><td>0</td><td>0</td><td>0</td></tr>\n",
       "\t<tr><th scope=row>5</th><td>1</td><td>1</td><td>2</td><td>1</td></tr>\n",
       "\t<tr><th scope=row>6</th><td>1</td><td>0</td><td>1</td><td>1</td></tr>\n",
       "</tbody>\n",
       "</table>\n"
      ],
      "text/latex": [
       "A data.frame: 6 × 4\n",
       "\\begin{tabular}{r|llll}\n",
       "  & typeR & sexR & ageR & AdoptionYN\\\\\n",
       "  & <int> & <int> & <dbl> & <int>\\\\\n",
       "\\hline\n",
       "\t1 & 0 & 0 & 1 & 0\\\\\n",
       "\t2 & 1 & 0 & 0 & 1\\\\\n",
       "\t3 & 1 & 0 & 0 & 1\\\\\n",
       "\t4 & 0 & 0 & 0 & 0\\\\\n",
       "\t5 & 1 & 1 & 2 & 1\\\\\n",
       "\t6 & 1 & 0 & 1 & 1\\\\\n",
       "\\end{tabular}\n"
      ],
      "text/markdown": [
       "\n",
       "A data.frame: 6 × 4\n",
       "\n",
       "| <!--/--> | typeR &lt;int&gt; | sexR &lt;int&gt; | ageR &lt;dbl&gt; | AdoptionYN &lt;int&gt; |\n",
       "|---|---|---|---|---|\n",
       "| 1 | 0 | 0 | 1 | 0 |\n",
       "| 2 | 1 | 0 | 0 | 1 |\n",
       "| 3 | 1 | 0 | 0 | 1 |\n",
       "| 4 | 0 | 0 | 0 | 0 |\n",
       "| 5 | 1 | 1 | 2 | 1 |\n",
       "| 6 | 1 | 0 | 1 | 1 |\n",
       "\n"
      ],
      "text/plain": [
       "  typeR sexR ageR AdoptionYN\n",
       "1 0     0    1    0         \n",
       "2 1     0    0    1         \n",
       "3 1     0    0    1         \n",
       "4 0     0    0    0         \n",
       "5 1     1    2    1         \n",
       "6 1     0    1    1         "
      ]
     },
     "metadata": {},
     "output_type": "display_data"
    }
   ],
   "source": [
    "head(adoptions6)"
   ]
  },
  {
   "cell_type": "markdown",
   "id": "689bdb81",
   "metadata": {},
   "source": [
    "### Remove missing data"
   ]
  },
  {
   "cell_type": "code",
   "execution_count": 6,
   "id": "752a00a4",
   "metadata": {},
   "outputs": [],
   "source": [
    "adoptions7 <- NaRV.omit(adoptions6)"
   ]
  },
  {
   "cell_type": "markdown",
   "id": "6ef16506",
   "metadata": {},
   "source": [
    "## Analysis 1"
   ]
  },
  {
   "cell_type": "markdown",
   "id": "845b2aff",
   "metadata": {},
   "source": [
    "### Stepwise Regression in R - Backward Elimination"
   ]
  },
  {
   "cell_type": "markdown",
   "id": "6f779c8a",
   "metadata": {},
   "source": [
    "#### Create a model using all 3 predictor variables"
   ]
  },
  {
   "cell_type": "code",
   "execution_count": 7,
   "id": "cf7ae643",
   "metadata": {},
   "outputs": [],
   "source": [
    "FitAll = lm(AdoptionYN ~ ., data = adoptions7)"
   ]
  },
  {
   "cell_type": "code",
   "execution_count": 8,
   "id": "2010d54a",
   "metadata": {},
   "outputs": [
    {
     "data": {
      "text/plain": [
       "\n",
       "Call:\n",
       "lm(formula = AdoptionYN ~ ., data = adoptions7)\n",
       "\n",
       "Residuals:\n",
       "    Min      1Q  Median      3Q     Max \n",
       "-0.5816 -0.5446 -0.1258  0.4472  0.9111 \n",
       "\n",
       "Coefficients:\n",
       "             Estimate Std. Error t value Pr(>|t|)    \n",
       "(Intercept)  0.544576   0.002799 194.584  < 2e-16 ***\n",
       "typeR        0.008190   0.002999   2.731  0.00631 ** \n",
       "sexR         0.028779   0.002860  10.063  < 2e-16 ***\n",
       "ageR        -0.113925   0.001762 -64.665  < 2e-16 ***\n",
       "---\n",
       "Signif. codes:  0 '***' 0.001 '**' 0.01 '*' 0.05 '.' 0.1 ' ' 1\n",
       "\n",
       "Residual standard error: 0.4909 on 118329 degrees of freedom\n",
       "Multiple R-squared:  0.0361,\tAdjusted R-squared:  0.03607 \n",
       "F-statistic:  1477 on 3 and 118329 DF,  p-value: < 2.2e-16\n"
      ]
     },
     "metadata": {},
     "output_type": "display_data"
    }
   ],
   "source": [
    "summary(FitAll)"
   ]
  },
  {
   "cell_type": "markdown",
   "id": "f0288331",
   "metadata": {},
   "source": [
    "The overall p value and the p values for each predictor are all significant.  Will compare this to the backward elimination model."
   ]
  },
  {
   "cell_type": "markdown",
   "id": "25c20dc6",
   "metadata": {},
   "source": [
    "#### Create stepwise regression model using backward elimination"
   ]
  },
  {
   "cell_type": "code",
   "execution_count": 9,
   "id": "bf9c00b7",
   "metadata": {},
   "outputs": [
    {
     "name": "stdout",
     "output_type": "stream",
     "text": [
      "Start:  AIC=-168389.3\n",
      "AdoptionYN ~ typeR + sexR + ageR\n",
      "\n",
      "        Df Sum of Sq   RSS     AIC\n",
      "<none>               28515 -168389\n",
      "- typeR  1       1.8 28517 -168384\n",
      "- sexR   1      24.4 28539 -168290\n",
      "- ageR   1    1007.7 29522 -164282\n"
     ]
    },
    {
     "data": {
      "text/plain": [
       "\n",
       "Call:\n",
       "lm(formula = AdoptionYN ~ typeR + sexR + ageR, data = adoptions7)\n",
       "\n",
       "Coefficients:\n",
       "(Intercept)        typeR         sexR         ageR  \n",
       "    0.54458      0.00819      0.02878     -0.11392  \n"
      ]
     },
     "metadata": {},
     "output_type": "display_data"
    }
   ],
   "source": [
    "step(FitAll, direction = 'backward')"
   ]
  },
  {
   "cell_type": "markdown",
   "id": "141ab4ac",
   "metadata": {},
   "source": [
    "The backward elimination model also shows that all 3 predictor variables are significant."
   ]
  },
  {
   "cell_type": "markdown",
   "id": "36f18035",
   "metadata": {},
   "source": [
    "### Stepwise Regression in R - Forward Selection"
   ]
  },
  {
   "cell_type": "markdown",
   "id": "3ba41b04",
   "metadata": {},
   "source": [
    "#### Create the original model"
   ]
  },
  {
   "cell_type": "code",
   "execution_count": 10,
   "id": "9f456ac6",
   "metadata": {},
   "outputs": [],
   "source": [
    "fitstart = lm(AdoptionYN ~ 1, data = adoptions7)"
   ]
  },
  {
   "cell_type": "code",
   "execution_count": 11,
   "id": "ba77e761",
   "metadata": {},
   "outputs": [
    {
     "data": {
      "text/plain": [
       "\n",
       "Call:\n",
       "lm(formula = AdoptionYN ~ 1, data = adoptions7)\n",
       "\n",
       "Residuals:\n",
       "    Min      1Q  Median      3Q     Max \n",
       "-0.4977 -0.4977 -0.4977  0.5023  0.5023 \n",
       "\n",
       "Coefficients:\n",
       "            Estimate Std. Error t value Pr(>|t|)    \n",
       "(Intercept) 0.497689   0.001453   342.4   <2e-16 ***\n",
       "---\n",
       "Signif. codes:  0 '***' 0.001 '**' 0.01 '*' 0.05 '.' 0.1 ' ' 1\n",
       "\n",
       "Residual standard error: 0.5 on 118332 degrees of freedom\n"
      ]
     },
     "metadata": {},
     "output_type": "display_data"
    }
   ],
   "source": [
    "summary(fitstart)"
   ]
  },
  {
   "cell_type": "markdown",
   "id": "b9526be6",
   "metadata": {},
   "source": [
    "#### Create stepwise regression model using forward selection"
   ]
  },
  {
   "cell_type": "code",
   "execution_count": 12,
   "id": "d3a0f567",
   "metadata": {},
   "outputs": [
    {
     "name": "stdout",
     "output_type": "stream",
     "text": [
      "Start:  AIC=-164044.9\n",
      "AdoptionYN ~ 1\n",
      "\n",
      "        Df Sum of Sq   RSS     AIC\n",
      "+ ageR   1   1042.13 28541 -168287\n",
      "+ sexR   1     32.56 29550 -164173\n",
      "+ typeR  1     30.32 29552 -164164\n",
      "<none>               29583 -164045\n",
      "\n",
      "Step:  AIC=-168286.7\n",
      "AdoptionYN ~ ageR\n",
      "\n",
      "        Df Sum of Sq   RSS     AIC\n",
      "+ sexR   1   23.9086 28517 -168384\n",
      "+ typeR  1    1.3021 28539 -168290\n",
      "<none>               28541 -168287\n",
      "\n",
      "Step:  AIC=-168383.9\n",
      "AdoptionYN ~ ageR + sexR\n",
      "\n",
      "        Df Sum of Sq   RSS     AIC\n",
      "+ typeR  1    1.7977 28515 -168389\n",
      "<none>               28517 -168384\n",
      "\n",
      "Step:  AIC=-168389.3\n",
      "AdoptionYN ~ ageR + sexR + typeR\n",
      "\n"
     ]
    },
    {
     "data": {
      "text/plain": [
       "\n",
       "Call:\n",
       "lm(formula = AdoptionYN ~ ageR + sexR + typeR, data = adoptions7)\n",
       "\n",
       "Coefficients:\n",
       "(Intercept)         ageR         sexR        typeR  \n",
       "    0.54458     -0.11392      0.02878      0.00819  \n"
      ]
     },
     "metadata": {},
     "output_type": "display_data"
    }
   ],
   "source": [
    "step(fitstart, direction = 'forward', scope = (formula(FitAll)))"
   ]
  },
  {
   "cell_type": "markdown",
   "id": "78ac560d",
   "metadata": {},
   "source": [
    "The forward selection model also shows that all 3 predictor variables are significant and has the same AIC value as the backward elimination model."
   ]
  },
  {
   "cell_type": "markdown",
   "id": "5fa2c7ca",
   "metadata": {},
   "source": [
    "### Stepwise Regression in R - Hybrid"
   ]
  },
  {
   "cell_type": "markdown",
   "id": "46cd2b31",
   "metadata": {},
   "source": [
    "#### Create hybrid model"
   ]
  },
  {
   "cell_type": "code",
   "execution_count": 13,
   "id": "fe1c6342",
   "metadata": {},
   "outputs": [
    {
     "name": "stdout",
     "output_type": "stream",
     "text": [
      "Start:  AIC=-164044.9\n",
      "AdoptionYN ~ 1\n",
      "\n",
      "        Df Sum of Sq   RSS     AIC\n",
      "+ ageR   1   1042.13 28541 -168287\n",
      "+ sexR   1     32.56 29550 -164173\n",
      "+ typeR  1     30.32 29552 -164164\n",
      "<none>               29583 -164045\n",
      "\n",
      "Step:  AIC=-168286.7\n",
      "AdoptionYN ~ ageR\n",
      "\n",
      "        Df Sum of Sq   RSS     AIC\n",
      "+ sexR   1     23.91 28517 -168384\n",
      "+ typeR  1      1.30 28539 -168290\n",
      "<none>               28541 -168287\n",
      "- ageR   1   1042.13 29583 -164045\n",
      "\n",
      "Step:  AIC=-168383.9\n",
      "AdoptionYN ~ ageR + sexR\n",
      "\n",
      "        Df Sum of Sq   RSS     AIC\n",
      "+ typeR  1      1.80 28515 -168389\n",
      "<none>               28517 -168384\n",
      "- sexR   1     23.91 28541 -168287\n",
      "- ageR   1   1033.48 29550 -164173\n",
      "\n",
      "Step:  AIC=-168389.3\n",
      "AdoptionYN ~ ageR + sexR + typeR\n",
      "\n",
      "        Df Sum of Sq   RSS     AIC\n",
      "<none>               28515 -168389\n",
      "- typeR  1       1.8 28517 -168384\n",
      "- sexR   1      24.4 28539 -168290\n",
      "- ageR   1    1007.7 29522 -164282\n"
     ]
    },
    {
     "data": {
      "text/plain": [
       "\n",
       "Call:\n",
       "lm(formula = AdoptionYN ~ ageR + sexR + typeR, data = adoptions7)\n",
       "\n",
       "Coefficients:\n",
       "(Intercept)         ageR         sexR        typeR  \n",
       "    0.54458     -0.11392      0.02878      0.00819  \n"
      ]
     },
     "metadata": {},
     "output_type": "display_data"
    }
   ],
   "source": [
    "step(fitstart, direction=\"both\", scope=formula(FitAll))"
   ]
  },
  {
   "cell_type": "markdown",
   "id": "ff3e9ef0",
   "metadata": {},
   "source": [
    "Finally, the hybrid model also shows that all 3 predictor variables are significant and has the same AIC value as the backward elimination model and the forwards selection model."
   ]
  },
  {
   "cell_type": "markdown",
   "id": "0a5821d9",
   "metadata": {},
   "source": [
    "## Analysis 2"
   ]
  },
  {
   "cell_type": "markdown",
   "id": "30dcc339",
   "metadata": {},
   "source": [
    "### Using Independent Chi-Squares to test each variable, do the 3 variables influence adoption?"
   ]
  },
  {
   "cell_type": "markdown",
   "id": "bb2eb609",
   "metadata": {},
   "source": [
    "### Data Wrangling"
   ]
  },
  {
   "cell_type": "markdown",
   "id": "d0b9d0fc",
   "metadata": {},
   "source": [
    "#### Remove missing data from adoptions5"
   ]
  },
  {
   "cell_type": "code",
   "execution_count": 14,
   "id": "a96fafd4",
   "metadata": {},
   "outputs": [],
   "source": [
    "adoptions8 <- NaRV.omit(adoptions5)"
   ]
  },
  {
   "cell_type": "code",
   "execution_count": 15,
   "id": "45add6eb",
   "metadata": {},
   "outputs": [
    {
     "data": {
      "text/html": [
       "<table class=\"dataframe\">\n",
       "<caption>A data.frame: 6 × 10</caption>\n",
       "<thead>\n",
       "\t<tr><th></th><th scope=col>X</th><th scope=col>Animal.Type</th><th scope=col>Year</th><th scope=col>Month</th><th scope=col>Sex</th><th scope=col>Age</th><th scope=col>AdoptionYN</th><th scope=col>typeR</th><th scope=col>sexR</th><th scope=col>ageR</th></tr>\n",
       "\t<tr><th></th><th scope=col>&lt;int&gt;</th><th scope=col>&lt;chr&gt;</th><th scope=col>&lt;int&gt;</th><th scope=col>&lt;chr&gt;</th><th scope=col>&lt;chr&gt;</th><th scope=col>&lt;chr&gt;</th><th scope=col>&lt;int&gt;</th><th scope=col>&lt;int&gt;</th><th scope=col>&lt;int&gt;</th><th scope=col>&lt;dbl&gt;</th></tr>\n",
       "</thead>\n",
       "<tbody>\n",
       "\t<tr><th scope=row>1</th><td>0</td><td>Cat</td><td>19</td><td>May</td><td>Male  </td><td>2-5 years</td><td>0</td><td>0</td><td>0</td><td>1</td></tr>\n",
       "\t<tr><th scope=row>2</th><td>1</td><td>Dog</td><td>18</td><td>Jul</td><td>Male  </td><td>0-1 years</td><td>1</td><td>1</td><td>0</td><td>0</td></tr>\n",
       "\t<tr><th scope=row>3</th><td>3</td><td>Dog</td><td>16</td><td>Feb</td><td>Male  </td><td>0-1 years</td><td>1</td><td>1</td><td>0</td><td>0</td></tr>\n",
       "\t<tr><th scope=row>4</th><td>4</td><td>Cat</td><td>14</td><td>Mar</td><td>Male  </td><td>0-1 years</td><td>0</td><td>0</td><td>0</td><td>0</td></tr>\n",
       "\t<tr><th scope=row>5</th><td>5</td><td>Dog</td><td>20</td><td>Oct</td><td>Female</td><td>6-9 years</td><td>1</td><td>1</td><td>1</td><td>2</td></tr>\n",
       "\t<tr><th scope=row>6</th><td>6</td><td>Dog</td><td>20</td><td>May</td><td>Male  </td><td>2-5 years</td><td>1</td><td>1</td><td>0</td><td>1</td></tr>\n",
       "</tbody>\n",
       "</table>\n"
      ],
      "text/latex": [
       "A data.frame: 6 × 10\n",
       "\\begin{tabular}{r|llllllllll}\n",
       "  & X & Animal.Type & Year & Month & Sex & Age & AdoptionYN & typeR & sexR & ageR\\\\\n",
       "  & <int> & <chr> & <int> & <chr> & <chr> & <chr> & <int> & <int> & <int> & <dbl>\\\\\n",
       "\\hline\n",
       "\t1 & 0 & Cat & 19 & May & Male   & 2-5 years & 0 & 0 & 0 & 1\\\\\n",
       "\t2 & 1 & Dog & 18 & Jul & Male   & 0-1 years & 1 & 1 & 0 & 0\\\\\n",
       "\t3 & 3 & Dog & 16 & Feb & Male   & 0-1 years & 1 & 1 & 0 & 0\\\\\n",
       "\t4 & 4 & Cat & 14 & Mar & Male   & 0-1 years & 0 & 0 & 0 & 0\\\\\n",
       "\t5 & 5 & Dog & 20 & Oct & Female & 6-9 years & 1 & 1 & 1 & 2\\\\\n",
       "\t6 & 6 & Dog & 20 & May & Male   & 2-5 years & 1 & 1 & 0 & 1\\\\\n",
       "\\end{tabular}\n"
      ],
      "text/markdown": [
       "\n",
       "A data.frame: 6 × 10\n",
       "\n",
       "| <!--/--> | X &lt;int&gt; | Animal.Type &lt;chr&gt; | Year &lt;int&gt; | Month &lt;chr&gt; | Sex &lt;chr&gt; | Age &lt;chr&gt; | AdoptionYN &lt;int&gt; | typeR &lt;int&gt; | sexR &lt;int&gt; | ageR &lt;dbl&gt; |\n",
       "|---|---|---|---|---|---|---|---|---|---|---|\n",
       "| 1 | 0 | Cat | 19 | May | Male   | 2-5 years | 0 | 0 | 0 | 1 |\n",
       "| 2 | 1 | Dog | 18 | Jul | Male   | 0-1 years | 1 | 1 | 0 | 0 |\n",
       "| 3 | 3 | Dog | 16 | Feb | Male   | 0-1 years | 1 | 1 | 0 | 0 |\n",
       "| 4 | 4 | Cat | 14 | Mar | Male   | 0-1 years | 0 | 0 | 0 | 0 |\n",
       "| 5 | 5 | Dog | 20 | Oct | Female | 6-9 years | 1 | 1 | 1 | 2 |\n",
       "| 6 | 6 | Dog | 20 | May | Male   | 2-5 years | 1 | 1 | 0 | 1 |\n",
       "\n"
      ],
      "text/plain": [
       "  X Animal.Type Year Month Sex    Age       AdoptionYN typeR sexR ageR\n",
       "1 0 Cat         19   May   Male   2-5 years 0          0     0    1   \n",
       "2 1 Dog         18   Jul   Male   0-1 years 1          1     0    0   \n",
       "3 3 Dog         16   Feb   Male   0-1 years 1          1     0    0   \n",
       "4 4 Cat         14   Mar   Male   0-1 years 0          0     0    0   \n",
       "5 5 Dog         20   Oct   Female 6-9 years 1          1     1    2   \n",
       "6 6 Dog         20   May   Male   2-5 years 1          1     0    1   "
      ]
     },
     "metadata": {},
     "output_type": "display_data"
    }
   ],
   "source": [
    "head(adoptions8)"
   ]
  },
  {
   "cell_type": "markdown",
   "id": "483a1fed",
   "metadata": {},
   "source": [
    "### Independent Chi-Square for Animal Type"
   ]
  },
  {
   "cell_type": "code",
   "execution_count": 16,
   "id": "286f049e",
   "metadata": {},
   "outputs": [
    {
     "data": {
      "text/plain": [
       "\n",
       "\tPearson's Chi-squared test\n",
       "\n",
       "data:  adoptions8$Animal.Type and adoptions8$AdoptionYN\n",
       "X-squared = 121.3, df = 1, p-value < 2.2e-16\n"
      ]
     },
     "metadata": {},
     "output_type": "display_data"
    }
   ],
   "source": [
    "chisqType <- chisq.test(adoptions8$Animal.Type, adoptions8$AdoptionYN, correct=FALSE)\n",
    "chisqType"
   ]
  },
  {
   "cell_type": "markdown",
   "id": "c08c40ab",
   "metadata": {},
   "source": [
    "The p value is < .05 so animal type significantly influences adoption."
   ]
  },
  {
   "cell_type": "markdown",
   "id": "d23ea4bd",
   "metadata": {},
   "source": [
    "#### Post Hoc Analysis:  Standardized residuals"
   ]
  },
  {
   "cell_type": "code",
   "execution_count": 17,
   "id": "3f62cb93",
   "metadata": {},
   "outputs": [
    {
     "data": {
      "text/plain": [
       "                      adoptions8$AdoptionYN\n",
       "adoptions8$Animal.Type         0         1\n",
       "                   Cat -11.01364  11.01364\n",
       "                   Dog  11.01364 -11.01364"
      ]
     },
     "metadata": {},
     "output_type": "display_data"
    }
   ],
   "source": [
    "chisq.results <- chisqType\n",
    "chisq.results$stdres"
   ]
  },
  {
   "cell_type": "markdown",
   "id": "acae5216",
   "metadata": {},
   "source": [
    "Standardized residuals are > 2, so both animal types of cats and dogs influence an adoption outcome."
   ]
  },
  {
   "cell_type": "markdown",
   "id": "485ead3a",
   "metadata": {},
   "source": [
    "### Independent Chi-Square for Sex"
   ]
  },
  {
   "cell_type": "code",
   "execution_count": 18,
   "id": "bdccd5de",
   "metadata": {},
   "outputs": [
    {
     "data": {
      "text/plain": [
       "\n",
       "\tPearson's Chi-squared test\n",
       "\n",
       "data:  adoptions8$Sex and adoptions8$AdoptionYN\n",
       "X-squared = 130.24, df = 1, p-value < 2.2e-16\n"
      ]
     },
     "metadata": {},
     "output_type": "display_data"
    }
   ],
   "source": [
    "chisqSex <- chisq.test(adoptions8$Sex, adoptions8$AdoptionYN, correct=FALSE)\n",
    "chisqSex"
   ]
  },
  {
   "cell_type": "markdown",
   "id": "069b64c7",
   "metadata": {},
   "source": [
    "The p value is < .05 so sex of the animal significantly influences adoption."
   ]
  },
  {
   "cell_type": "markdown",
   "id": "f19cdb0e",
   "metadata": {},
   "source": [
    "#### Post Hoc Analysis: Standardized residuals"
   ]
  },
  {
   "cell_type": "code",
   "execution_count": 19,
   "id": "8de90a7e",
   "metadata": {},
   "outputs": [
    {
     "data": {
      "text/plain": [
       "              adoptions8$AdoptionYN\n",
       "adoptions8$Sex         0         1\n",
       "        Female -11.41236  11.41236\n",
       "        Male    11.41236 -11.41236"
      ]
     },
     "metadata": {},
     "output_type": "display_data"
    }
   ],
   "source": [
    "chisq.results1 <- chisqSex\n",
    "chisq.results1$stdres"
   ]
  },
  {
   "cell_type": "markdown",
   "id": "325bbe9e",
   "metadata": {},
   "source": [
    "Standardized residuals are > 2, so both sexes influence an adoption outcome."
   ]
  },
  {
   "cell_type": "markdown",
   "id": "23a4c4d0",
   "metadata": {},
   "source": [
    "### Independent Chi-Square for Age"
   ]
  },
  {
   "cell_type": "code",
   "execution_count": 20,
   "id": "0e9d0cf9",
   "metadata": {},
   "outputs": [
    {
     "data": {
      "text/plain": [
       "\n",
       "\tPearson's Chi-squared test\n",
       "\n",
       "data:  adoptions8$Age and adoptions8$AdoptionYN\n",
       "X-squared = 4504.3, df = 4, p-value < 2.2e-16\n"
      ]
     },
     "metadata": {},
     "output_type": "display_data"
    }
   ],
   "source": [
    "chisqAge <- chisq.test(adoptions8$Age, adoptions8$AdoptionYN, correct=FALSE)\n",
    "chisqAge"
   ]
  },
  {
   "cell_type": "markdown",
   "id": "fe09fe95",
   "metadata": {},
   "source": [
    "The p value is < .05 so animal age significantly influences adoption."
   ]
  },
  {
   "cell_type": "markdown",
   "id": "8874d6c7",
   "metadata": {},
   "source": [
    "#### Post Hoc Analysis: Standardized residuals"
   ]
  },
  {
   "cell_type": "code",
   "execution_count": 21,
   "id": "cd42805c",
   "metadata": {},
   "outputs": [
    {
     "data": {
      "text/plain": [
       "              adoptions8$AdoptionYN\n",
       "adoptions8$Age         0         1\n",
       "   0-1 years   -63.89894  63.89894\n",
       "   10-15 years  32.38595 -32.38595\n",
       "   16+ years    12.84379 -12.84379\n",
       "   2-5 years    38.19677 -38.19677\n",
       "   6-9 years    26.11931 -26.11931"
      ]
     },
     "metadata": {},
     "output_type": "display_data"
    }
   ],
   "source": [
    "chisq.results2 <- chisqAge\n",
    "chisq.results2$stdres"
   ]
  },
  {
   "cell_type": "markdown",
   "id": "20631823",
   "metadata": {},
   "source": [
    "Standardized residuals are > 2, so all age categories influence an adoption outcome."
   ]
  },
  {
   "cell_type": "code",
   "execution_count": null,
   "id": "2e975db0",
   "metadata": {},
   "outputs": [],
   "source": []
  }
 ],
 "metadata": {
  "kernelspec": {
   "display_name": "R",
   "language": "R",
   "name": "ir"
  },
  "language_info": {
   "codemirror_mode": "r",
   "file_extension": ".r",
   "mimetype": "text/x-r-source",
   "name": "R",
   "pygments_lexer": "r",
   "version": "4.1.1"
  }
 },
 "nbformat": 4,
 "nbformat_minor": 5
}
