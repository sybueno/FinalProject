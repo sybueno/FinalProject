{
 "cells": [
  {
   "cell_type": "markdown",
   "id": "0f965d5b",
   "metadata": {},
   "source": [
    "# Data Science Final Project - Shelter Animal Adoptions"
   ]
  },
  {
   "cell_type": "markdown",
   "id": "52a158b4",
   "metadata": {},
   "source": [
    "## Analyses in R"
   ]
  },
  {
   "cell_type": "markdown",
   "id": "a11beb04",
   "metadata": {},
   "source": [
    "## Q1. Are animal type, sex, age, and color significant predictors of shelter dog and cat adoption?\n",
    "## Q2. What time of year are shelter dog and cat adoptions most popular?"
   ]
  },
  {
   "cell_type": "markdown",
   "id": "f3f89a7e",
   "metadata": {},
   "source": [
    "### Import packages"
   ]
  },
  {
   "cell_type": "code",
   "execution_count": 1,
   "id": "6902bc75",
   "metadata": {},
   "outputs": [
    {
     "name": "stderr",
     "output_type": "stream",
     "text": [
      "Installing package into 'C:/Users/bueno/OneDrive/Documents/R/win-library/4.1'\n",
      "(as 'lib' is unspecified)\n",
      "\n"
     ]
    },
    {
     "name": "stdout",
     "output_type": "stream",
     "text": [
      "package 'IDPmisc' successfully unpacked and MD5 sums checked\n",
      "\n",
      "The downloaded binary packages are in\n",
      "\tC:\\Users\\bueno\\AppData\\Local\\Temp\\Rtmpklmrox\\downloaded_packages\n"
     ]
    },
    {
     "name": "stderr",
     "output_type": "stream",
     "text": [
      "Warning message:\n",
      "\"package 'IDPmisc' was built under R version 4.1.3\"\n",
      "Installing package into 'C:/Users/bueno/OneDrive/Documents/R/win-library/4.1'\n",
      "(as 'lib' is unspecified)\n",
      "\n"
     ]
    },
    {
     "name": "stdout",
     "output_type": "stream",
     "text": [
      "package 'gmodels' successfully unpacked and MD5 sums checked\n",
      "\n",
      "The downloaded binary packages are in\n",
      "\tC:\\Users\\bueno\\AppData\\Local\\Temp\\Rtmpklmrox\\downloaded_packages\n"
     ]
    },
    {
     "name": "stderr",
     "output_type": "stream",
     "text": [
      "Warning message:\n",
      "\"package 'gmodels' was built under R version 4.1.3\"\n",
      "Installing package into 'C:/Users/bueno/OneDrive/Documents/R/win-library/4.1'\n",
      "(as 'lib' is unspecified)\n",
      "\n"
     ]
    },
    {
     "name": "stdout",
     "output_type": "stream",
     "text": [
      "package 'corrplot' successfully unpacked and MD5 sums checked\n",
      "\n",
      "The downloaded binary packages are in\n",
      "\tC:\\Users\\bueno\\AppData\\Local\\Temp\\Rtmpklmrox\\downloaded_packages\n"
     ]
    },
    {
     "name": "stderr",
     "output_type": "stream",
     "text": [
      "Warning message:\n",
      "\"package 'corrplot' was built under R version 4.1.3\"\n",
      "corrplot 0.92 loaded\n",
      "\n"
     ]
    }
   ],
   "source": [
    "install.packages(\"IDPmisc\")  # for data wrangling (NaRV.omit() function)\n",
    "library(\"IDPmisc\")\n",
    "install.packages(\"gmodels\")   # for Independent Chi-Square tests\n",
    "library(\"gmodels\")\n",
    "install.packages(\"corrplot\")   # for Correlation Matrix\n",
    "library(\"corrplot\")\n"
   ]
  },
  {
   "cell_type": "markdown",
   "id": "ec8e3d7e",
   "metadata": {},
   "source": [
    "### Load Data"
   ]
  },
  {
   "cell_type": "code",
   "execution_count": 2,
   "id": "0d694eb2",
   "metadata": {},
   "outputs": [],
   "source": [
    "adoptions5 <- read.csv(\"C:\\\\Users\\\\bueno\\\\OneDrive\\\\Documents\\\\GitHub\\\\FinalProject\\\\data\\\\adoptions5.csv\")"
   ]
  },
  {
   "cell_type": "code",
   "execution_count": 3,
   "id": "346b3b6e",
   "metadata": {},
   "outputs": [
    {
     "data": {
      "text/html": [
       "<table class=\"dataframe\">\n",
       "<caption>A data.frame: 6 × 12</caption>\n",
       "<thead>\n",
       "\t<tr><th></th><th scope=col>X</th><th scope=col>Animal.Type</th><th scope=col>Color</th><th scope=col>Year</th><th scope=col>Month</th><th scope=col>Sex</th><th scope=col>Age</th><th scope=col>AdoptionYN</th><th scope=col>typeR</th><th scope=col>sexR</th><th scope=col>ageR</th><th scope=col>colorR</th></tr>\n",
       "\t<tr><th></th><th scope=col>&lt;int&gt;</th><th scope=col>&lt;chr&gt;</th><th scope=col>&lt;chr&gt;</th><th scope=col>&lt;int&gt;</th><th scope=col>&lt;chr&gt;</th><th scope=col>&lt;chr&gt;</th><th scope=col>&lt;chr&gt;</th><th scope=col>&lt;int&gt;</th><th scope=col>&lt;int&gt;</th><th scope=col>&lt;int&gt;</th><th scope=col>&lt;dbl&gt;</th><th scope=col>&lt;int&gt;</th></tr>\n",
       "</thead>\n",
       "<tbody>\n",
       "\t<tr><th scope=row>1</th><td>0</td><td>Cat</td><td>Brown </td><td>19</td><td>May</td><td>Male  </td><td>2-5 years</td><td>0</td><td>0</td><td>0</td><td>1</td><td> 4</td></tr>\n",
       "\t<tr><th scope=row>2</th><td>1</td><td>Dog</td><td>White </td><td>18</td><td>Jul</td><td>Male  </td><td>0-1 years</td><td>1</td><td>1</td><td>0</td><td>0</td><td>25</td></tr>\n",
       "\t<tr><th scope=row>3</th><td>3</td><td>Dog</td><td>Buff  </td><td>16</td><td>Feb</td><td>Male  </td><td>0-1 years</td><td>1</td><td>1</td><td>0</td><td>0</td><td> 5</td></tr>\n",
       "\t<tr><th scope=row>4</th><td>4</td><td>Cat</td><td>Orange</td><td>14</td><td>Mar</td><td>Male  </td><td>0-1 years</td><td>0</td><td>0</td><td>0</td><td>0</td><td>16</td></tr>\n",
       "\t<tr><th scope=row>5</th><td>5</td><td>Dog</td><td>Brown </td><td>20</td><td>Oct</td><td>Female</td><td>6-9 years</td><td>1</td><td>1</td><td>1</td><td>2</td><td> 4</td></tr>\n",
       "\t<tr><th scope=row>6</th><td>6</td><td>Dog</td><td>White </td><td>20</td><td>May</td><td>Male  </td><td>2-5 years</td><td>1</td><td>1</td><td>0</td><td>1</td><td>25</td></tr>\n",
       "</tbody>\n",
       "</table>\n"
      ],
      "text/latex": [
       "A data.frame: 6 × 12\n",
       "\\begin{tabular}{r|llllllllllll}\n",
       "  & X & Animal.Type & Color & Year & Month & Sex & Age & AdoptionYN & typeR & sexR & ageR & colorR\\\\\n",
       "  & <int> & <chr> & <chr> & <int> & <chr> & <chr> & <chr> & <int> & <int> & <int> & <dbl> & <int>\\\\\n",
       "\\hline\n",
       "\t1 & 0 & Cat & Brown  & 19 & May & Male   & 2-5 years & 0 & 0 & 0 & 1 &  4\\\\\n",
       "\t2 & 1 & Dog & White  & 18 & Jul & Male   & 0-1 years & 1 & 1 & 0 & 0 & 25\\\\\n",
       "\t3 & 3 & Dog & Buff   & 16 & Feb & Male   & 0-1 years & 1 & 1 & 0 & 0 &  5\\\\\n",
       "\t4 & 4 & Cat & Orange & 14 & Mar & Male   & 0-1 years & 0 & 0 & 0 & 0 & 16\\\\\n",
       "\t5 & 5 & Dog & Brown  & 20 & Oct & Female & 6-9 years & 1 & 1 & 1 & 2 &  4\\\\\n",
       "\t6 & 6 & Dog & White  & 20 & May & Male   & 2-5 years & 1 & 1 & 0 & 1 & 25\\\\\n",
       "\\end{tabular}\n"
      ],
      "text/markdown": [
       "\n",
       "A data.frame: 6 × 12\n",
       "\n",
       "| <!--/--> | X &lt;int&gt; | Animal.Type &lt;chr&gt; | Color &lt;chr&gt; | Year &lt;int&gt; | Month &lt;chr&gt; | Sex &lt;chr&gt; | Age &lt;chr&gt; | AdoptionYN &lt;int&gt; | typeR &lt;int&gt; | sexR &lt;int&gt; | ageR &lt;dbl&gt; | colorR &lt;int&gt; |\n",
       "|---|---|---|---|---|---|---|---|---|---|---|---|---|\n",
       "| 1 | 0 | Cat | Brown  | 19 | May | Male   | 2-5 years | 0 | 0 | 0 | 1 |  4 |\n",
       "| 2 | 1 | Dog | White  | 18 | Jul | Male   | 0-1 years | 1 | 1 | 0 | 0 | 25 |\n",
       "| 3 | 3 | Dog | Buff   | 16 | Feb | Male   | 0-1 years | 1 | 1 | 0 | 0 |  5 |\n",
       "| 4 | 4 | Cat | Orange | 14 | Mar | Male   | 0-1 years | 0 | 0 | 0 | 0 | 16 |\n",
       "| 5 | 5 | Dog | Brown  | 20 | Oct | Female | 6-9 years | 1 | 1 | 1 | 2 |  4 |\n",
       "| 6 | 6 | Dog | White  | 20 | May | Male   | 2-5 years | 1 | 1 | 0 | 1 | 25 |\n",
       "\n"
      ],
      "text/plain": [
       "  X Animal.Type Color  Year Month Sex    Age       AdoptionYN typeR sexR ageR\n",
       "1 0 Cat         Brown  19   May   Male   2-5 years 0          0     0    1   \n",
       "2 1 Dog         White  18   Jul   Male   0-1 years 1          1     0    0   \n",
       "3 3 Dog         Buff   16   Feb   Male   0-1 years 1          1     0    0   \n",
       "4 4 Cat         Orange 14   Mar   Male   0-1 years 0          0     0    0   \n",
       "5 5 Dog         Brown  20   Oct   Female 6-9 years 1          1     1    2   \n",
       "6 6 Dog         White  20   May   Male   2-5 years 1          1     0    1   \n",
       "  colorR\n",
       "1  4    \n",
       "2 25    \n",
       "3  5    \n",
       "4 16    \n",
       "5  4    \n",
       "6 25    "
      ]
     },
     "metadata": {},
     "output_type": "display_data"
    }
   ],
   "source": [
    "head(adoptions5)"
   ]
  },
  {
   "cell_type": "markdown",
   "id": "1ea1d197",
   "metadata": {},
   "source": [
    "## R Analysis 1"
   ]
  },
  {
   "cell_type": "markdown",
   "id": "ffe958e8",
   "metadata": {},
   "source": [
    "## Create Correlation matrix to determine correlation amongst variables"
   ]
  },
  {
   "cell_type": "markdown",
   "id": "b294ef52",
   "metadata": {},
   "source": [
    "## Data Wrangling"
   ]
  },
  {
   "cell_type": "markdown",
   "id": "1b7e254e",
   "metadata": {},
   "source": [
    "### Keep only predictor columns"
   ]
  },
  {
   "cell_type": "code",
   "execution_count": 4,
   "id": "da83f88b",
   "metadata": {},
   "outputs": [],
   "source": [
    "keep <- c(\"typeR\", \"sexR\", \"ageR\", \"colorR\", \"AdoptionYN\")\n",
    "adoptionsCorr <- adoptions5[keep]"
   ]
  },
  {
   "cell_type": "code",
   "execution_count": 5,
   "id": "f430a649",
   "metadata": {},
   "outputs": [
    {
     "data": {
      "text/html": [
       "<table class=\"dataframe\">\n",
       "<caption>A data.frame: 6 × 5</caption>\n",
       "<thead>\n",
       "\t<tr><th></th><th scope=col>typeR</th><th scope=col>sexR</th><th scope=col>ageR</th><th scope=col>colorR</th><th scope=col>AdoptionYN</th></tr>\n",
       "\t<tr><th></th><th scope=col>&lt;int&gt;</th><th scope=col>&lt;int&gt;</th><th scope=col>&lt;dbl&gt;</th><th scope=col>&lt;int&gt;</th><th scope=col>&lt;int&gt;</th></tr>\n",
       "</thead>\n",
       "<tbody>\n",
       "\t<tr><th scope=row>1</th><td>0</td><td>0</td><td>1</td><td> 4</td><td>0</td></tr>\n",
       "\t<tr><th scope=row>2</th><td>1</td><td>0</td><td>0</td><td>25</td><td>1</td></tr>\n",
       "\t<tr><th scope=row>3</th><td>1</td><td>0</td><td>0</td><td> 5</td><td>1</td></tr>\n",
       "\t<tr><th scope=row>4</th><td>0</td><td>0</td><td>0</td><td>16</td><td>0</td></tr>\n",
       "\t<tr><th scope=row>5</th><td>1</td><td>1</td><td>2</td><td> 4</td><td>1</td></tr>\n",
       "\t<tr><th scope=row>6</th><td>1</td><td>0</td><td>1</td><td>25</td><td>1</td></tr>\n",
       "</tbody>\n",
       "</table>\n"
      ],
      "text/latex": [
       "A data.frame: 6 × 5\n",
       "\\begin{tabular}{r|lllll}\n",
       "  & typeR & sexR & ageR & colorR & AdoptionYN\\\\\n",
       "  & <int> & <int> & <dbl> & <int> & <int>\\\\\n",
       "\\hline\n",
       "\t1 & 0 & 0 & 1 &  4 & 0\\\\\n",
       "\t2 & 1 & 0 & 0 & 25 & 1\\\\\n",
       "\t3 & 1 & 0 & 0 &  5 & 1\\\\\n",
       "\t4 & 0 & 0 & 0 & 16 & 0\\\\\n",
       "\t5 & 1 & 1 & 2 &  4 & 1\\\\\n",
       "\t6 & 1 & 0 & 1 & 25 & 1\\\\\n",
       "\\end{tabular}\n"
      ],
      "text/markdown": [
       "\n",
       "A data.frame: 6 × 5\n",
       "\n",
       "| <!--/--> | typeR &lt;int&gt; | sexR &lt;int&gt; | ageR &lt;dbl&gt; | colorR &lt;int&gt; | AdoptionYN &lt;int&gt; |\n",
       "|---|---|---|---|---|---|\n",
       "| 1 | 0 | 0 | 1 |  4 | 0 |\n",
       "| 2 | 1 | 0 | 0 | 25 | 1 |\n",
       "| 3 | 1 | 0 | 0 |  5 | 1 |\n",
       "| 4 | 0 | 0 | 0 | 16 | 0 |\n",
       "| 5 | 1 | 1 | 2 |  4 | 1 |\n",
       "| 6 | 1 | 0 | 1 | 25 | 1 |\n",
       "\n"
      ],
      "text/plain": [
       "  typeR sexR ageR colorR AdoptionYN\n",
       "1 0     0    1     4     0         \n",
       "2 1     0    0    25     1         \n",
       "3 1     0    0     5     1         \n",
       "4 0     0    0    16     0         \n",
       "5 1     1    2     4     1         \n",
       "6 1     0    1    25     1         "
      ]
     },
     "metadata": {},
     "output_type": "display_data"
    }
   ],
   "source": [
    "head(adoptionsCorr)"
   ]
  },
  {
   "cell_type": "markdown",
   "id": "689bdb81",
   "metadata": {},
   "source": [
    "### Remove missing data"
   ]
  },
  {
   "cell_type": "code",
   "execution_count": 6,
   "id": "752a00a4",
   "metadata": {},
   "outputs": [],
   "source": [
    "adoptionsCorr1 <- NaRV.omit(adoptionsCorr)"
   ]
  },
  {
   "cell_type": "markdown",
   "id": "8604cdc9",
   "metadata": {},
   "source": [
    "### Create Correlation Matrix"
   ]
  },
  {
   "cell_type": "code",
   "execution_count": 7,
   "id": "04baeaaf",
   "metadata": {},
   "outputs": [
    {
     "data": {
      "image/png": "[encoded data removed]",
      "text/plain": [
       "Plot with title \"\""
      ]
     },
     "metadata": {
      "image/png": {
       "height": 420,
       "width": 420
      }
     },
     "output_type": "display_data"
    }
   ],
   "source": [
    "adoptionsCorr2 = cor(adoptionsCorr1)\n",
    "corrplot(adoptionsCorr2, method = 'number')"
   ]
  },
  {
   "cell_type": "markdown",
   "id": "e95848fd",
   "metadata": {},
   "source": [
    "### Discovery:  Correlation matrices do not work on categorical data, nor on variables that do not influence each other such as these."
   ]
  },
  {
   "cell_type": "markdown",
   "id": "770d2dc9",
   "metadata": {},
   "source": [
    "## R Analysis 2"
   ]
  },
  {
   "cell_type": "markdown",
   "id": "845b2aff",
   "metadata": {},
   "source": [
    "### Stepwise Regression in R - Backward Elimination"
   ]
  },
  {
   "cell_type": "markdown",
   "id": "f2d49801",
   "metadata": {},
   "source": [
    "#### Create a model using all 4 predictor variables"
   ]
  },
  {
   "cell_type": "code",
   "execution_count": 8,
   "id": "cf7ae643",
   "metadata": {},
   "outputs": [],
   "source": [
    "FitAll = lm(AdoptionYN ~ ., data = adoptionsCorr1)"
   ]
  },
  {
   "cell_type": "code",
   "execution_count": 9,
   "id": "2010d54a",
   "metadata": {},
   "outputs": [
    {
     "data": {
      "text/plain": [
       "\n",
       "Call:\n",
       "lm(formula = AdoptionYN ~ ., data = adoptionsCorr1)\n",
       "\n",
       "Residuals:\n",
       "    Min      1Q  Median      3Q     Max \n",
       "-0.5889 -0.5328 -0.1335  0.4515  0.9219 \n",
       "\n",
       "Coefficients:\n",
       "              Estimate Std. Error t value Pr(>|t|)    \n",
       "(Intercept)  0.5501856  0.0030754 178.900  < 2e-16 ***\n",
       "typeR        0.0101529  0.0030314   3.349 0.000811 ***\n",
       "sexR         0.0292735  0.0028618  10.229  < 2e-16 ***\n",
       "ageR        -0.1136795  0.0017625 -64.498  < 2e-16 ***\n",
       "colorR      -0.0006939  0.0001578  -4.398 1.09e-05 ***\n",
       "---\n",
       "Signif. codes:  0 '***' 0.001 '**' 0.01 '*' 0.05 '.' 0.1 ' ' 1\n",
       "\n",
       "Residual standard error: 0.4909 on 118328 degrees of freedom\n",
       "Multiple R-squared:  0.03625,\tAdjusted R-squared:  0.03622 \n",
       "F-statistic:  1113 on 4 and 118328 DF,  p-value: < 2.2e-16\n"
      ]
     },
     "metadata": {},
     "output_type": "display_data"
    }
   ],
   "source": [
    "summary(FitAll)"
   ]
  },
  {
   "cell_type": "markdown",
   "id": "18d0c1de",
   "metadata": {},
   "source": [
    "The overall p value and the p values for each predictor are all significant.  Will compare this to the backward elimination model."
   ]
  },
  {
   "cell_type": "markdown",
   "id": "25c20dc6",
   "metadata": {},
   "source": [
    "#### Create stepwise regression model using backward elimination"
   ]
  },
  {
   "cell_type": "code",
   "execution_count": 10,
   "id": "bf9c00b7",
   "metadata": {},
   "outputs": [
    {
     "name": "stdout",
     "output_type": "stream",
     "text": [
      "Start:  AIC=-168406.7\n",
      "AdoptionYN ~ typeR + sexR + ageR + colorR\n",
      "\n",
      "         Df Sum of Sq   RSS     AIC\n",
      "<none>                28510 -168407\n",
      "- typeR   1      2.70 28513 -168397\n",
      "- colorR  1      4.66 28515 -168389\n",
      "- sexR    1     25.21 28535 -168304\n",
      "- ageR    1   1002.32 29512 -164320\n"
     ]
    },
    {
     "data": {
      "text/plain": [
       "\n",
       "Call:\n",
       "lm(formula = AdoptionYN ~ typeR + sexR + ageR + colorR, data = adoptionsCorr1)\n",
       "\n",
       "Coefficients:\n",
       "(Intercept)        typeR         sexR         ageR       colorR  \n",
       "  0.5501856    0.0101529    0.0292735   -0.1136795   -0.0006939  \n"
      ]
     },
     "metadata": {},
     "output_type": "display_data"
    }
   ],
   "source": [
    "step(FitAll, direction = 'backward')"
   ]
  },
  {
   "cell_type": "markdown",
   "id": "e3d1149d",
   "metadata": {},
   "source": [
    "The backward elimination model also shows that all 4 predictor variables are significant."
   ]
  },
  {
   "cell_type": "markdown",
   "id": "36f18035",
   "metadata": {},
   "source": [
    "### Stepwise Regression in R - Forward Selection"
   ]
  },
  {
   "cell_type": "markdown",
   "id": "3ba41b04",
   "metadata": {},
   "source": [
    "#### Create the original model"
   ]
  },
  {
   "cell_type": "code",
   "execution_count": 11,
   "id": "9f456ac6",
   "metadata": {},
   "outputs": [],
   "source": [
    "fitstart = lm(AdoptionYN ~ 1, data = adoptionsCorr1)"
   ]
  },
  {
   "cell_type": "code",
   "execution_count": 12,
   "id": "ba77e761",
   "metadata": {},
   "outputs": [
    {
     "data": {
      "text/plain": [
       "\n",
       "Call:\n",
       "lm(formula = AdoptionYN ~ 1, data = adoptionsCorr1)\n",
       "\n",
       "Residuals:\n",
       "    Min      1Q  Median      3Q     Max \n",
       "-0.4977 -0.4977 -0.4977  0.5023  0.5023 \n",
       "\n",
       "Coefficients:\n",
       "            Estimate Std. Error t value Pr(>|t|)    \n",
       "(Intercept) 0.497689   0.001453   342.4   <2e-16 ***\n",
       "---\n",
       "Signif. codes:  0 '***' 0.001 '**' 0.01 '*' 0.05 '.' 0.1 ' ' 1\n",
       "\n",
       "Residual standard error: 0.5 on 118332 degrees of freedom\n"
      ]
     },
     "metadata": {},
     "output_type": "display_data"
    }
   ],
   "source": [
    "summary(fitstart)"
   ]
  },
  {
   "cell_type": "markdown",
   "id": "b9526be6",
   "metadata": {},
   "source": [
    "#### Create stepwise regression model using forward selection"
   ]
  },
  {
   "cell_type": "code",
   "execution_count": 13,
   "id": "d3a0f567",
   "metadata": {},
   "outputs": [
    {
     "name": "stdout",
     "output_type": "stream",
     "text": [
      "Start:  AIC=-164044.9\n",
      "AdoptionYN ~ 1\n",
      "\n",
      "         Df Sum of Sq   RSS     AIC\n",
      "+ ageR    1   1042.13 28541 -168287\n",
      "+ sexR    1     32.56 29550 -164173\n",
      "+ typeR   1     30.32 29552 -164164\n",
      "+ colorR  1     14.18 29568 -164100\n",
      "<none>                29583 -164045\n",
      "\n",
      "Step:  AIC=-168286.7\n",
      "AdoptionYN ~ ageR\n",
      "\n",
      "         Df Sum of Sq   RSS     AIC\n",
      "+ sexR    1   23.9086 28517 -168384\n",
      "+ colorR  1    3.1539 28537 -168298\n",
      "+ typeR   1    1.3021 28539 -168290\n",
      "<none>                28541 -168287\n",
      "\n",
      "Step:  AIC=-168383.9\n",
      "AdoptionYN ~ ageR + sexR\n",
      "\n",
      "         Df Sum of Sq   RSS     AIC\n",
      "+ colorR  1    3.7555 28513 -168397\n",
      "+ typeR   1    1.7977 28515 -168389\n",
      "<none>                28517 -168384\n",
      "\n",
      "Step:  AIC=-168397.5\n",
      "AdoptionYN ~ ageR + sexR + colorR\n",
      "\n",
      "        Df Sum of Sq   RSS     AIC\n",
      "+ typeR  1    2.7027 28510 -168407\n",
      "<none>               28513 -168397\n",
      "\n",
      "Step:  AIC=-168406.7\n",
      "AdoptionYN ~ ageR + sexR + colorR + typeR\n",
      "\n"
     ]
    },
    {
     "data": {
      "text/plain": [
       "\n",
       "Call:\n",
       "lm(formula = AdoptionYN ~ ageR + sexR + colorR + typeR, data = adoptionsCorr1)\n",
       "\n",
       "Coefficients:\n",
       "(Intercept)         ageR         sexR       colorR        typeR  \n",
       "  0.5501856   -0.1136795    0.0292735   -0.0006939    0.0101529  \n"
      ]
     },
     "metadata": {},
     "output_type": "display_data"
    }
   ],
   "source": [
    "step(fitstart, direction = 'forward', scope = (formula(FitAll)))"
   ]
  },
  {
   "cell_type": "markdown",
   "id": "3f7a9893",
   "metadata": {},
   "source": [
    "The forward selection model also shows that all 4 predictor variables are significant and has the same AIC value as the backward elimination model."
   ]
  },
  {
   "cell_type": "markdown",
   "id": "5fa2c7ca",
   "metadata": {},
   "source": [
    "### Stepwise Regression in R - Hybrid"
   ]
  },
  {
   "cell_type": "markdown",
   "id": "46cd2b31",
   "metadata": {},
   "source": [
    "#### Create hybrid model"
   ]
  },
  {
   "cell_type": "code",
   "execution_count": 14,
   "id": "fe1c6342",
   "metadata": {},
   "outputs": [
    {
     "name": "stdout",
     "output_type": "stream",
     "text": [
      "Start:  AIC=-164044.9\n",
      "AdoptionYN ~ 1\n",
      "\n",
      "         Df Sum of Sq   RSS     AIC\n",
      "+ ageR    1   1042.13 28541 -168287\n",
      "+ sexR    1     32.56 29550 -164173\n",
      "+ typeR   1     30.32 29552 -164164\n",
      "+ colorR  1     14.18 29568 -164100\n",
      "<none>                29583 -164045\n",
      "\n",
      "Step:  AIC=-168286.7\n",
      "AdoptionYN ~ ageR\n",
      "\n",
      "         Df Sum of Sq   RSS     AIC\n",
      "+ sexR    1     23.91 28517 -168384\n",
      "+ colorR  1      3.15 28537 -168298\n",
      "+ typeR   1      1.30 28539 -168290\n",
      "<none>                28541 -168287\n",
      "- ageR    1   1042.13 29583 -164045\n",
      "\n",
      "Step:  AIC=-168383.9\n",
      "AdoptionYN ~ ageR + sexR\n",
      "\n",
      "         Df Sum of Sq   RSS     AIC\n",
      "+ colorR  1      3.76 28513 -168397\n",
      "+ typeR   1      1.80 28515 -168389\n",
      "<none>                28517 -168384\n",
      "- sexR    1     23.91 28541 -168287\n",
      "- ageR    1   1033.48 29550 -164173\n",
      "\n",
      "Step:  AIC=-168397.5\n",
      "AdoptionYN ~ ageR + sexR + colorR\n",
      "\n",
      "         Df Sum of Sq   RSS     AIC\n",
      "+ typeR   1      2.70 28510 -168407\n",
      "<none>                28513 -168397\n",
      "- colorR  1      3.76 28517 -168384\n",
      "- sexR    1     24.51 28537 -168298\n",
      "- ageR    1   1021.66 29535 -164234\n",
      "\n",
      "Step:  AIC=-168406.7\n",
      "AdoptionYN ~ ageR + sexR + colorR + typeR\n",
      "\n",
      "         Df Sum of Sq   RSS     AIC\n",
      "<none>                28510 -168407\n",
      "- typeR   1      2.70 28513 -168397\n",
      "- colorR  1      4.66 28515 -168389\n",
      "- sexR    1     25.21 28535 -168304\n",
      "- ageR    1   1002.32 29512 -164320\n"
     ]
    },
    {
     "data": {
      "text/plain": [
       "\n",
       "Call:\n",
       "lm(formula = AdoptionYN ~ ageR + sexR + colorR + typeR, data = adoptionsCorr1)\n",
       "\n",
       "Coefficients:\n",
       "(Intercept)         ageR         sexR       colorR        typeR  \n",
       "  0.5501856   -0.1136795    0.0292735   -0.0006939    0.0101529  \n"
      ]
     },
     "metadata": {},
     "output_type": "display_data"
    }
   ],
   "source": [
    "step(fitstart, direction=\"both\", scope=formula(FitAll))"
   ]
  },
  {
   "cell_type": "markdown",
   "id": "23f14b8f",
   "metadata": {},
   "source": [
    "Finally, the hybrid model also shows that all 4 predictor variables are significant and has the same AIC value as the backward elimination model and the forwards selection model."
   ]
  },
  {
   "cell_type": "markdown",
   "id": "055d50f2",
   "metadata": {},
   "source": [
    "## R Analysis 3"
   ]
  },
  {
   "cell_type": "markdown",
   "id": "1a6fbf1b",
   "metadata": {},
   "source": [
    "### Using Independent Chi-Squares to test each variable, do the 4 variables influence adoption?"
   ]
  },
  {
   "cell_type": "markdown",
   "id": "18a808f7",
   "metadata": {},
   "source": [
    "### Data Wrangling"
   ]
  },
  {
   "cell_type": "markdown",
   "id": "15beb57f",
   "metadata": {},
   "source": [
    "#### Remove missing data from adoptions5"
   ]
  },
  {
   "cell_type": "code",
   "execution_count": 15,
   "id": "2cd46edc",
   "metadata": {},
   "outputs": [],
   "source": [
    "adoptions6 <- NaRV.omit(adoptions5)"
   ]
  },
  {
   "cell_type": "code",
   "execution_count": 16,
   "id": "908f147d",
   "metadata": {},
   "outputs": [
    {
     "data": {
      "text/html": [
       "<table class=\"dataframe\">\n",
       "<caption>A data.frame: 6 × 12</caption>\n",
       "<thead>\n",
       "\t<tr><th></th><th scope=col>X</th><th scope=col>Animal.Type</th><th scope=col>Color</th><th scope=col>Year</th><th scope=col>Month</th><th scope=col>Sex</th><th scope=col>Age</th><th scope=col>AdoptionYN</th><th scope=col>typeR</th><th scope=col>sexR</th><th scope=col>ageR</th><th scope=col>colorR</th></tr>\n",
       "\t<tr><th></th><th scope=col>&lt;int&gt;</th><th scope=col>&lt;chr&gt;</th><th scope=col>&lt;chr&gt;</th><th scope=col>&lt;int&gt;</th><th scope=col>&lt;chr&gt;</th><th scope=col>&lt;chr&gt;</th><th scope=col>&lt;chr&gt;</th><th scope=col>&lt;int&gt;</th><th scope=col>&lt;int&gt;</th><th scope=col>&lt;int&gt;</th><th scope=col>&lt;dbl&gt;</th><th scope=col>&lt;int&gt;</th></tr>\n",
       "</thead>\n",
       "<tbody>\n",
       "\t<tr><th scope=row>1</th><td>0</td><td>Cat</td><td>Brown </td><td>19</td><td>May</td><td>Male  </td><td>2-5 years</td><td>0</td><td>0</td><td>0</td><td>1</td><td> 4</td></tr>\n",
       "\t<tr><th scope=row>2</th><td>1</td><td>Dog</td><td>White </td><td>18</td><td>Jul</td><td>Male  </td><td>0-1 years</td><td>1</td><td>1</td><td>0</td><td>0</td><td>25</td></tr>\n",
       "\t<tr><th scope=row>3</th><td>3</td><td>Dog</td><td>Buff  </td><td>16</td><td>Feb</td><td>Male  </td><td>0-1 years</td><td>1</td><td>1</td><td>0</td><td>0</td><td> 5</td></tr>\n",
       "\t<tr><th scope=row>4</th><td>4</td><td>Cat</td><td>Orange</td><td>14</td><td>Mar</td><td>Male  </td><td>0-1 years</td><td>0</td><td>0</td><td>0</td><td>0</td><td>16</td></tr>\n",
       "\t<tr><th scope=row>5</th><td>5</td><td>Dog</td><td>Brown </td><td>20</td><td>Oct</td><td>Female</td><td>6-9 years</td><td>1</td><td>1</td><td>1</td><td>2</td><td> 4</td></tr>\n",
       "\t<tr><th scope=row>6</th><td>6</td><td>Dog</td><td>White </td><td>20</td><td>May</td><td>Male  </td><td>2-5 years</td><td>1</td><td>1</td><td>0</td><td>1</td><td>25</td></tr>\n",
       "</tbody>\n",
       "</table>\n"
      ],
      "text/latex": [
       "A data.frame: 6 × 12\n",
       "\\begin{tabular}{r|llllllllllll}\n",
       "  & X & Animal.Type & Color & Year & Month & Sex & Age & AdoptionYN & typeR & sexR & ageR & colorR\\\\\n",
       "  & <int> & <chr> & <chr> & <int> & <chr> & <chr> & <chr> & <int> & <int> & <int> & <dbl> & <int>\\\\\n",
       "\\hline\n",
       "\t1 & 0 & Cat & Brown  & 19 & May & Male   & 2-5 years & 0 & 0 & 0 & 1 &  4\\\\\n",
       "\t2 & 1 & Dog & White  & 18 & Jul & Male   & 0-1 years & 1 & 1 & 0 & 0 & 25\\\\\n",
       "\t3 & 3 & Dog & Buff   & 16 & Feb & Male   & 0-1 years & 1 & 1 & 0 & 0 &  5\\\\\n",
       "\t4 & 4 & Cat & Orange & 14 & Mar & Male   & 0-1 years & 0 & 0 & 0 & 0 & 16\\\\\n",
       "\t5 & 5 & Dog & Brown  & 20 & Oct & Female & 6-9 years & 1 & 1 & 1 & 2 &  4\\\\\n",
       "\t6 & 6 & Dog & White  & 20 & May & Male   & 2-5 years & 1 & 1 & 0 & 1 & 25\\\\\n",
       "\\end{tabular}\n"
      ],
      "text/markdown": [
       "\n",
       "A data.frame: 6 × 12\n",
       "\n",
       "| <!--/--> | X &lt;int&gt; | Animal.Type &lt;chr&gt; | Color &lt;chr&gt; | Year &lt;int&gt; | Month &lt;chr&gt; | Sex &lt;chr&gt; | Age &lt;chr&gt; | AdoptionYN &lt;int&gt; | typeR &lt;int&gt; | sexR &lt;int&gt; | ageR &lt;dbl&gt; | colorR &lt;int&gt; |\n",
       "|---|---|---|---|---|---|---|---|---|---|---|---|---|\n",
       "| 1 | 0 | Cat | Brown  | 19 | May | Male   | 2-5 years | 0 | 0 | 0 | 1 |  4 |\n",
       "| 2 | 1 | Dog | White  | 18 | Jul | Male   | 0-1 years | 1 | 1 | 0 | 0 | 25 |\n",
       "| 3 | 3 | Dog | Buff   | 16 | Feb | Male   | 0-1 years | 1 | 1 | 0 | 0 |  5 |\n",
       "| 4 | 4 | Cat | Orange | 14 | Mar | Male   | 0-1 years | 0 | 0 | 0 | 0 | 16 |\n",
       "| 5 | 5 | Dog | Brown  | 20 | Oct | Female | 6-9 years | 1 | 1 | 1 | 2 |  4 |\n",
       "| 6 | 6 | Dog | White  | 20 | May | Male   | 2-5 years | 1 | 1 | 0 | 1 | 25 |\n",
       "\n"
      ],
      "text/plain": [
       "  X Animal.Type Color  Year Month Sex    Age       AdoptionYN typeR sexR ageR\n",
       "1 0 Cat         Brown  19   May   Male   2-5 years 0          0     0    1   \n",
       "2 1 Dog         White  18   Jul   Male   0-1 years 1          1     0    0   \n",
       "3 3 Dog         Buff   16   Feb   Male   0-1 years 1          1     0    0   \n",
       "4 4 Cat         Orange 14   Mar   Male   0-1 years 0          0     0    0   \n",
       "5 5 Dog         Brown  20   Oct   Female 6-9 years 1          1     1    2   \n",
       "6 6 Dog         White  20   May   Male   2-5 years 1          1     0    1   \n",
       "  colorR\n",
       "1  4    \n",
       "2 25    \n",
       "3  5    \n",
       "4 16    \n",
       "5  4    \n",
       "6 25    "
      ]
     },
     "metadata": {},
     "output_type": "display_data"
    }
   ],
   "source": [
    "head(adoptions6)"
   ]
  },
  {
   "cell_type": "markdown",
   "id": "3e902dbd",
   "metadata": {},
   "source": [
    "### Independent Chi-Square for Animal Type"
   ]
  },
  {
   "cell_type": "code",
   "execution_count": 17,
   "id": "5d2cd455",
   "metadata": {},
   "outputs": [
    {
     "data": {
      "text/plain": [
       "\n",
       "\tPearson's Chi-squared test\n",
       "\n",
       "data:  adoptions6$Animal.Type and adoptions6$AdoptionYN\n",
       "X-squared = 121.3, df = 1, p-value < 2.2e-16\n"
      ]
     },
     "metadata": {},
     "output_type": "display_data"
    }
   ],
   "source": [
    "chisqType <- chisq.test(adoptions6$Animal.Type, adoptions6$AdoptionYN, correct=FALSE)\n",
    "chisqType"
   ]
  },
  {
   "cell_type": "markdown",
   "id": "0f1b857e",
   "metadata": {},
   "source": [
    "The p value is < .05 so animal type significantly influences adoption."
   ]
  },
  {
   "cell_type": "markdown",
   "id": "99bce72b",
   "metadata": {},
   "source": [
    "#### Post Hoc Analysis:  Standardized residuals"
   ]
  },
  {
   "cell_type": "code",
   "execution_count": 18,
   "id": "e79a0a97",
   "metadata": {},
   "outputs": [
    {
     "data": {
      "text/plain": [
       "                      adoptions6$AdoptionYN\n",
       "adoptions6$Animal.Type         0         1\n",
       "                   Cat -11.01364  11.01364\n",
       "                   Dog  11.01364 -11.01364"
      ]
     },
     "metadata": {},
     "output_type": "display_data"
    }
   ],
   "source": [
    "chisq.results <- chisqType\n",
    "chisq.results$stdres"
   ]
  },
  {
   "cell_type": "markdown",
   "id": "ce119b51",
   "metadata": {},
   "source": [
    "Cats were adopted more than expected, and Dogs were adopted less than expected."
   ]
  },
  {
   "cell_type": "markdown",
   "id": "881cfec1",
   "metadata": {},
   "source": [
    "### Independent Chi-Square for Sex"
   ]
  },
  {
   "cell_type": "code",
   "execution_count": 19,
   "id": "3aeb4981",
   "metadata": {},
   "outputs": [
    {
     "data": {
      "text/plain": [
       "\n",
       "\tPearson's Chi-squared test\n",
       "\n",
       "data:  adoptions6$Sex and adoptions6$AdoptionYN\n",
       "X-squared = 130.24, df = 1, p-value < 2.2e-16\n"
      ]
     },
     "metadata": {},
     "output_type": "display_data"
    }
   ],
   "source": [
    "chisqSex <- chisq.test(adoptions6$Sex, adoptions6$AdoptionYN, correct=FALSE)\n",
    "chisqSex"
   ]
  },
  {
   "cell_type": "markdown",
   "id": "d295f850",
   "metadata": {},
   "source": [
    "The p value is < .05 so sex of the animal significantly influences adoption."
   ]
  },
  {
   "cell_type": "markdown",
   "id": "31430c1e",
   "metadata": {},
   "source": [
    "#### Post Hoc Analysis: Standardized residuals"
   ]
  },
  {
   "cell_type": "code",
   "execution_count": 20,
   "id": "0267e06d",
   "metadata": {},
   "outputs": [
    {
     "data": {
      "text/plain": [
       "              adoptions6$AdoptionYN\n",
       "adoptions6$Sex         0         1\n",
       "        Female -11.41236  11.41236\n",
       "        Male    11.41236 -11.41236"
      ]
     },
     "metadata": {},
     "output_type": "display_data"
    }
   ],
   "source": [
    "chisq.results1 <- chisqSex\n",
    "chisq.results1$stdres"
   ]
  },
  {
   "cell_type": "markdown",
   "id": "5bb0ce31",
   "metadata": {},
   "source": [
    "Females were adopted more than expected, and Males were adopted less than expected."
   ]
  },
  {
   "cell_type": "markdown",
   "id": "45789f3c",
   "metadata": {},
   "source": [
    "### Independent Chi-Square for Age"
   ]
  },
  {
   "cell_type": "code",
   "execution_count": 21,
   "id": "2aed4bc5",
   "metadata": {},
   "outputs": [
    {
     "data": {
      "text/plain": [
       "\n",
       "\tPearson's Chi-squared test\n",
       "\n",
       "data:  adoptions6$Age and adoptions6$AdoptionYN\n",
       "X-squared = 4504.3, df = 4, p-value < 2.2e-16\n"
      ]
     },
     "metadata": {},
     "output_type": "display_data"
    }
   ],
   "source": [
    "chisqAge <- chisq.test(adoptions6$Age, adoptions6$AdoptionYN, correct=FALSE)\n",
    "chisqAge"
   ]
  },
  {
   "cell_type": "markdown",
   "id": "7abdcc1c",
   "metadata": {},
   "source": [
    "The p value is < .05 so animal age significantly influences adoption."
   ]
  },
  {
   "cell_type": "markdown",
   "id": "506614b5",
   "metadata": {},
   "source": [
    "#### Post Hoc Analysis: Standardized residuals"
   ]
  },
  {
   "cell_type": "code",
   "execution_count": 22,
   "id": "e6493b3b",
   "metadata": {},
   "outputs": [
    {
     "data": {
      "text/plain": [
       "              adoptions6$AdoptionYN\n",
       "adoptions6$Age         0         1\n",
       "   0-1 years   -63.89894  63.89894\n",
       "   10-15 years  32.38595 -32.38595\n",
       "   16+ years    12.84379 -12.84379\n",
       "   2-5 years    38.19677 -38.19677\n",
       "   6-9 years    26.11931 -26.11931"
      ]
     },
     "metadata": {},
     "output_type": "display_data"
    }
   ],
   "source": [
    "chisq.results2 <- chisqAge\n",
    "chisq.results2$stdres"
   ]
  },
  {
   "cell_type": "markdown",
   "id": "4650c90b",
   "metadata": {},
   "source": [
    "Animals 0-1 years old were adopted more than expected, and animals age 2 years and older were adopted less than expected."
   ]
  },
  {
   "cell_type": "markdown",
   "id": "e760bca3",
   "metadata": {},
   "source": [
    "### Independent Chi-Square for Color"
   ]
  },
  {
   "cell_type": "code",
   "execution_count": 23,
   "id": "5ee95900",
   "metadata": {},
   "outputs": [
    {
     "data": {
      "text/plain": [
       "\n",
       "\tPearson's Chi-squared test\n",
       "\n",
       "data:  adoptions6$Color and adoptions6$AdoptionYN\n",
       "X-squared = 437.48, df = 26, p-value < 2.2e-16\n"
      ]
     },
     "metadata": {},
     "output_type": "display_data"
    }
   ],
   "source": [
    "chisqColor <- chisq.test(adoptions6$Color, adoptions6$AdoptionYN, correct=FALSE)\n",
    "chisqColor"
   ]
  },
  {
   "cell_type": "markdown",
   "id": "4b7d3882",
   "metadata": {},
   "source": [
    "The p value is < .05 so animal color significantly influences adoption."
   ]
  },
  {
   "cell_type": "markdown",
   "id": "f684d1ce",
   "metadata": {},
   "source": [
    "#### Post Hoc Analysis: Standardized residuals"
   ]
  },
  {
   "cell_type": "code",
   "execution_count": 24,
   "id": "9bd74c65",
   "metadata": {},
   "outputs": [
    {
     "data": {
      "text/plain": [
       "                adoptions6$AdoptionYN\n",
       "adoptions6$Color           0           1\n",
       "     Agouti       -1.0648559   1.0648559\n",
       "     Apricot       2.0894432  -2.0894432\n",
       "     Black        -3.9606046   3.9606046\n",
       "     Blue         -4.4920428   4.4920428\n",
       "     Brown        -1.7864801   1.7864801\n",
       "     Buff          1.9391668  -1.9391668\n",
       "     Calico       -3.4970583   3.4970583\n",
       "     Chocolate     0.6294852  -0.6294852\n",
       "     Cream        -0.7846414   0.7846414\n",
       "     Fawn          3.6579131  -3.6579131\n",
       "     Flame Point  -2.3706017   2.3706017\n",
       "     Gold          4.6763606  -4.6763606\n",
       "     Gray         12.8314493 -12.8314493\n",
       "     Lilac Point   1.3274990  -1.3274990\n",
       "     Liver         2.1438677  -2.1438677\n",
       "     Lynx Point   -3.7733059   3.7733059\n",
       "     Orange       -1.3586714   1.3586714\n",
       "     Red           1.1696190  -1.1696190\n",
       "     Sable        -2.5000820   2.5000820\n",
       "     Seal Point    0.0690797  -0.0690797\n",
       "     Silver        2.6230036  -2.6230036\n",
       "     Tan          -0.5934939   0.5934939\n",
       "     Torbie       -5.2505765   5.2505765\n",
       "     Tortie       -1.5622965   1.5622965\n",
       "     Tricolor     -2.3496334   2.3496334\n",
       "     White        10.5752768 -10.5752768\n",
       "     Yellow        3.2192079  -3.2192079"
      ]
     },
     "metadata": {},
     "output_type": "display_data"
    }
   ],
   "source": [
    "chisq.results3 <- chisqColor\n",
    "chisq.results3$stdres"
   ]
  },
  {
   "cell_type": "markdown",
   "id": "a4a85176",
   "metadata": {},
   "source": [
    "Black, Blue, Calico, Flame Point, Lynx Point, Sable, Torbie, and Tricolor were adopted more than expected.\n",
    "Apricot, Fawn, Gold, Liver, Silver, White, and Yellow were adopted less than expected."
   ]
  },
  {
   "cell_type": "markdown",
   "id": "6c40110a",
   "metadata": {},
   "source": [
    "### Independent Chi-Square for Month"
   ]
  },
  {
   "cell_type": "code",
   "execution_count": 25,
   "id": "51fb21ab",
   "metadata": {},
   "outputs": [
    {
     "data": {
      "text/plain": [
       "\n",
       "\tPearson's Chi-squared test\n",
       "\n",
       "data:  adoptions6$Month and adoptions6$AdoptionYN\n",
       "X-squared = 814.99, df = 11, p-value < 2.2e-16\n"
      ]
     },
     "metadata": {},
     "output_type": "display_data"
    }
   ],
   "source": [
    "chisqMonth <- chisq.test(adoptions6$Month, adoptions6$AdoptionYN, correct=FALSE)\n",
    "chisqMonth"
   ]
  },
  {
   "cell_type": "markdown",
   "id": "c189ebad",
   "metadata": {},
   "source": [
    "The p value is < .05 so month of year significantly influences adoption."
   ]
  },
  {
   "cell_type": "markdown",
   "id": "1fc5cc6e",
   "metadata": {},
   "source": [
    "#### Post Hoc Analysis: Standardized residuals"
   ]
  },
  {
   "cell_type": "code",
   "execution_count": 26,
   "id": "252619d2",
   "metadata": {},
   "outputs": [
    {
     "data": {
      "text/plain": [
       "                adoptions6$AdoptionYN\n",
       "adoptions6$Month           0           1\n",
       "             Apr  16.3739200 -16.3739200\n",
       "             Aug -10.1715731  10.1715731\n",
       "             Dec -14.3113816  14.3113816\n",
       "             Feb  -1.7335815   1.7335815\n",
       "             Jan  -2.8773895   2.8773895\n",
       "             Jul  -8.6114198   8.6114198\n",
       "             Jun   0.5208206  -0.5208206\n",
       "             Mar   7.6436816  -7.6436816\n",
       "             May  12.7049122 -12.7049122\n",
       "             Nov   0.5466077  -0.5466077\n",
       "             Oct   1.5289754  -1.5289754\n",
       "             Sep   1.3572721  -1.3572721"
      ]
     },
     "metadata": {},
     "output_type": "display_data"
    }
   ],
   "source": [
    "chisq.results4 <- chisqMonth\n",
    "chisq.results4$stdres"
   ]
  },
  {
   "cell_type": "markdown",
   "id": "dc85f74f",
   "metadata": {},
   "source": [
    "More adoptions occurred in August, December, January, and July than expected.\n",
    "Fewer adoptions occurred in April, March, and May than expected."
   ]
  },
  {
   "cell_type": "code",
   "execution_count": null,
   "id": "a97a3b97",
   "metadata": {},
   "outputs": [],
   "source": []
  }
 ],
 "metadata": {
  "kernelspec": {
   "display_name": "R",
   "language": "R",
   "name": "ir"
  },
  "language_info": {
   "codemirror_mode": "r",
   "file_extension": ".r",
   "mimetype": "text/x-r-source",
   "name": "R",
   "pygments_lexer": "r",
   "version": "4.1.1"
  }
 },
 "nbformat": 4,
 "nbformat_minor": 5
}
