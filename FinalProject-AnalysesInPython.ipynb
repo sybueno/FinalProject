{
 "cells": [
  {
   "cell_type": "markdown",
   "id": "a5bd47f2",
   "metadata": {},
   "source": [
    "# Data Science Final Project - Shelter Animal Adoptions"
   ]
  },
  {
   "cell_type": "markdown",
   "id": "d83956c7",
   "metadata": {},
   "source": [
    "## Analyses in Python"
   ]
  },
  {
   "cell_type": "markdown",
   "id": "0681b76c",
   "metadata": {},
   "source": [
    "## Q1. Are animal type, sex, age, and color significant predictors of shelter dog and cat adoption?"
   ]
  },
  {
   "cell_type": "markdown",
   "id": "aca40b3e",
   "metadata": {},
   "source": [
    "### Import packages"
   ]
  },
  {
   "cell_type": "code",
   "execution_count": 1,
   "id": "7b79d995",
   "metadata": {},
   "outputs": [],
   "source": [
    "import pandas as pd\n",
    "import numpy as np\n",
    "import matplotlib.pyplot as plt\n",
    "import seaborn as sns\n",
    "%matplotlib inline\n",
    "from sklearn.model_selection import train_test_split\n",
    "from sklearn.ensemble import RandomForestClassifier\n",
    "from sklearn.metrics import classification_report, confusion_matrix\n",
    "from sklearn.preprocessing import OneHotEncoder"
   ]
  },
  {
   "cell_type": "markdown",
   "id": "766011c8",
   "metadata": {},
   "source": [
    "### Load Data"
   ]
  },
  {
   "cell_type": "code",
   "execution_count": 2,
   "id": "2f14d906",
   "metadata": {},
   "outputs": [],
   "source": [
    "adoptions7 = pd.read_csv(\"C:/Users/bueno/OneDrive/Documents/GitHub/FinalProject/data/adoptions5.csv\")"
   ]
  },
  {
   "cell_type": "code",
   "execution_count": 3,
   "id": "1e70d01a",
   "metadata": {},
   "outputs": [
    {
     "data": {
      "text/html": [
       "<div>\n",
       "<style scoped>\n",
       "    .dataframe tbody tr th:only-of-type {\n",
       "        vertical-align: middle;\n",
       "    }\n",
       "\n",
       "    .dataframe tbody tr th {\n",
       "        vertical-align: top;\n",
       "    }\n",
       "\n",
       "    .dataframe thead th {\n",
       "        text-align: right;\n",
       "    }\n",
       "</style>\n",
       "<table border=\"1\" class=\"dataframe\">\n",
       "  <thead>\n",
       "    <tr style=\"text-align: right;\">\n",
       "      <th></th>\n",
       "      <th>Unnamed: 0</th>\n",
       "      <th>Animal Type</th>\n",
       "      <th>Color</th>\n",
       "      <th>Year</th>\n",
       "      <th>Month</th>\n",
       "      <th>Sex</th>\n",
       "      <th>Age</th>\n",
       "      <th>AdoptionYN</th>\n",
       "      <th>typeR</th>\n",
       "      <th>sexR</th>\n",
       "      <th>ageR</th>\n",
       "      <th>colorR</th>\n",
       "    </tr>\n",
       "  </thead>\n",
       "  <tbody>\n",
       "    <tr>\n",
       "      <th>0</th>\n",
       "      <td>0</td>\n",
       "      <td>Cat</td>\n",
       "      <td>Brown</td>\n",
       "      <td>19</td>\n",
       "      <td>May</td>\n",
       "      <td>Male</td>\n",
       "      <td>2-5 years</td>\n",
       "      <td>0</td>\n",
       "      <td>0</td>\n",
       "      <td>0</td>\n",
       "      <td>1.0</td>\n",
       "      <td>4</td>\n",
       "    </tr>\n",
       "    <tr>\n",
       "      <th>1</th>\n",
       "      <td>1</td>\n",
       "      <td>Dog</td>\n",
       "      <td>White</td>\n",
       "      <td>18</td>\n",
       "      <td>Jul</td>\n",
       "      <td>Male</td>\n",
       "      <td>0-1 years</td>\n",
       "      <td>1</td>\n",
       "      <td>1</td>\n",
       "      <td>0</td>\n",
       "      <td>0.0</td>\n",
       "      <td>25</td>\n",
       "    </tr>\n",
       "    <tr>\n",
       "      <th>2</th>\n",
       "      <td>3</td>\n",
       "      <td>Dog</td>\n",
       "      <td>Buff</td>\n",
       "      <td>16</td>\n",
       "      <td>Feb</td>\n",
       "      <td>Male</td>\n",
       "      <td>0-1 years</td>\n",
       "      <td>1</td>\n",
       "      <td>1</td>\n",
       "      <td>0</td>\n",
       "      <td>0.0</td>\n",
       "      <td>5</td>\n",
       "    </tr>\n",
       "    <tr>\n",
       "      <th>3</th>\n",
       "      <td>4</td>\n",
       "      <td>Cat</td>\n",
       "      <td>Orange</td>\n",
       "      <td>14</td>\n",
       "      <td>Mar</td>\n",
       "      <td>Male</td>\n",
       "      <td>0-1 years</td>\n",
       "      <td>0</td>\n",
       "      <td>0</td>\n",
       "      <td>0</td>\n",
       "      <td>0.0</td>\n",
       "      <td>16</td>\n",
       "    </tr>\n",
       "    <tr>\n",
       "      <th>4</th>\n",
       "      <td>5</td>\n",
       "      <td>Dog</td>\n",
       "      <td>Brown</td>\n",
       "      <td>20</td>\n",
       "      <td>Oct</td>\n",
       "      <td>Female</td>\n",
       "      <td>6-9 years</td>\n",
       "      <td>1</td>\n",
       "      <td>1</td>\n",
       "      <td>1</td>\n",
       "      <td>2.0</td>\n",
       "      <td>4</td>\n",
       "    </tr>\n",
       "  </tbody>\n",
       "</table>\n",
       "</div>"
      ],
      "text/plain": [
       "   Unnamed: 0 Animal Type   Color  Year Month     Sex        Age  AdoptionYN  \\\n",
       "0           0         Cat   Brown    19   May    Male  2-5 years           0   \n",
       "1           1         Dog   White    18   Jul    Male  0-1 years           1   \n",
       "2           3         Dog    Buff    16   Feb    Male  0-1 years           1   \n",
       "3           4         Cat  Orange    14   Mar    Male  0-1 years           0   \n",
       "4           5         Dog   Brown    20   Oct  Female  6-9 years           1   \n",
       "\n",
       "   typeR  sexR  ageR  colorR  \n",
       "0      0     0   1.0       4  \n",
       "1      1     0   0.0      25  \n",
       "2      1     0   0.0       5  \n",
       "3      0     0   0.0      16  \n",
       "4      1     1   2.0       4  "
      ]
     },
     "execution_count": 3,
     "metadata": {},
     "output_type": "execute_result"
    }
   ],
   "source": [
    "adoptions7.head()"
   ]
  },
  {
   "cell_type": "markdown",
   "id": "a07feb78",
   "metadata": {},
   "source": [
    "## Data Wrangling"
   ]
  },
  {
   "cell_type": "markdown",
   "id": "22a81f03",
   "metadata": {},
   "source": [
    "### Drop \"Unnamed:0\" column"
   ]
  },
  {
   "cell_type": "code",
   "execution_count": 4,
   "id": "25471de2",
   "metadata": {},
   "outputs": [],
   "source": [
    "adoptions7.drop('Unnamed: 0', axis=1, inplace=True)"
   ]
  },
  {
   "cell_type": "code",
   "execution_count": 5,
   "id": "212f4e0c",
   "metadata": {},
   "outputs": [
    {
     "data": {
      "text/html": [
       "<div>\n",
       "<style scoped>\n",
       "    .dataframe tbody tr th:only-of-type {\n",
       "        vertical-align: middle;\n",
       "    }\n",
       "\n",
       "    .dataframe tbody tr th {\n",
       "        vertical-align: top;\n",
       "    }\n",
       "\n",
       "    .dataframe thead th {\n",
       "        text-align: right;\n",
       "    }\n",
       "</style>\n",
       "<table border=\"1\" class=\"dataframe\">\n",
       "  <thead>\n",
       "    <tr style=\"text-align: right;\">\n",
       "      <th></th>\n",
       "      <th>Animal Type</th>\n",
       "      <th>Color</th>\n",
       "      <th>Year</th>\n",
       "      <th>Month</th>\n",
       "      <th>Sex</th>\n",
       "      <th>Age</th>\n",
       "      <th>AdoptionYN</th>\n",
       "      <th>typeR</th>\n",
       "      <th>sexR</th>\n",
       "      <th>ageR</th>\n",
       "      <th>colorR</th>\n",
       "    </tr>\n",
       "  </thead>\n",
       "  <tbody>\n",
       "    <tr>\n",
       "      <th>0</th>\n",
       "      <td>Cat</td>\n",
       "      <td>Brown</td>\n",
       "      <td>19</td>\n",
       "      <td>May</td>\n",
       "      <td>Male</td>\n",
       "      <td>2-5 years</td>\n",
       "      <td>0</td>\n",
       "      <td>0</td>\n",
       "      <td>0</td>\n",
       "      <td>1.0</td>\n",
       "      <td>4</td>\n",
       "    </tr>\n",
       "    <tr>\n",
       "      <th>1</th>\n",
       "      <td>Dog</td>\n",
       "      <td>White</td>\n",
       "      <td>18</td>\n",
       "      <td>Jul</td>\n",
       "      <td>Male</td>\n",
       "      <td>0-1 years</td>\n",
       "      <td>1</td>\n",
       "      <td>1</td>\n",
       "      <td>0</td>\n",
       "      <td>0.0</td>\n",
       "      <td>25</td>\n",
       "    </tr>\n",
       "    <tr>\n",
       "      <th>2</th>\n",
       "      <td>Dog</td>\n",
       "      <td>Buff</td>\n",
       "      <td>16</td>\n",
       "      <td>Feb</td>\n",
       "      <td>Male</td>\n",
       "      <td>0-1 years</td>\n",
       "      <td>1</td>\n",
       "      <td>1</td>\n",
       "      <td>0</td>\n",
       "      <td>0.0</td>\n",
       "      <td>5</td>\n",
       "    </tr>\n",
       "    <tr>\n",
       "      <th>3</th>\n",
       "      <td>Cat</td>\n",
       "      <td>Orange</td>\n",
       "      <td>14</td>\n",
       "      <td>Mar</td>\n",
       "      <td>Male</td>\n",
       "      <td>0-1 years</td>\n",
       "      <td>0</td>\n",
       "      <td>0</td>\n",
       "      <td>0</td>\n",
       "      <td>0.0</td>\n",
       "      <td>16</td>\n",
       "    </tr>\n",
       "    <tr>\n",
       "      <th>4</th>\n",
       "      <td>Dog</td>\n",
       "      <td>Brown</td>\n",
       "      <td>20</td>\n",
       "      <td>Oct</td>\n",
       "      <td>Female</td>\n",
       "      <td>6-9 years</td>\n",
       "      <td>1</td>\n",
       "      <td>1</td>\n",
       "      <td>1</td>\n",
       "      <td>2.0</td>\n",
       "      <td>4</td>\n",
       "    </tr>\n",
       "  </tbody>\n",
       "</table>\n",
       "</div>"
      ],
      "text/plain": [
       "  Animal Type   Color  Year Month     Sex        Age  AdoptionYN  typeR  sexR  \\\n",
       "0         Cat   Brown    19   May    Male  2-5 years           0      0     0   \n",
       "1         Dog   White    18   Jul    Male  0-1 years           1      1     0   \n",
       "2         Dog    Buff    16   Feb    Male  0-1 years           1      1     0   \n",
       "3         Cat  Orange    14   Mar    Male  0-1 years           0      0     0   \n",
       "4         Dog   Brown    20   Oct  Female  6-9 years           1      1     1   \n",
       "\n",
       "   ageR  colorR  \n",
       "0   1.0       4  \n",
       "1   0.0      25  \n",
       "2   0.0       5  \n",
       "3   0.0      16  \n",
       "4   2.0       4  "
      ]
     },
     "execution_count": 5,
     "metadata": {},
     "output_type": "execute_result"
    }
   ],
   "source": [
    "adoptions7.head()"
   ]
  },
  {
   "cell_type": "markdown",
   "id": "342d6999",
   "metadata": {},
   "source": [
    "### Drop null or infinite values"
   ]
  },
  {
   "cell_type": "code",
   "execution_count": 6,
   "id": "582ab146",
   "metadata": {},
   "outputs": [],
   "source": [
    "adoptions7.replace([np.inf, -np.inf], np.nan, inplace=True)"
   ]
  },
  {
   "cell_type": "code",
   "execution_count": 7,
   "id": "90144728",
   "metadata": {},
   "outputs": [],
   "source": [
    "adoptions7 = adoptions7.reset_index()"
   ]
  },
  {
   "cell_type": "code",
   "execution_count": 8,
   "id": "c2689809",
   "metadata": {},
   "outputs": [],
   "source": [
    "adoptions7 = adoptions7.dropna()"
   ]
  },
  {
   "cell_type": "code",
   "execution_count": 9,
   "id": "8cf15cb7",
   "metadata": {},
   "outputs": [
    {
     "name": "stdout",
     "output_type": "stream",
     "text": [
      "<class 'pandas.core.frame.DataFrame'>\n",
      "Int64Index: 118333 entries, 0 to 118738\n",
      "Data columns (total 12 columns):\n",
      " #   Column       Non-Null Count   Dtype  \n",
      "---  ------       --------------   -----  \n",
      " 0   index        118333 non-null  int64  \n",
      " 1   Animal Type  118333 non-null  object \n",
      " 2   Color        118333 non-null  object \n",
      " 3   Year         118333 non-null  int64  \n",
      " 4   Month        118333 non-null  object \n",
      " 5   Sex          118333 non-null  object \n",
      " 6   Age          118333 non-null  object \n",
      " 7   AdoptionYN   118333 non-null  int64  \n",
      " 8   typeR        118333 non-null  int64  \n",
      " 9   sexR         118333 non-null  int64  \n",
      " 10  ageR         118333 non-null  float64\n",
      " 11  colorR       118333 non-null  int64  \n",
      "dtypes: float64(1), int64(6), object(5)\n",
      "memory usage: 11.7+ MB\n"
     ]
    }
   ],
   "source": [
    "adoptions7.info()"
   ]
  },
  {
   "cell_type": "markdown",
   "id": "9ec0a17e",
   "metadata": {},
   "source": [
    "### Convert float to int"
   ]
  },
  {
   "cell_type": "code",
   "execution_count": 10,
   "id": "69d98a65",
   "metadata": {},
   "outputs": [],
   "source": [
    "adoptions7['ageR'] = adoptions7['ageR'].astype(int)"
   ]
  },
  {
   "cell_type": "code",
   "execution_count": 11,
   "id": "8c2374bf",
   "metadata": {},
   "outputs": [
    {
     "name": "stdout",
     "output_type": "stream",
     "text": [
      "<class 'pandas.core.frame.DataFrame'>\n",
      "Int64Index: 118333 entries, 0 to 118738\n",
      "Data columns (total 12 columns):\n",
      " #   Column       Non-Null Count   Dtype \n",
      "---  ------       --------------   ----- \n",
      " 0   index        118333 non-null  int64 \n",
      " 1   Animal Type  118333 non-null  object\n",
      " 2   Color        118333 non-null  object\n",
      " 3   Year         118333 non-null  int64 \n",
      " 4   Month        118333 non-null  object\n",
      " 5   Sex          118333 non-null  object\n",
      " 6   Age          118333 non-null  object\n",
      " 7   AdoptionYN   118333 non-null  int64 \n",
      " 8   typeR        118333 non-null  int64 \n",
      " 9   sexR         118333 non-null  int64 \n",
      " 10  ageR         118333 non-null  int32 \n",
      " 11  colorR       118333 non-null  int64 \n",
      "dtypes: int32(1), int64(6), object(5)\n",
      "memory usage: 11.3+ MB\n"
     ]
    }
   ],
   "source": [
    "adoptions7.info()"
   ]
  },
  {
   "cell_type": "markdown",
   "id": "4db8d822",
   "metadata": {},
   "source": [
    "## Python Analysis 1"
   ]
  },
  {
   "cell_type": "markdown",
   "id": "a045fc0a",
   "metadata": {},
   "source": [
    "## Create a Random Forest to classify predictor variables"
   ]
  },
  {
   "cell_type": "markdown",
   "id": "183199e0",
   "metadata": {},
   "source": [
    "### Subset data into x and y variables"
   ]
  },
  {
   "cell_type": "code",
   "execution_count": 12,
   "id": "f4863819",
   "metadata": {},
   "outputs": [],
   "source": [
    "x = adoptions7.drop(['Animal Type', 'Color', 'Year', 'Month', 'Sex', 'Age', 'AdoptionYN'], axis=1)\n",
    "y = adoptions7['AdoptionYN']"
   ]
  },
  {
   "cell_type": "markdown",
   "id": "655797de",
   "metadata": {},
   "source": [
    "### Train Test Split"
   ]
  },
  {
   "cell_type": "code",
   "execution_count": 13,
   "id": "52e9bb77",
   "metadata": {},
   "outputs": [],
   "source": [
    "x_train, x_test, y_train, y_test = train_test_split(x,y, test_size=0.3)"
   ]
  },
  {
   "cell_type": "markdown",
   "id": "d41df273",
   "metadata": {},
   "source": [
    "### Random Forest Model"
   ]
  },
  {
   "cell_type": "code",
   "execution_count": 14,
   "id": "a9fe63ee",
   "metadata": {},
   "outputs": [
    {
     "data": {
      "text/plain": [
       "RandomForestClassifier(n_estimators=500)"
      ]
     },
     "execution_count": 14,
     "metadata": {},
     "output_type": "execute_result"
    }
   ],
   "source": [
    "forest = RandomForestClassifier(n_estimators=500)\n",
    "forest.fit(x_train, y_train)"
   ]
  },
  {
   "cell_type": "markdown",
   "id": "c5b3f2f2",
   "metadata": {},
   "source": [
    "### Create predictions set and print confusion matrix and classification report"
   ]
  },
  {
   "cell_type": "code",
   "execution_count": 15,
   "id": "f08be529",
   "metadata": {},
   "outputs": [
    {
     "name": "stdout",
     "output_type": "stream",
     "text": [
      "[[9576 8227]\n",
      " [8453 9244]]\n",
      "              precision    recall  f1-score   support\n",
      "\n",
      "           0       0.53      0.54      0.53     17803\n",
      "           1       0.53      0.52      0.53     17697\n",
      "\n",
      "    accuracy                           0.53     35500\n",
      "   macro avg       0.53      0.53      0.53     35500\n",
      "weighted avg       0.53      0.53      0.53     35500\n",
      "\n"
     ]
    }
   ],
   "source": [
    "forestPredictions = forest.predict(x_test)\n",
    "print(confusion_matrix(y_test, forestPredictions))\n",
    "print(classification_report(y_test, forestPredictions))"
   ]
  },
  {
   "cell_type": "markdown",
   "id": "8b242a4e",
   "metadata": {},
   "source": [
    "### Discovery:  Since the predictor variables don't influence each other, a random forest model is not an effective predictive model."
   ]
  }
 ],
 "metadata": {
  "kernelspec": {
   "display_name": "Python 3",
   "language": "python",
   "name": "python3"
  },
  "language_info": {
   "codemirror_mode": {
    "name": "ipython",
    "version": 3
   },
   "file_extension": ".py",
   "mimetype": "text/x-python",
   "name": "python",
   "nbconvert_exporter": "python",
   "pygments_lexer": "ipython3",
   "version": "3.8.8"
  }
 },
 "nbformat": 4,
 "nbformat_minor": 5
}
